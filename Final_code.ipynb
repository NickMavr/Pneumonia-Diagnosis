{
  "cells": [
    {
      "cell_type": "code",
      "execution_count": null,
      "metadata": {
        "id": "3ChejdqBbv_t"
      },
      "outputs": [],
      "source": [
        "#import several libraries\n",
        "import os\n",
        "import cv2\n",
        "import pickle\n",
        "import numpy as np\n",
        "import pandas as pd\n",
        "import matplotlib.pyplot as plt\n",
        "import seaborn as sns\n",
        "from tqdm import tqdm\n",
        "from google.colab import drive\n",
        "import tensorflow as tf\n",
        "from sklearn.preprocessing import OneHotEncoder\n",
        "from sklearn.metrics import confusion_matrix\n",
        "from keras import optimizers\n",
        "from keras.models import Model, load_model, Sequential\n",
        "from keras.layers import Dense, Input, Conv2D, MaxPool2D, Flatten, Dropout, BatchNormalization, GlobalAveragePooling2D\n",
        "from keras.layers import Conv2D, SeparableConv2D, MaxPool2D, LeakyReLU, Activation\n",
        "from keras.callbacks import ModelCheckpoint, ReduceLROnPlateau, EarlyStopping\n",
        "from keras.regularizers import L1L2\n",
        "from keras.preprocessing.image import ImageDataGenerator\n",
        "import csv"
      ]
    },
    {
      "cell_type": "code",
      "execution_count": null,
      "metadata": {
        "colab": {
          "base_uri": "https://localhost:8080/"
        },
        "id": "5Z92oHiNcJBD",
        "outputId": "7064c15e-2b33-4ebf-aa89-41655dd27fab"
      },
      "outputs": [
        {
          "output_type": "stream",
          "name": "stdout",
          "text": [
            "Mounted at /content/gdrive\n",
            "'Colab Notebooks'   ColabNotebooks\n",
            "/content/gdrive/MyDrive/ColabNotebooks/inputs\n",
            "/content/gdrive/MyDrive/ColabNotebooks/inputs\n",
            "Downloading detect-pneumonia-spring-2024.zip to /content/gdrive/MyDrive/ColabNotebooks/inputs\n",
            "100% 1.13G/1.14G [00:14<00:00, 78.7MB/s]\n",
            "100% 1.14G/1.14G [00:14<00:00, 85.4MB/s]\n",
            "best_model_EfficientNetV2M_2.hdf5  final_submission412.csv\n",
            "best_model_EfficientNetV2M_3.hdf5  final_submission4244.csv\n",
            "best_model_EfficientNetV2M.hdf5    final_submission46.csv\n",
            "best_model_effnetB0.hdf5\t   final_submission52.csv\n",
            "best_model_effnetB1.hdf5\t   final_submission53.csv\n",
            "best_model_effnetB2.hdf5\t   final_submission649.csv\n",
            "best_model_effnetB3_1.hdf5\t   final_submission657.csv\n",
            "best_model_effnetB3_2.hdf5\t   final_submission658.csv\n",
            "best_model_effnetB3_3.hdf5\t   final_submission659.csv\n",
            "best_model_effnetB3_4.hdf5\t   final_submission682.csv\n",
            "best_model_effnetB3_5.hdf5\t   final_submission8924.csv\n",
            "best_model_effnetB3_6.hdf5\t   final_submission9876.csv\n",
            "best_model_effnetB3_7.hdf5\t   final_submission98.csv\n",
            "best_model_effnetB3.hdf5\t   final_submission.csv\n",
            "best_model_effnetV2B0.hdf5\t   final_submission_EfficientNetV2M_50epochs_40.csv\n",
            "best_model_effnetV2B1.hdf5\t   final_submission_EfficientNetV2M_vol2.csv\n",
            "best_model_effnetV2B2.hdf5\t   final_submission_EfficientNetV2M_vol3.csv\n",
            "best_model_effnetV2B3.hdf5\t   kaggle.json\n",
            "best_model_Mobnet.hdf5\t\t   labels_train.csv\n",
            "best_model_MobnetV2.hdf5\t   pneumonia_dt.pickle\n",
            "detect-pneumonia-spring-2024.zip   pneumonia_dt_test.pickle\n",
            "final_submission115.csv\t\t   submission3.csv\n",
            "final_submission235543.csv\t   test_images\n",
            "final_submission2356.csv\t   train_images\n",
            "final_submission345.csv\n",
            "Archive:  detect-pneumonia-spring-2024.zip\n",
            "replace labels_train.csv? [y]es, [n]o, [A]ll, [N]one, [r]ename: N\n"
          ]
        }
      ],
      "source": [
        "#snippet to Google Colab and set up access to Google Drive, downloading data from Kaggle, and unzip the downloaded files.\n",
        "from google.colab import drive\n",
        "drive.mount('/content/gdrive')\n",
        "!ls /content/gdrive/MyDrive/\n",
        "os.environ['KAGGLE_CONFIG_DIR'] = \"/content/gdrive/MyDrive/ColabNotebooks/inputs\"\n",
        "#changing the working directory\n",
        "%cd \"/content/gdrive/MyDrive/ColabNotebooks/inputs\"\n",
        "#Check the present working directory using pwd command\n",
        "!pwd\n",
        "\n",
        "#kaggle API file\n",
        "! kaggle competitions download -c detect-pneumonia-spring-2024\n",
        "\n",
        "!ls\n",
        "\n",
        "#unzipping the zip files and deleting the zip files\n",
        "!unzip \\*.zip  && rm *.zip\n",
        "\n"
      ]
    },
    {
      "cell_type": "code",
      "execution_count": null,
      "metadata": {
        "id": "U4zPS2DDevQY"
      },
      "outputs": [],
      "source": [
        "#define function to load and preprocess normal X-ray images from a training dataset\n",
        "def load_normal(norm_path, labels_path):\n",
        "    norm_files = np.array(os.listdir(norm_path))\n",
        "    labels = pd.read_csv(labels_path)\n",
        "\n",
        "    norm_images = []\n",
        "    norm_labels = []\n",
        "    BLACK =[0,0,0]\n",
        "    for image in norm_files:\n",
        "\n",
        "        #get the label of each image in a list\n",
        "        a = labels[labels[\"file_name\"]==str(image)].index.values\n",
        "        b = labels.iloc[a][\"class_id\"].values\n",
        "        norm_labels.append(b)\n",
        "\n",
        "        #transform the images\n",
        "        path = norm_path + \"/\" + image\n",
        "        image = cv2.imread(path)\n",
        "        im_height, im_width, channels = image.shape\n",
        "        if im_height > im_width:\n",
        "          x2 = im_height - im_width\n",
        "          x1 = 0\n",
        "        else:\n",
        "          x1 = im_width - im_height\n",
        "          x2 = 0\n",
        "        constant= cv2.copyMakeBorder(image,x1,x1,x2,x2,cv2.BORDER_CONSTANT, value=BLACK)\n",
        "        image = cv2.resize(constant, dsize=(224,224))\n",
        "        norm_images.append(image)\n",
        "\n",
        "\n",
        "    norm_images = np.array(norm_images)\n",
        "    norm_labels = np.array(norm_labels)\n",
        "\n",
        "    return norm_images, norm_labels"
      ]
    },
    {
      "cell_type": "code",
      "execution_count": null,
      "metadata": {
        "id": "r6wb3SG4Eo8x"
      },
      "outputs": [],
      "source": [
        "#define function to load and preprocess normal X-ray images from a test dataset.\n",
        "def load_normal_test(norm_path):\n",
        "\n",
        "    norm_files = np.array(os.listdir(norm_path))\n",
        "    norm_images = []\n",
        "    image_names = []\n",
        "    BLACK =[0,0,0]\n",
        "\n",
        "    for image in norm_files:\n",
        "\n",
        "        image_names.append(image)\n",
        "        #transform the images\n",
        "        path = norm_path + \"/\" + image\n",
        "        image = cv2.imread(path)\n",
        "        im_height, im_width, channels = image.shape\n",
        "        if im_height > im_width:\n",
        "          x2 = im_height - im_width\n",
        "          x1 = 0\n",
        "        else:\n",
        "          x1 = im_width - im_height\n",
        "          x2 = 0\n",
        "        constant= cv2.copyMakeBorder(image,x1,x1,x2,x2,cv2.BORDER_CONSTANT, value=BLACK)\n",
        "        image = cv2.resize(constant, dsize=(224,224))\n",
        "        norm_images.append(image)\n",
        "\n",
        "\n",
        "    norm_images = np.array(norm_images)\n",
        "    image_names = np.array(image_names)\n",
        "\n",
        "    return norm_images, image_names"
      ]
    },
    {
      "cell_type": "code",
      "execution_count": null,
      "metadata": {
        "id": "X8i3T421YU1S"
      },
      "outputs": [],
      "source": [
        "#use the load_normal() function to load and preprocess normal X-ray images along with their labels from a training dataset\n",
        "norm_images, norm_labels =  load_normal('/content/gdrive/MyDrive/ColabNotebooks/inputs/train_images/train_images', '/content/gdrive/MyDrive/ColabNotebooks/inputs/labels_train.csv')\n"
      ]
    },
    {
      "cell_type": "code",
      "execution_count": null,
      "metadata": {
        "id": "IW6CPtAuabrz"
      },
      "outputs": [],
      "source": [
        "#use the load_normal_test() function to load and preprocess normal X-ray images along with their labels from a test dataset\n",
        "norm_images_test, names =  load_normal_test('/content/gdrive/MyDrive/ColabNotebooks/inputs/test_images/test_images')\n"
      ]
    },
    {
      "cell_type": "code",
      "execution_count": null,
      "metadata": {
        "id": "g0JGJtN0cImV",
        "colab": {
          "base_uri": "https://localhost:8080/"
        },
        "outputId": "5d4d8f8c-f49b-417f-e6e4-7f73f25ee7ab"
      },
      "outputs": [
        {
          "output_type": "execute_result",
          "data": {
            "text/plain": [
              "(4672, 224, 224, 3)"
            ]
          },
          "metadata": {},
          "execution_count": 7
        }
      ],
      "source": [
        "#shape of the X_train variable which contains the processed images from the training dataset\n",
        "X_train = norm_images\n",
        "X_train.shape"
      ]
    },
    {
      "cell_type": "code",
      "execution_count": null,
      "metadata": {
        "id": "PRbr8D3Xcnht",
        "colab": {
          "base_uri": "https://localhost:8080/"
        },
        "outputId": "ccbd8e1f-fc0f-4573-d164-3f923879f35f"
      },
      "outputs": [
        {
          "output_type": "execute_result",
          "data": {
            "text/plain": [
              "(4672, 1)"
            ]
          },
          "metadata": {},
          "execution_count": 8
        }
      ],
      "source": [
        "#shape for y_train that contains the labels for the corresponding images in X_train\n",
        "y_train = norm_labels\n",
        "y_train.shape"
      ]
    },
    {
      "cell_type": "code",
      "execution_count": null,
      "metadata": {
        "id": "MWhHohnKcslI",
        "colab": {
          "base_uri": "https://localhost:8080/"
        },
        "outputId": "acd1601a-33ac-4120-b2ab-fa327435b02d"
      },
      "outputs": [
        {
          "output_type": "execute_result",
          "data": {
            "text/plain": [
              "(1168, 224, 224, 3)"
            ]
          },
          "metadata": {},
          "execution_count": 9
        }
      ],
      "source": [
        "#the shape (number_of_images, height, width, channels) for X_test that contains the processed images from the test dataset\n",
        "X_test = norm_images_test\n",
        "X_test.shape\n"
      ]
    },
    {
      "cell_type": "code",
      "execution_count": null,
      "metadata": {
        "id": "HM2tM4QScuru",
        "colab": {
          "base_uri": "https://localhost:8080/",
          "height": 232
        },
        "outputId": "159d7059-199d-43a7-e3fc-359019872cef"
      },
      "outputs": [
        {
          "output_type": "display_data",
          "data": {
            "text/plain": [
              "<Figure size 1600x400 with 20 Axes>"
            ],
            "image/png": "[encoded data removed]"
          },
          "metadata": {}
        }
      ],
      "source": [
        "#create a grid to visualize a subset of 20 random images from training images along with their corresponding labels\n",
        "fig, axes = plt.subplots(ncols=10, nrows=2, figsize=(16, 4))\n",
        "\n",
        "indices = np.random.choice(len(X_train), 20)\n",
        "counter = 0\n",
        "\n",
        "for i in range(2):\n",
        "    for j in range(10):\n",
        "        axes[i,j].set_title(y_train[indices[counter]])\n",
        "        axes[i,j].imshow(X_train[indices[counter]], cmap='gray')\n",
        "        axes[i,j].get_xaxis().set_visible(False)\n",
        "        axes[i,j].get_yaxis().set_visible(False)\n",
        "        counter += 1\n",
        "plt.show()"
      ]
    },
    {
      "cell_type": "code",
      "execution_count": null,
      "metadata": {
        "id": "3HtSRX1nc2dE"
      },
      "outputs": [],
      "source": [
        "#use this to save the variables X_train and y_train into a file named \"pneumonia_dt.pickle\" using this function\n",
        "with open('pneumonia_dt.pickle', 'wb') as f:\n",
        "    pickle.dump((X_train, y_train), f)# Use this to load variables"
      ]
    },
    {
      "cell_type": "code",
      "execution_count": null,
      "metadata": {
        "id": "IyMpy9Qsc4c-"
      },
      "outputs": [],
      "source": [
        "#use this to save the variables X_test into a file named \"pneumonia_dt_test.pickle\" using this function\n",
        "with open('pneumonia_dt_test.pickle', 'wb') as f:\n",
        "    pickle.dump((X_test), f)# Use this to load variables"
      ]
    },
    {
      "cell_type": "code",
      "execution_count": null,
      "metadata": {
        "id": "NcEUUd-9c-5r"
      },
      "outputs": [],
      "source": [
        "#converts the variable names into a pandas DataFrame and then saves it to a CSV file\n",
        "pd.DataFrame(names).to_csv(\"submission3.csv\", index=False, header = [\"file_name\"])\n"
      ]
    },
    {
      "cell_type": "code",
      "execution_count": null,
      "metadata": {
        "id": "cMXmu5HmdO37"
      },
      "outputs": [],
      "source": [
        "#loads the variables X_train and y_train from the file \"pneumonia_dt.pickle\" using this function\n",
        "with open('pneumonia_dt.pickle', 'rb') as f:\n",
        "    (X_train, y_train) = pickle.load(f)"
      ]
    },
    {
      "cell_type": "code",
      "execution_count": null,
      "metadata": {
        "id": "ZSuiaLFrdSBt"
      },
      "outputs": [],
      "source": [
        "#loads the variables X_test from the file \"pneumonia_dt_test.pickle\" using this function\n",
        "with open('pneumonia_dt_test.pickle', 'rb') as f:\n",
        "    (X_test) = pickle.load(f)"
      ]
    },
    {
      "cell_type": "code",
      "execution_count": null,
      "metadata": {
        "id": "MfcUF7U5dUNY",
        "colab": {
          "base_uri": "https://localhost:8080/"
        },
        "outputId": "06e7058a-6dd4-46b6-db1a-d64725f5fd8d"
      },
      "outputs": [
        {
          "output_type": "execute_result",
          "data": {
            "text/plain": [
              "(4672, 224, 224, 3)"
            ]
          },
          "metadata": {},
          "execution_count": 16
        }
      ],
      "source": [
        "#check the shape of X_train\n",
        "X_train.shape\n"
      ]
    },
    {
      "cell_type": "code",
      "execution_count": null,
      "metadata": {
        "id": "-6nyIGXzdV62",
        "colab": {
          "base_uri": "https://localhost:8080/"
        },
        "outputId": "66d088ea-5033-45fb-a8d0-8f506b185404"
      },
      "outputs": [
        {
          "output_type": "execute_result",
          "data": {
            "text/plain": [
              "(1168, 224, 224, 3)"
            ]
          },
          "metadata": {},
          "execution_count": 17
        }
      ],
      "source": [
        "#check the shape of X_test\n",
        "X_test.shape\n"
      ]
    },
    {
      "cell_type": "code",
      "execution_count": null,
      "metadata": {
        "id": "kkurnoYSdXfi",
        "colab": {
          "base_uri": "https://localhost:8080/"
        },
        "outputId": "4155a83c-51a8-4fc9-83e2-e9a39dc36605"
      },
      "outputs": [
        {
          "output_type": "execute_result",
          "data": {
            "text/plain": [
              "(4672, 1)"
            ]
          },
          "metadata": {},
          "execution_count": 18
        }
      ],
      "source": [
        "#check the shape of y_train\n",
        "y_train.shape\n"
      ]
    },
    {
      "cell_type": "code",
      "execution_count": null,
      "metadata": {
        "id": "W2DEYy97daav"
      },
      "outputs": [],
      "source": [
        "#convert the labels in y_train to one-hot encoded format.Α common preprocessing step for classification problems with categorical labels\n",
        "one_hot_encoder = OneHotEncoder(sparse_output=False)\n",
        "y_train = one_hot_encoder.fit_transform(y_train)"
      ]
    },
    {
      "cell_type": "code",
      "execution_count": null,
      "metadata": {
        "id": "p00T-SlJdccE",
        "colab": {
          "base_uri": "https://localhost:8080/"
        },
        "outputId": "0b439196-bdab-4309-b24b-c56d0a2a2ee4"
      },
      "outputs": [
        {
          "output_type": "execute_result",
          "data": {
            "text/plain": [
              "(4672, 3)"
            ]
          },
          "metadata": {},
          "execution_count": 20
        }
      ],
      "source": [
        "#after one-hot encoding, the shape of y_train will depend on the number of unique classes in your dataset\n",
        "#the shape will indicate the number of samples and the number of unique classes in the dataset(3)\n",
        "y_train.shape\n"
      ]
    },
    {
      "cell_type": "code",
      "execution_count": null,
      "metadata": {
        "id": "FNBLiNKXdtpd"
      },
      "outputs": [],
      "source": [
        "#data augmentation to artificially increase the size of the training dataset by applying various transformations to the input images\n",
        "datagen = ImageDataGenerator(\n",
        "        rotation_range = 2,\n",
        "        zoom_range = 0.1,\n",
        "        width_shift_range = 0.1,\n",
        "        height_shift_range = 0.1,\n",
        "        brightness_range=[0.6,1.4],\n",
        "        fill_mode= \"nearest\",validation_split=0.1)"
      ]
    },
    {
      "cell_type": "code",
      "execution_count": null,
      "metadata": {
        "id": "9cv7kg1ud4rD"
      },
      "outputs": [],
      "source": [
        "#fit method of the ImageDataGenerator to compute any statistics required for data augmentation\n",
        "datagen.fit(X_train)\n",
        "train_gen = datagen.flow(X_train, y_train, batch_size=32, subset=\"training\")\n",
        "valid_gen = datagen.flow(X_train, y_train, batch_size=32, subset= \"validation\")"
      ]
    },
    {
      "cell_type": "markdown",
      "metadata": {
        "id": "oF4Mln8kAFbr"
      },
      "source": [
        "Start of the models\n",
        "\n",
        "Keep 15 for soft voting"
      ]
    },
    {
      "cell_type": "markdown",
      "source": [
        "EfficientNetB0 - Removed on Final Results\n"
      ],
      "metadata": {
        "id": "HtDAJK8RLlIA"
      }
    },
    {
      "cell_type": "code",
      "source": [
        "#EfficientNetB0\n",
        "base_model = tf.keras.applications.EfficientNetB0(include_top=False,\n",
        "                                     weights='imagenet',\n",
        "                                     input_shape=(224, 224, 3))\n",
        "x = base_model.output\n",
        "x = tf.keras.layers.GlobalAveragePooling2D()(x)\n",
        "x = Dense(512, activation=None, kernel_regularizer = L1L2(l1=1e-5, l2=1e-3))(x)\n",
        "x = BatchNormalization()(x)\n",
        "x = Activation('swish')(x)\n",
        "x = Dropout(0.3)(x)\n",
        "x = Dense(512, activation=None, kernel_regularizer = L1L2(l1=1e-5, l2=1e-3))(x)\n",
        "x = BatchNormalization()(x)\n",
        "x = Activation('swish')(x)\n",
        "x = Dropout(0.3)(x)\n",
        "ouput1 = Dense(3, activation= 'softmax')(x)\n",
        "\n",
        "model = Model(inputs=base_model.input, outputs=ouput1)\n",
        "optimizer = tf.keras.optimizers.legacy.Adam(learning_rate=1e-3, decay=1e-3 * 0.1)\n",
        "model.compile(loss='categorical_crossentropy',\n",
        "                optimizer=optimizer,\n",
        "                metrics=['acc'])\n",
        "model.summary()"
      ],
      "metadata": {
        "id": "0HCv5dHoLtwu",
        "colab": {
          "base_uri": "https://localhost:8080/"
        },
        "outputId": "91bd5311-da23-47b4-8e61-f416aeb0016d"
      },
      "execution_count": null,
      "outputs": [
        {
          "output_type": "stream",
          "name": "stdout",
          "text": [
            "Downloading data from https://storage.googleapis.com/keras-applications/efficientnetb0_notop.h5\n",
            "16705208/16705208 [==============================] - 0s 0us/step\n",
            "Model: \"model\"\n",
            "__________________________________________________________________________________________________\n",
            " Layer (type)                Output Shape                 Param #   Connected to                  \n",
            "==================================================================================================\n",
            " input_1 (InputLayer)        [(None, 224, 224, 3)]        0         []                            \n",
            "                                                                                                  \n",
            " rescaling (Rescaling)       (None, 224, 224, 3)          0         ['input_1[0][0]']             \n",
            "                                                                                                  \n",
            " normalization (Normalizati  (None, 224, 224, 3)          7         ['rescaling[0][0]']           \n",
            " on)                                                                                              \n",
            "                                                                                                  \n",
            " rescaling_1 (Rescaling)     (None, 224, 224, 3)          0         ['normalization[0][0]']       \n",
            "                                                                                                  \n",
            " stem_conv_pad (ZeroPadding  (None, 225, 225, 3)          0         ['rescaling_1[0][0]']         \n",
            " 2D)                                                                                              \n",
            "                                                                                                  \n",
            " stem_conv (Conv2D)          (None, 112, 112, 32)         864       ['stem_conv_pad[0][0]']       \n",
            "                                                                                                  \n",
            " stem_bn (BatchNormalizatio  (None, 112, 112, 32)         128       ['stem_conv[0][0]']           \n",
            " n)                                                                                               \n",
            "                                                                                                  \n",
            " stem_activation (Activatio  (None, 112, 112, 32)         0         ['stem_bn[0][0]']             \n",
            " n)                                                                                               \n",
            "                                                                                                  \n",
            " block1a_dwconv (DepthwiseC  (None, 112, 112, 32)         288       ['stem_activation[0][0]']     \n",
            " onv2D)                                                                                           \n",
            "                                                                                                  \n",
            " block1a_bn (BatchNormaliza  (None, 112, 112, 32)         128       ['block1a_dwconv[0][0]']      \n",
            " tion)                                                                                            \n",
            "                                                                                                  \n",
            " block1a_activation (Activa  (None, 112, 112, 32)         0         ['block1a_bn[0][0]']          \n",
            " tion)                                                                                            \n",
            "                                                                                                  \n",
            " block1a_se_squeeze (Global  (None, 32)                   0         ['block1a_activation[0][0]']  \n",
            " AveragePooling2D)                                                                                \n",
            "                                                                                                  \n",
            " block1a_se_reshape (Reshap  (None, 1, 1, 32)             0         ['block1a_se_squeeze[0][0]']  \n",
            " e)                                                                                               \n",
            "                                                                                                  \n",
            " block1a_se_reduce (Conv2D)  (None, 1, 1, 8)              264       ['block1a_se_reshape[0][0]']  \n",
            "                                                                                                  \n",
            " block1a_se_expand (Conv2D)  (None, 1, 1, 32)             288       ['block1a_se_reduce[0][0]']   \n",
            "                                                                                                  \n",
            " block1a_se_excite (Multipl  (None, 112, 112, 32)         0         ['block1a_activation[0][0]',  \n",
            " y)                                                                  'block1a_se_expand[0][0]']   \n",
            "                                                                                                  \n",
            " block1a_project_conv (Conv  (None, 112, 112, 16)         512       ['block1a_se_excite[0][0]']   \n",
            " 2D)                                                                                              \n",
            "                                                                                                  \n",
            " block1a_project_bn (BatchN  (None, 112, 112, 16)         64        ['block1a_project_conv[0][0]']\n",
            " ormalization)                                                                                    \n",
            "                                                                                                  \n",
            " block2a_expand_conv (Conv2  (None, 112, 112, 96)         1536      ['block1a_project_bn[0][0]']  \n",
            " D)                                                                                               \n",
            "                                                                                                  \n",
            " block2a_expand_bn (BatchNo  (None, 112, 112, 96)         384       ['block2a_expand_conv[0][0]'] \n",
            " rmalization)                                                                                     \n",
            "                                                                                                  \n",
            " block2a_expand_activation   (None, 112, 112, 96)         0         ['block2a_expand_bn[0][0]']   \n",
            " (Activation)                                                                                     \n",
            "                                                                                                  \n",
            " block2a_dwconv_pad (ZeroPa  (None, 113, 113, 96)         0         ['block2a_expand_activation[0]\n",
            " dding2D)                                                           [0]']                         \n",
            "                                                                                                  \n",
            " block2a_dwconv (DepthwiseC  (None, 56, 56, 96)           864       ['block2a_dwconv_pad[0][0]']  \n",
            " onv2D)                                                                                           \n",
            "                                                                                                  \n",
            " block2a_bn (BatchNormaliza  (None, 56, 56, 96)           384       ['block2a_dwconv[0][0]']      \n",
            " tion)                                                                                            \n",
            "                                                                                                  \n",
            " block2a_activation (Activa  (None, 56, 56, 96)           0         ['block2a_bn[0][0]']          \n",
            " tion)                                                                                            \n",
            "                                                                                                  \n",
            " block2a_se_squeeze (Global  (None, 96)                   0         ['block2a_activation[0][0]']  \n",
            " AveragePooling2D)                                                                                \n",
            "                                                                                                  \n",
            " block2a_se_reshape (Reshap  (None, 1, 1, 96)             0         ['block2a_se_squeeze[0][0]']  \n",
            " e)                                                                                               \n",
            "                                                                                                  \n",
            " block2a_se_reduce (Conv2D)  (None, 1, 1, 4)              388       ['block2a_se_reshape[0][0]']  \n",
            "                                                                                                  \n",
            " block2a_se_expand (Conv2D)  (None, 1, 1, 96)             480       ['block2a_se_reduce[0][0]']   \n",
            "                                                                                                  \n",
            " block2a_se_excite (Multipl  (None, 56, 56, 96)           0         ['block2a_activation[0][0]',  \n",
            " y)                                                                  'block2a_se_expand[0][0]']   \n",
            "                                                                                                  \n",
            " block2a_project_conv (Conv  (None, 56, 56, 24)           2304      ['block2a_se_excite[0][0]']   \n",
            " 2D)                                                                                              \n",
            "                                                                                                  \n",
            " block2a_project_bn (BatchN  (None, 56, 56, 24)           96        ['block2a_project_conv[0][0]']\n",
            " ormalization)                                                                                    \n",
            "                                                                                                  \n",
            " block2b_expand_conv (Conv2  (None, 56, 56, 144)          3456      ['block2a_project_bn[0][0]']  \n",
            " D)                                                                                               \n",
            "                                                                                                  \n",
            " block2b_expand_bn (BatchNo  (None, 56, 56, 144)          576       ['block2b_expand_conv[0][0]'] \n",
            " rmalization)                                                                                     \n",
            "                                                                                                  \n",
            " block2b_expand_activation   (None, 56, 56, 144)          0         ['block2b_expand_bn[0][0]']   \n",
            " (Activation)                                                                                     \n",
            "                                                                                                  \n",
            " block2b_dwconv (DepthwiseC  (None, 56, 56, 144)          1296      ['block2b_expand_activation[0]\n",
            " onv2D)                                                             [0]']                         \n",
            "                                                                                                  \n",
            " block2b_bn (BatchNormaliza  (None, 56, 56, 144)          576       ['block2b_dwconv[0][0]']      \n",
            " tion)                                                                                            \n",
            "                                                                                                  \n",
            " block2b_activation (Activa  (None, 56, 56, 144)          0         ['block2b_bn[0][0]']          \n",
            " tion)                                                                                            \n",
            "                                                                                                  \n",
            " block2b_se_squeeze (Global  (None, 144)                  0         ['block2b_activation[0][0]']  \n",
            " AveragePooling2D)                                                                                \n",
            "                                                                                                  \n",
            " block2b_se_reshape (Reshap  (None, 1, 1, 144)            0         ['block2b_se_squeeze[0][0]']  \n",
            " e)                                                                                               \n",
            "                                                                                                  \n",
            " block2b_se_reduce (Conv2D)  (None, 1, 1, 6)              870       ['block2b_se_reshape[0][0]']  \n",
            "                                                                                                  \n",
            " block2b_se_expand (Conv2D)  (None, 1, 1, 144)            1008      ['block2b_se_reduce[0][0]']   \n",
            "                                                                                                  \n",
            " block2b_se_excite (Multipl  (None, 56, 56, 144)          0         ['block2b_activation[0][0]',  \n",
            " y)                                                                  'block2b_se_expand[0][0]']   \n",
            "                                                                                                  \n",
            " block2b_project_conv (Conv  (None, 56, 56, 24)           3456      ['block2b_se_excite[0][0]']   \n",
            " 2D)                                                                                              \n",
            "                                                                                                  \n",
            " block2b_project_bn (BatchN  (None, 56, 56, 24)           96        ['block2b_project_conv[0][0]']\n",
            " ormalization)                                                                                    \n",
            "                                                                                                  \n",
            " block2b_drop (Dropout)      (None, 56, 56, 24)           0         ['block2b_project_bn[0][0]']  \n",
            "                                                                                                  \n",
            " block2b_add (Add)           (None, 56, 56, 24)           0         ['block2b_drop[0][0]',        \n",
            "                                                                     'block2a_project_bn[0][0]']  \n",
            "                                                                                                  \n",
            " block3a_expand_conv (Conv2  (None, 56, 56, 144)          3456      ['block2b_add[0][0]']         \n",
            " D)                                                                                               \n",
            "                                                                                                  \n",
            " block3a_expand_bn (BatchNo  (None, 56, 56, 144)          576       ['block3a_expand_conv[0][0]'] \n",
            " rmalization)                                                                                     \n",
            "                                                                                                  \n",
            " block3a_expand_activation   (None, 56, 56, 144)          0         ['block3a_expand_bn[0][0]']   \n",
            " (Activation)                                                                                     \n",
            "                                                                                                  \n",
            " block3a_dwconv_pad (ZeroPa  (None, 59, 59, 144)          0         ['block3a_expand_activation[0]\n",
            " dding2D)                                                           [0]']                         \n",
            "                                                                                                  \n",
            " block3a_dwconv (DepthwiseC  (None, 28, 28, 144)          3600      ['block3a_dwconv_pad[0][0]']  \n",
            " onv2D)                                                                                           \n",
            "                                                                                                  \n",
            " block3a_bn (BatchNormaliza  (None, 28, 28, 144)          576       ['block3a_dwconv[0][0]']      \n",
            " tion)                                                                                            \n",
            "                                                                                                  \n",
            " block3a_activation (Activa  (None, 28, 28, 144)          0         ['block3a_bn[0][0]']          \n",
            " tion)                                                                                            \n",
            "                                                                                                  \n",
            " block3a_se_squeeze (Global  (None, 144)                  0         ['block3a_activation[0][0]']  \n",
            " AveragePooling2D)                                                                                \n",
            "                                                                                                  \n",
            " block3a_se_reshape (Reshap  (None, 1, 1, 144)            0         ['block3a_se_squeeze[0][0]']  \n",
            " e)                                                                                               \n",
            "                                                                                                  \n",
            " block3a_se_reduce (Conv2D)  (None, 1, 1, 6)              870       ['block3a_se_reshape[0][0]']  \n",
            "                                                                                                  \n",
            " block3a_se_expand (Conv2D)  (None, 1, 1, 144)            1008      ['block3a_se_reduce[0][0]']   \n",
            "                                                                                                  \n",
            " block3a_se_excite (Multipl  (None, 28, 28, 144)          0         ['block3a_activation[0][0]',  \n",
            " y)                                                                  'block3a_se_expand[0][0]']   \n",
            "                                                                                                  \n",
            " block3a_project_conv (Conv  (None, 28, 28, 40)           5760      ['block3a_se_excite[0][0]']   \n",
            " 2D)                                                                                              \n",
            "                                                                                                  \n",
            " block3a_project_bn (BatchN  (None, 28, 28, 40)           160       ['block3a_project_conv[0][0]']\n",
            " ormalization)                                                                                    \n",
            "                                                                                                  \n",
            " block3b_expand_conv (Conv2  (None, 28, 28, 240)          9600      ['block3a_project_bn[0][0]']  \n",
            " D)                                                                                               \n",
            "                                                                                                  \n",
            " block3b_expand_bn (BatchNo  (None, 28, 28, 240)          960       ['block3b_expand_conv[0][0]'] \n",
            " rmalization)                                                                                     \n",
            "                                                                                                  \n",
            " block3b_expand_activation   (None, 28, 28, 240)          0         ['block3b_expand_bn[0][0]']   \n",
            " (Activation)                                                                                     \n",
            "                                                                                                  \n",
            " block3b_dwconv (DepthwiseC  (None, 28, 28, 240)          6000      ['block3b_expand_activation[0]\n",
            " onv2D)                                                             [0]']                         \n",
            "                                                                                                  \n",
            " block3b_bn (BatchNormaliza  (None, 28, 28, 240)          960       ['block3b_dwconv[0][0]']      \n",
            " tion)                                                                                            \n",
            "                                                                                                  \n",
            " block3b_activation (Activa  (None, 28, 28, 240)          0         ['block3b_bn[0][0]']          \n",
            " tion)                                                                                            \n",
            "                                                                                                  \n",
            " block3b_se_squeeze (Global  (None, 240)                  0         ['block3b_activation[0][0]']  \n",
            " AveragePooling2D)                                                                                \n",
            "                                                                                                  \n",
            " block3b_se_reshape (Reshap  (None, 1, 1, 240)            0         ['block3b_se_squeeze[0][0]']  \n",
            " e)                                                                                               \n",
            "                                                                                                  \n",
            " block3b_se_reduce (Conv2D)  (None, 1, 1, 10)             2410      ['block3b_se_reshape[0][0]']  \n",
            "                                                                                                  \n",
            " block3b_se_expand (Conv2D)  (None, 1, 1, 240)            2640      ['block3b_se_reduce[0][0]']   \n",
            "                                                                                                  \n",
            " block3b_se_excite (Multipl  (None, 28, 28, 240)          0         ['block3b_activation[0][0]',  \n",
            " y)                                                                  'block3b_se_expand[0][0]']   \n",
            "                                                                                                  \n",
            " block3b_project_conv (Conv  (None, 28, 28, 40)           9600      ['block3b_se_excite[0][0]']   \n",
            " 2D)                                                                                              \n",
            "                                                                                                  \n",
            " block3b_project_bn (BatchN  (None, 28, 28, 40)           160       ['block3b_project_conv[0][0]']\n",
            " ormalization)                                                                                    \n",
            "                                                                                                  \n",
            " block3b_drop (Dropout)      (None, 28, 28, 40)           0         ['block3b_project_bn[0][0]']  \n",
            "                                                                                                  \n",
            " block3b_add (Add)           (None, 28, 28, 40)           0         ['block3b_drop[0][0]',        \n",
            "                                                                     'block3a_project_bn[0][0]']  \n",
            "                                                                                                  \n",
            " block4a_expand_conv (Conv2  (None, 28, 28, 240)          9600      ['block3b_add[0][0]']         \n",
            " D)                                                                                               \n",
            "                                                                                                  \n",
            " block4a_expand_bn (BatchNo  (None, 28, 28, 240)          960       ['block4a_expand_conv[0][0]'] \n",
            " rmalization)                                                                                     \n",
            "                                                                                                  \n",
            " block4a_expand_activation   (None, 28, 28, 240)          0         ['block4a_expand_bn[0][0]']   \n",
            " (Activation)                                                                                     \n",
            "                                                                                                  \n",
            " block4a_dwconv_pad (ZeroPa  (None, 29, 29, 240)          0         ['block4a_expand_activation[0]\n",
            " dding2D)                                                           [0]']                         \n",
            "                                                                                                  \n",
            " block4a_dwconv (DepthwiseC  (None, 14, 14, 240)          2160      ['block4a_dwconv_pad[0][0]']  \n",
            " onv2D)                                                                                           \n",
            "                                                                                                  \n",
            " block4a_bn (BatchNormaliza  (None, 14, 14, 240)          960       ['block4a_dwconv[0][0]']      \n",
            " tion)                                                                                            \n",
            "                                                                                                  \n",
            " block4a_activation (Activa  (None, 14, 14, 240)          0         ['block4a_bn[0][0]']          \n",
            " tion)                                                                                            \n",
            "                                                                                                  \n",
            " block4a_se_squeeze (Global  (None, 240)                  0         ['block4a_activation[0][0]']  \n",
            " AveragePooling2D)                                                                                \n",
            "                                                                                                  \n",
            " block4a_se_reshape (Reshap  (None, 1, 1, 240)            0         ['block4a_se_squeeze[0][0]']  \n",
            " e)                                                                                               \n",
            "                                                                                                  \n",
            " block4a_se_reduce (Conv2D)  (None, 1, 1, 10)             2410      ['block4a_se_reshape[0][0]']  \n",
            "                                                                                                  \n",
            " block4a_se_expand (Conv2D)  (None, 1, 1, 240)            2640      ['block4a_se_reduce[0][0]']   \n",
            "                                                                                                  \n",
            " block4a_se_excite (Multipl  (None, 14, 14, 240)          0         ['block4a_activation[0][0]',  \n",
            " y)                                                                  'block4a_se_expand[0][0]']   \n",
            "                                                                                                  \n",
            " block4a_project_conv (Conv  (None, 14, 14, 80)           19200     ['block4a_se_excite[0][0]']   \n",
            " 2D)                                                                                              \n",
            "                                                                                                  \n",
            " block4a_project_bn (BatchN  (None, 14, 14, 80)           320       ['block4a_project_conv[0][0]']\n",
            " ormalization)                                                                                    \n",
            "                                                                                                  \n",
            " block4b_expand_conv (Conv2  (None, 14, 14, 480)          38400     ['block4a_project_bn[0][0]']  \n",
            " D)                                                                                               \n",
            "                                                                                                  \n",
            " block4b_expand_bn (BatchNo  (None, 14, 14, 480)          1920      ['block4b_expand_conv[0][0]'] \n",
            " rmalization)                                                                                     \n",
            "                                                                                                  \n",
            " block4b_expand_activation   (None, 14, 14, 480)          0         ['block4b_expand_bn[0][0]']   \n",
            " (Activation)                                                                                     \n",
            "                                                                                                  \n",
            " block4b_dwconv (DepthwiseC  (None, 14, 14, 480)          4320      ['block4b_expand_activation[0]\n",
            " onv2D)                                                             [0]']                         \n",
            "                                                                                                  \n",
            " block4b_bn (BatchNormaliza  (None, 14, 14, 480)          1920      ['block4b_dwconv[0][0]']      \n",
            " tion)                                                                                            \n",
            "                                                                                                  \n",
            " block4b_activation (Activa  (None, 14, 14, 480)          0         ['block4b_bn[0][0]']          \n",
            " tion)                                                                                            \n",
            "                                                                                                  \n",
            " block4b_se_squeeze (Global  (None, 480)                  0         ['block4b_activation[0][0]']  \n",
            " AveragePooling2D)                                                                                \n",
            "                                                                                                  \n",
            " block4b_se_reshape (Reshap  (None, 1, 1, 480)            0         ['block4b_se_squeeze[0][0]']  \n",
            " e)                                                                                               \n",
            "                                                                                                  \n",
            " block4b_se_reduce (Conv2D)  (None, 1, 1, 20)             9620      ['block4b_se_reshape[0][0]']  \n",
            "                                                                                                  \n",
            " block4b_se_expand (Conv2D)  (None, 1, 1, 480)            10080     ['block4b_se_reduce[0][0]']   \n",
            "                                                                                                  \n",
            " block4b_se_excite (Multipl  (None, 14, 14, 480)          0         ['block4b_activation[0][0]',  \n",
            " y)                                                                  'block4b_se_expand[0][0]']   \n",
            "                                                                                                  \n",
            " block4b_project_conv (Conv  (None, 14, 14, 80)           38400     ['block4b_se_excite[0][0]']   \n",
            " 2D)                                                                                              \n",
            "                                                                                                  \n",
            " block4b_project_bn (BatchN  (None, 14, 14, 80)           320       ['block4b_project_conv[0][0]']\n",
            " ormalization)                                                                                    \n",
            "                                                                                                  \n",
            " block4b_drop (Dropout)      (None, 14, 14, 80)           0         ['block4b_project_bn[0][0]']  \n",
            "                                                                                                  \n",
            " block4b_add (Add)           (None, 14, 14, 80)           0         ['block4b_drop[0][0]',        \n",
            "                                                                     'block4a_project_bn[0][0]']  \n",
            "                                                                                                  \n",
            " block4c_expand_conv (Conv2  (None, 14, 14, 480)          38400     ['block4b_add[0][0]']         \n",
            " D)                                                                                               \n",
            "                                                                                                  \n",
            " block4c_expand_bn (BatchNo  (None, 14, 14, 480)          1920      ['block4c_expand_conv[0][0]'] \n",
            " rmalization)                                                                                     \n",
            "                                                                                                  \n",
            " block4c_expand_activation   (None, 14, 14, 480)          0         ['block4c_expand_bn[0][0]']   \n",
            " (Activation)                                                                                     \n",
            "                                                                                                  \n",
            " block4c_dwconv (DepthwiseC  (None, 14, 14, 480)          4320      ['block4c_expand_activation[0]\n",
            " onv2D)                                                             [0]']                         \n",
            "                                                                                                  \n",
            " block4c_bn (BatchNormaliza  (None, 14, 14, 480)          1920      ['block4c_dwconv[0][0]']      \n",
            " tion)                                                                                            \n",
            "                                                                                                  \n",
            " block4c_activation (Activa  (None, 14, 14, 480)          0         ['block4c_bn[0][0]']          \n",
            " tion)                                                                                            \n",
            "                                                                                                  \n",
            " block4c_se_squeeze (Global  (None, 480)                  0         ['block4c_activation[0][0]']  \n",
            " AveragePooling2D)                                                                                \n",
            "                                                                                                  \n",
            " block4c_se_reshape (Reshap  (None, 1, 1, 480)            0         ['block4c_se_squeeze[0][0]']  \n",
            " e)                                                                                               \n",
            "                                                                                                  \n",
            " block4c_se_reduce (Conv2D)  (None, 1, 1, 20)             9620      ['block4c_se_reshape[0][0]']  \n",
            "                                                                                                  \n",
            " block4c_se_expand (Conv2D)  (None, 1, 1, 480)            10080     ['block4c_se_reduce[0][0]']   \n",
            "                                                                                                  \n",
            " block4c_se_excite (Multipl  (None, 14, 14, 480)          0         ['block4c_activation[0][0]',  \n",
            " y)                                                                  'block4c_se_expand[0][0]']   \n",
            "                                                                                                  \n",
            " block4c_project_conv (Conv  (None, 14, 14, 80)           38400     ['block4c_se_excite[0][0]']   \n",
            " 2D)                                                                                              \n",
            "                                                                                                  \n",
            " block4c_project_bn (BatchN  (None, 14, 14, 80)           320       ['block4c_project_conv[0][0]']\n",
            " ormalization)                                                                                    \n",
            "                                                                                                  \n",
            " block4c_drop (Dropout)      (None, 14, 14, 80)           0         ['block4c_project_bn[0][0]']  \n",
            "                                                                                                  \n",
            " block4c_add (Add)           (None, 14, 14, 80)           0         ['block4c_drop[0][0]',        \n",
            "                                                                     'block4b_add[0][0]']         \n",
            "                                                                                                  \n",
            " block5a_expand_conv (Conv2  (None, 14, 14, 480)          38400     ['block4c_add[0][0]']         \n",
            " D)                                                                                               \n",
            "                                                                                                  \n",
            " block5a_expand_bn (BatchNo  (None, 14, 14, 480)          1920      ['block5a_expand_conv[0][0]'] \n",
            " rmalization)                                                                                     \n",
            "                                                                                                  \n",
            " block5a_expand_activation   (None, 14, 14, 480)          0         ['block5a_expand_bn[0][0]']   \n",
            " (Activation)                                                                                     \n",
            "                                                                                                  \n",
            " block5a_dwconv (DepthwiseC  (None, 14, 14, 480)          12000     ['block5a_expand_activation[0]\n",
            " onv2D)                                                             [0]']                         \n",
            "                                                                                                  \n",
            " block5a_bn (BatchNormaliza  (None, 14, 14, 480)          1920      ['block5a_dwconv[0][0]']      \n",
            " tion)                                                                                            \n",
            "                                                                                                  \n",
            " block5a_activation (Activa  (None, 14, 14, 480)          0         ['block5a_bn[0][0]']          \n",
            " tion)                                                                                            \n",
            "                                                                                                  \n",
            " block5a_se_squeeze (Global  (None, 480)                  0         ['block5a_activation[0][0]']  \n",
            " AveragePooling2D)                                                                                \n",
            "                                                                                                  \n",
            " block5a_se_reshape (Reshap  (None, 1, 1, 480)            0         ['block5a_se_squeeze[0][0]']  \n",
            " e)                                                                                               \n",
            "                                                                                                  \n",
            " block5a_se_reduce (Conv2D)  (None, 1, 1, 20)             9620      ['block5a_se_reshape[0][0]']  \n",
            "                                                                                                  \n",
            " block5a_se_expand (Conv2D)  (None, 1, 1, 480)            10080     ['block5a_se_reduce[0][0]']   \n",
            "                                                                                                  \n",
            " block5a_se_excite (Multipl  (None, 14, 14, 480)          0         ['block5a_activation[0][0]',  \n",
            " y)                                                                  'block5a_se_expand[0][0]']   \n",
            "                                                                                                  \n",
            " block5a_project_conv (Conv  (None, 14, 14, 112)          53760     ['block5a_se_excite[0][0]']   \n",
            " 2D)                                                                                              \n",
            "                                                                                                  \n",
            " block5a_project_bn (BatchN  (None, 14, 14, 112)          448       ['block5a_project_conv[0][0]']\n",
            " ormalization)                                                                                    \n",
            "                                                                                                  \n",
            " block5b_expand_conv (Conv2  (None, 14, 14, 672)          75264     ['block5a_project_bn[0][0]']  \n",
            " D)                                                                                               \n",
            "                                                                                                  \n",
            " block5b_expand_bn (BatchNo  (None, 14, 14, 672)          2688      ['block5b_expand_conv[0][0]'] \n",
            " rmalization)                                                                                     \n",
            "                                                                                                  \n",
            " block5b_expand_activation   (None, 14, 14, 672)          0         ['block5b_expand_bn[0][0]']   \n",
            " (Activation)                                                                                     \n",
            "                                                                                                  \n",
            " block5b_dwconv (DepthwiseC  (None, 14, 14, 672)          16800     ['block5b_expand_activation[0]\n",
            " onv2D)                                                             [0]']                         \n",
            "                                                                                                  \n",
            " block5b_bn (BatchNormaliza  (None, 14, 14, 672)          2688      ['block5b_dwconv[0][0]']      \n",
            " tion)                                                                                            \n",
            "                                                                                                  \n",
            " block5b_activation (Activa  (None, 14, 14, 672)          0         ['block5b_bn[0][0]']          \n",
            " tion)                                                                                            \n",
            "                                                                                                  \n",
            " block5b_se_squeeze (Global  (None, 672)                  0         ['block5b_activation[0][0]']  \n",
            " AveragePooling2D)                                                                                \n",
            "                                                                                                  \n",
            " block5b_se_reshape (Reshap  (None, 1, 1, 672)            0         ['block5b_se_squeeze[0][0]']  \n",
            " e)                                                                                               \n",
            "                                                                                                  \n",
            " block5b_se_reduce (Conv2D)  (None, 1, 1, 28)             18844     ['block5b_se_reshape[0][0]']  \n",
            "                                                                                                  \n",
            " block5b_se_expand (Conv2D)  (None, 1, 1, 672)            19488     ['block5b_se_reduce[0][0]']   \n",
            "                                                                                                  \n",
            " block5b_se_excite (Multipl  (None, 14, 14, 672)          0         ['block5b_activation[0][0]',  \n",
            " y)                                                                  'block5b_se_expand[0][0]']   \n",
            "                                                                                                  \n",
            " block5b_project_conv (Conv  (None, 14, 14, 112)          75264     ['block5b_se_excite[0][0]']   \n",
            " 2D)                                                                                              \n",
            "                                                                                                  \n",
            " block5b_project_bn (BatchN  (None, 14, 14, 112)          448       ['block5b_project_conv[0][0]']\n",
            " ormalization)                                                                                    \n",
            "                                                                                                  \n",
            " block5b_drop (Dropout)      (None, 14, 14, 112)          0         ['block5b_project_bn[0][0]']  \n",
            "                                                                                                  \n",
            " block5b_add (Add)           (None, 14, 14, 112)          0         ['block5b_drop[0][0]',        \n",
            "                                                                     'block5a_project_bn[0][0]']  \n",
            "                                                                                                  \n",
            " block5c_expand_conv (Conv2  (None, 14, 14, 672)          75264     ['block5b_add[0][0]']         \n",
            " D)                                                                                               \n",
            "                                                                                                  \n",
            " block5c_expand_bn (BatchNo  (None, 14, 14, 672)          2688      ['block5c_expand_conv[0][0]'] \n",
            " rmalization)                                                                                     \n",
            "                                                                                                  \n",
            " block5c_expand_activation   (None, 14, 14, 672)          0         ['block5c_expand_bn[0][0]']   \n",
            " (Activation)                                                                                     \n",
            "                                                                                                  \n",
            " block5c_dwconv (DepthwiseC  (None, 14, 14, 672)          16800     ['block5c_expand_activation[0]\n",
            " onv2D)                                                             [0]']                         \n",
            "                                                                                                  \n",
            " block5c_bn (BatchNormaliza  (None, 14, 14, 672)          2688      ['block5c_dwconv[0][0]']      \n",
            " tion)                                                                                            \n",
            "                                                                                                  \n",
            " block5c_activation (Activa  (None, 14, 14, 672)          0         ['block5c_bn[0][0]']          \n",
            " tion)                                                                                            \n",
            "                                                                                                  \n",
            " block5c_se_squeeze (Global  (None, 672)                  0         ['block5c_activation[0][0]']  \n",
            " AveragePooling2D)                                                                                \n",
            "                                                                                                  \n",
            " block5c_se_reshape (Reshap  (None, 1, 1, 672)            0         ['block5c_se_squeeze[0][0]']  \n",
            " e)                                                                                               \n",
            "                                                                                                  \n",
            " block5c_se_reduce (Conv2D)  (None, 1, 1, 28)             18844     ['block5c_se_reshape[0][0]']  \n",
            "                                                                                                  \n",
            " block5c_se_expand (Conv2D)  (None, 1, 1, 672)            19488     ['block5c_se_reduce[0][0]']   \n",
            "                                                                                                  \n",
            " block5c_se_excite (Multipl  (None, 14, 14, 672)          0         ['block5c_activation[0][0]',  \n",
            " y)                                                                  'block5c_se_expand[0][0]']   \n",
            "                                                                                                  \n",
            " block5c_project_conv (Conv  (None, 14, 14, 112)          75264     ['block5c_se_excite[0][0]']   \n",
            " 2D)                                                                                              \n",
            "                                                                                                  \n",
            " block5c_project_bn (BatchN  (None, 14, 14, 112)          448       ['block5c_project_conv[0][0]']\n",
            " ormalization)                                                                                    \n",
            "                                                                                                  \n",
            " block5c_drop (Dropout)      (None, 14, 14, 112)          0         ['block5c_project_bn[0][0]']  \n",
            "                                                                                                  \n",
            " block5c_add (Add)           (None, 14, 14, 112)          0         ['block5c_drop[0][0]',        \n",
            "                                                                     'block5b_add[0][0]']         \n",
            "                                                                                                  \n",
            " block6a_expand_conv (Conv2  (None, 14, 14, 672)          75264     ['block5c_add[0][0]']         \n",
            " D)                                                                                               \n",
            "                                                                                                  \n",
            " block6a_expand_bn (BatchNo  (None, 14, 14, 672)          2688      ['block6a_expand_conv[0][0]'] \n",
            " rmalization)                                                                                     \n",
            "                                                                                                  \n",
            " block6a_expand_activation   (None, 14, 14, 672)          0         ['block6a_expand_bn[0][0]']   \n",
            " (Activation)                                                                                     \n",
            "                                                                                                  \n",
            " block6a_dwconv_pad (ZeroPa  (None, 17, 17, 672)          0         ['block6a_expand_activation[0]\n",
            " dding2D)                                                           [0]']                         \n",
            "                                                                                                  \n",
            " block6a_dwconv (DepthwiseC  (None, 7, 7, 672)            16800     ['block6a_dwconv_pad[0][0]']  \n",
            " onv2D)                                                                                           \n",
            "                                                                                                  \n",
            " block6a_bn (BatchNormaliza  (None, 7, 7, 672)            2688      ['block6a_dwconv[0][0]']      \n",
            " tion)                                                                                            \n",
            "                                                                                                  \n",
            " block6a_activation (Activa  (None, 7, 7, 672)            0         ['block6a_bn[0][0]']          \n",
            " tion)                                                                                            \n",
            "                                                                                                  \n",
            " block6a_se_squeeze (Global  (None, 672)                  0         ['block6a_activation[0][0]']  \n",
            " AveragePooling2D)                                                                                \n",
            "                                                                                                  \n",
            " block6a_se_reshape (Reshap  (None, 1, 1, 672)            0         ['block6a_se_squeeze[0][0]']  \n",
            " e)                                                                                               \n",
            "                                                                                                  \n",
            " block6a_se_reduce (Conv2D)  (None, 1, 1, 28)             18844     ['block6a_se_reshape[0][0]']  \n",
            "                                                                                                  \n",
            " block6a_se_expand (Conv2D)  (None, 1, 1, 672)            19488     ['block6a_se_reduce[0][0]']   \n",
            "                                                                                                  \n",
            " block6a_se_excite (Multipl  (None, 7, 7, 672)            0         ['block6a_activation[0][0]',  \n",
            " y)                                                                  'block6a_se_expand[0][0]']   \n",
            "                                                                                                  \n",
            " block6a_project_conv (Conv  (None, 7, 7, 192)            129024    ['block6a_se_excite[0][0]']   \n",
            " 2D)                                                                                              \n",
            "                                                                                                  \n",
            " block6a_project_bn (BatchN  (None, 7, 7, 192)            768       ['block6a_project_conv[0][0]']\n",
            " ormalization)                                                                                    \n",
            "                                                                                                  \n",
            " block6b_expand_conv (Conv2  (None, 7, 7, 1152)           221184    ['block6a_project_bn[0][0]']  \n",
            " D)                                                                                               \n",
            "                                                                                                  \n",
            " block6b_expand_bn (BatchNo  (None, 7, 7, 1152)           4608      ['block6b_expand_conv[0][0]'] \n",
            " rmalization)                                                                                     \n",
            "                                                                                                  \n",
            " block6b_expand_activation   (None, 7, 7, 1152)           0         ['block6b_expand_bn[0][0]']   \n",
            " (Activation)                                                                                     \n",
            "                                                                                                  \n",
            " block6b_dwconv (DepthwiseC  (None, 7, 7, 1152)           28800     ['block6b_expand_activation[0]\n",
            " onv2D)                                                             [0]']                         \n",
            "                                                                                                  \n",
            " block6b_bn (BatchNormaliza  (None, 7, 7, 1152)           4608      ['block6b_dwconv[0][0]']      \n",
            " tion)                                                                                            \n",
            "                                                                                                  \n",
            " block6b_activation (Activa  (None, 7, 7, 1152)           0         ['block6b_bn[0][0]']          \n",
            " tion)                                                                                            \n",
            "                                                                                                  \n",
            " block6b_se_squeeze (Global  (None, 1152)                 0         ['block6b_activation[0][0]']  \n",
            " AveragePooling2D)                                                                                \n",
            "                                                                                                  \n",
            " block6b_se_reshape (Reshap  (None, 1, 1, 1152)           0         ['block6b_se_squeeze[0][0]']  \n",
            " e)                                                                                               \n",
            "                                                                                                  \n",
            " block6b_se_reduce (Conv2D)  (None, 1, 1, 48)             55344     ['block6b_se_reshape[0][0]']  \n",
            "                                                                                                  \n",
            " block6b_se_expand (Conv2D)  (None, 1, 1, 1152)           56448     ['block6b_se_reduce[0][0]']   \n",
            "                                                                                                  \n",
            " block6b_se_excite (Multipl  (None, 7, 7, 1152)           0         ['block6b_activation[0][0]',  \n",
            " y)                                                                  'block6b_se_expand[0][0]']   \n",
            "                                                                                                  \n",
            " block6b_project_conv (Conv  (None, 7, 7, 192)            221184    ['block6b_se_excite[0][0]']   \n",
            " 2D)                                                                                              \n",
            "                                                                                                  \n",
            " block6b_project_bn (BatchN  (None, 7, 7, 192)            768       ['block6b_project_conv[0][0]']\n",
            " ormalization)                                                                                    \n",
            "                                                                                                  \n",
            " block6b_drop (Dropout)      (None, 7, 7, 192)            0         ['block6b_project_bn[0][0]']  \n",
            "                                                                                                  \n",
            " block6b_add (Add)           (None, 7, 7, 192)            0         ['block6b_drop[0][0]',        \n",
            "                                                                     'block6a_project_bn[0][0]']  \n",
            "                                                                                                  \n",
            " block6c_expand_conv (Conv2  (None, 7, 7, 1152)           221184    ['block6b_add[0][0]']         \n",
            " D)                                                                                               \n",
            "                                                                                                  \n",
            " block6c_expand_bn (BatchNo  (None, 7, 7, 1152)           4608      ['block6c_expand_conv[0][0]'] \n",
            " rmalization)                                                                                     \n",
            "                                                                                                  \n",
            " block6c_expand_activation   (None, 7, 7, 1152)           0         ['block6c_expand_bn[0][0]']   \n",
            " (Activation)                                                                                     \n",
            "                                                                                                  \n",
            " block6c_dwconv (DepthwiseC  (None, 7, 7, 1152)           28800     ['block6c_expand_activation[0]\n",
            " onv2D)                                                             [0]']                         \n",
            "                                                                                                  \n",
            " block6c_bn (BatchNormaliza  (None, 7, 7, 1152)           4608      ['block6c_dwconv[0][0]']      \n",
            " tion)                                                                                            \n",
            "                                                                                                  \n",
            " block6c_activation (Activa  (None, 7, 7, 1152)           0         ['block6c_bn[0][0]']          \n",
            " tion)                                                                                            \n",
            "                                                                                                  \n",
            " block6c_se_squeeze (Global  (None, 1152)                 0         ['block6c_activation[0][0]']  \n",
            " AveragePooling2D)                                                                                \n",
            "                                                                                                  \n",
            " block6c_se_reshape (Reshap  (None, 1, 1, 1152)           0         ['block6c_se_squeeze[0][0]']  \n",
            " e)                                                                                               \n",
            "                                                                                                  \n",
            " block6c_se_reduce (Conv2D)  (None, 1, 1, 48)             55344     ['block6c_se_reshape[0][0]']  \n",
            "                                                                                                  \n",
            " block6c_se_expand (Conv2D)  (None, 1, 1, 1152)           56448     ['block6c_se_reduce[0][0]']   \n",
            "                                                                                                  \n",
            " block6c_se_excite (Multipl  (None, 7, 7, 1152)           0         ['block6c_activation[0][0]',  \n",
            " y)                                                                  'block6c_se_expand[0][0]']   \n",
            "                                                                                                  \n",
            " block6c_project_conv (Conv  (None, 7, 7, 192)            221184    ['block6c_se_excite[0][0]']   \n",
            " 2D)                                                                                              \n",
            "                                                                                                  \n",
            " block6c_project_bn (BatchN  (None, 7, 7, 192)            768       ['block6c_project_conv[0][0]']\n",
            " ormalization)                                                                                    \n",
            "                                                                                                  \n",
            " block6c_drop (Dropout)      (None, 7, 7, 192)            0         ['block6c_project_bn[0][0]']  \n",
            "                                                                                                  \n",
            " block6c_add (Add)           (None, 7, 7, 192)            0         ['block6c_drop[0][0]',        \n",
            "                                                                     'block6b_add[0][0]']         \n",
            "                                                                                                  \n",
            " block6d_expand_conv (Conv2  (None, 7, 7, 1152)           221184    ['block6c_add[0][0]']         \n",
            " D)                                                                                               \n",
            "                                                                                                  \n",
            " block6d_expand_bn (BatchNo  (None, 7, 7, 1152)           4608      ['block6d_expand_conv[0][0]'] \n",
            " rmalization)                                                                                     \n",
            "                                                                                                  \n",
            " block6d_expand_activation   (None, 7, 7, 1152)           0         ['block6d_expand_bn[0][0]']   \n",
            " (Activation)                                                                                     \n",
            "                                                                                                  \n",
            " block6d_dwconv (DepthwiseC  (None, 7, 7, 1152)           28800     ['block6d_expand_activation[0]\n",
            " onv2D)                                                             [0]']                         \n",
            "                                                                                                  \n",
            " block6d_bn (BatchNormaliza  (None, 7, 7, 1152)           4608      ['block6d_dwconv[0][0]']      \n",
            " tion)                                                                                            \n",
            "                                                                                                  \n",
            " block6d_activation (Activa  (None, 7, 7, 1152)           0         ['block6d_bn[0][0]']          \n",
            " tion)                                                                                            \n",
            "                                                                                                  \n",
            " block6d_se_squeeze (Global  (None, 1152)                 0         ['block6d_activation[0][0]']  \n",
            " AveragePooling2D)                                                                                \n",
            "                                                                                                  \n",
            " block6d_se_reshape (Reshap  (None, 1, 1, 1152)           0         ['block6d_se_squeeze[0][0]']  \n",
            " e)                                                                                               \n",
            "                                                                                                  \n",
            " block6d_se_reduce (Conv2D)  (None, 1, 1, 48)             55344     ['block6d_se_reshape[0][0]']  \n",
            "                                                                                                  \n",
            " block6d_se_expand (Conv2D)  (None, 1, 1, 1152)           56448     ['block6d_se_reduce[0][0]']   \n",
            "                                                                                                  \n",
            " block6d_se_excite (Multipl  (None, 7, 7, 1152)           0         ['block6d_activation[0][0]',  \n",
            " y)                                                                  'block6d_se_expand[0][0]']   \n",
            "                                                                                                  \n",
            " block6d_project_conv (Conv  (None, 7, 7, 192)            221184    ['block6d_se_excite[0][0]']   \n",
            " 2D)                                                                                              \n",
            "                                                                                                  \n",
            " block6d_project_bn (BatchN  (None, 7, 7, 192)            768       ['block6d_project_conv[0][0]']\n",
            " ormalization)                                                                                    \n",
            "                                                                                                  \n",
            " block6d_drop (Dropout)      (None, 7, 7, 192)            0         ['block6d_project_bn[0][0]']  \n",
            "                                                                                                  \n",
            " block6d_add (Add)           (None, 7, 7, 192)            0         ['block6d_drop[0][0]',        \n",
            "                                                                     'block6c_add[0][0]']         \n",
            "                                                                                                  \n",
            " block7a_expand_conv (Conv2  (None, 7, 7, 1152)           221184    ['block6d_add[0][0]']         \n",
            " D)                                                                                               \n",
            "                                                                                                  \n",
            " block7a_expand_bn (BatchNo  (None, 7, 7, 1152)           4608      ['block7a_expand_conv[0][0]'] \n",
            " rmalization)                                                                                     \n",
            "                                                                                                  \n",
            " block7a_expand_activation   (None, 7, 7, 1152)           0         ['block7a_expand_bn[0][0]']   \n",
            " (Activation)                                                                                     \n",
            "                                                                                                  \n",
            " block7a_dwconv (DepthwiseC  (None, 7, 7, 1152)           10368     ['block7a_expand_activation[0]\n",
            " onv2D)                                                             [0]']                         \n",
            "                                                                                                  \n",
            " block7a_bn (BatchNormaliza  (None, 7, 7, 1152)           4608      ['block7a_dwconv[0][0]']      \n",
            " tion)                                                                                            \n",
            "                                                                                                  \n",
            " block7a_activation (Activa  (None, 7, 7, 1152)           0         ['block7a_bn[0][0]']          \n",
            " tion)                                                                                            \n",
            "                                                                                                  \n",
            " block7a_se_squeeze (Global  (None, 1152)                 0         ['block7a_activation[0][0]']  \n",
            " AveragePooling2D)                                                                                \n",
            "                                                                                                  \n",
            " block7a_se_reshape (Reshap  (None, 1, 1, 1152)           0         ['block7a_se_squeeze[0][0]']  \n",
            " e)                                                                                               \n",
            "                                                                                                  \n",
            " block7a_se_reduce (Conv2D)  (None, 1, 1, 48)             55344     ['block7a_se_reshape[0][0]']  \n",
            "                                                                                                  \n",
            " block7a_se_expand (Conv2D)  (None, 1, 1, 1152)           56448     ['block7a_se_reduce[0][0]']   \n",
            "                                                                                                  \n",
            " block7a_se_excite (Multipl  (None, 7, 7, 1152)           0         ['block7a_activation[0][0]',  \n",
            " y)                                                                  'block7a_se_expand[0][0]']   \n",
            "                                                                                                  \n",
            " block7a_project_conv (Conv  (None, 7, 7, 320)            368640    ['block7a_se_excite[0][0]']   \n",
            " 2D)                                                                                              \n",
            "                                                                                                  \n",
            " block7a_project_bn (BatchN  (None, 7, 7, 320)            1280      ['block7a_project_conv[0][0]']\n",
            " ormalization)                                                                                    \n",
            "                                                                                                  \n",
            " top_conv (Conv2D)           (None, 7, 7, 1280)           409600    ['block7a_project_bn[0][0]']  \n",
            "                                                                                                  \n",
            " top_bn (BatchNormalization  (None, 7, 7, 1280)           5120      ['top_conv[0][0]']            \n",
            " )                                                                                                \n",
            "                                                                                                  \n",
            " top_activation (Activation  (None, 7, 7, 1280)           0         ['top_bn[0][0]']              \n",
            " )                                                                                                \n",
            "                                                                                                  \n",
            " global_average_pooling2d (  (None, 1280)                 0         ['top_activation[0][0]']      \n",
            " GlobalAveragePooling2D)                                                                          \n",
            "                                                                                                  \n",
            " dense (Dense)               (None, 512)                  655872    ['global_average_pooling2d[0][\n",
            "                                                                    0]']                          \n",
            "                                                                                                  \n",
            " batch_normalization (Batch  (None, 512)                  2048      ['dense[0][0]']               \n",
            " Normalization)                                                                                   \n",
            "                                                                                                  \n",
            " activation (Activation)     (None, 512)                  0         ['batch_normalization[0][0]'] \n",
            "                                                                                                  \n",
            " dropout (Dropout)           (None, 512)                  0         ['activation[0][0]']          \n",
            "                                                                                                  \n",
            " dense_1 (Dense)             (None, 512)                  262656    ['dropout[0][0]']             \n",
            "                                                                                                  \n",
            " batch_normalization_1 (Bat  (None, 512)                  2048      ['dense_1[0][0]']             \n",
            " chNormalization)                                                                                 \n",
            "                                                                                                  \n",
            " activation_1 (Activation)   (None, 512)                  0         ['batch_normalization_1[0][0]'\n",
            "                                                                    ]                             \n",
            "                                                                                                  \n",
            " dropout_1 (Dropout)         (None, 512)                  0         ['activation_1[0][0]']        \n",
            "                                                                                                  \n",
            " dense_2 (Dense)             (None, 3)                    1539      ['dropout_1[0][0]']           \n",
            "                                                                                                  \n",
            "==================================================================================================\n",
            "Total params: 4973734 (18.97 MB)\n",
            "Trainable params: 4929663 (18.81 MB)\n",
            "Non-trainable params: 44071 (172.16 KB)\n",
            "__________________________________________________________________________________________________\n"
          ]
        }
      ]
    },
    {
      "cell_type": "code",
      "source": [
        "#checkpoints\n",
        "learning_rate_reduction = ReduceLROnPlateau(monitor='val_loss', patience = 2, verbose=1,factor=0.5, min_lr=0.0000001)\n",
        "chkpt = ModelCheckpoint(filepath='best_model_effnetB0.hdf5', monitor='val_loss', save_best_only=True, save_weights_only=True)\n",
        "early_stopping = tf.keras.callbacks.EarlyStopping(patience=13, monitor='val_loss', restore_best_weights=True)\n",
        "history = model.fit(train_gen, epochs=15, validation_data=valid_gen, callbacks=[learning_rate_reduction, chkpt, early_stopping])\n"
      ],
      "metadata": {
        "id": "McwcRxlwMef3",
        "colab": {
          "base_uri": "https://localhost:8080/"
        },
        "outputId": "83eb3f78-2d5f-428b-f93e-d8d7b8e81c8c"
      },
      "execution_count": null,
      "outputs": [
        {
          "output_type": "stream",
          "name": "stdout",
          "text": [
            "Epoch 1/15\n",
            "132/132 [==============================] - 70s 424ms/step - loss: 2.1136 - acc: 0.7405 - val_loss: 1.8531 - val_acc: 0.7837 - lr: 0.0010\n",
            "Epoch 2/15\n",
            "132/132 [==============================] - 54s 405ms/step - loss: 1.6327 - acc: 0.7979 - val_loss: 1.4604 - val_acc: 0.8073 - lr: 0.0010\n",
            "Epoch 3/15\n",
            "132/132 [==============================] - 54s 407ms/step - loss: 1.2704 - acc: 0.8185 - val_loss: 1.1050 - val_acc: 0.8480 - lr: 0.0010\n",
            "Epoch 4/15\n",
            "132/132 [==============================] - 54s 406ms/step - loss: 0.9717 - acc: 0.8307 - val_loss: 0.8966 - val_acc: 0.8287 - lr: 0.0010\n",
            "Epoch 5/15\n",
            "132/132 [==============================] - 54s 406ms/step - loss: 0.7692 - acc: 0.8428 - val_loss: 0.7414 - val_acc: 0.8073 - lr: 0.0010\n",
            "Epoch 6/15\n",
            "132/132 [==============================] - 54s 407ms/step - loss: 0.6528 - acc: 0.8397 - val_loss: 0.7161 - val_acc: 0.8116 - lr: 0.0010\n",
            "Epoch 7/15\n",
            "132/132 [==============================] - 54s 408ms/step - loss: 0.5392 - acc: 0.8556 - val_loss: 0.6247 - val_acc: 0.8437 - lr: 0.0010\n",
            "Epoch 8/15\n",
            "132/132 [==============================] - 53s 397ms/step - loss: 0.4571 - acc: 0.8673 - val_loss: 0.6531 - val_acc: 0.8094 - lr: 0.0010\n",
            "Epoch 9/15\n",
            "132/132 [==============================] - ETA: 0s - loss: 0.4028 - acc: 0.8730\n",
            "Epoch 9: ReduceLROnPlateau reducing learning rate to 0.0005000000237487257.\n",
            "132/132 [==============================] - 52s 395ms/step - loss: 0.4028 - acc: 0.8730 - val_loss: 0.6386 - val_acc: 0.8244 - lr: 0.0010\n",
            "Epoch 10/15\n",
            "132/132 [==============================] - 54s 409ms/step - loss: 0.3061 - acc: 0.9046 - val_loss: 0.5813 - val_acc: 0.8030 - lr: 5.0000e-04\n",
            "Epoch 11/15\n",
            "132/132 [==============================] - 52s 394ms/step - loss: 0.2566 - acc: 0.9244 - val_loss: 0.7041 - val_acc: 0.7966 - lr: 5.0000e-04\n",
            "Epoch 12/15\n",
            "132/132 [==============================] - ETA: 0s - loss: 0.2363 - acc: 0.9301\n",
            "Epoch 12: ReduceLROnPlateau reducing learning rate to 0.0002500000118743628.\n",
            "132/132 [==============================] - 52s 394ms/step - loss: 0.2363 - acc: 0.9301 - val_loss: 0.6936 - val_acc: 0.8244 - lr: 5.0000e-04\n",
            "Epoch 13/15\n",
            "132/132 [==============================] - 54s 406ms/step - loss: 0.1789 - acc: 0.9555 - val_loss: 0.5117 - val_acc: 0.8501 - lr: 2.5000e-04\n",
            "Epoch 14/15\n",
            "132/132 [==============================] - 53s 399ms/step - loss: 0.1588 - acc: 0.9570 - val_loss: 0.5452 - val_acc: 0.8373 - lr: 2.5000e-04\n",
            "Epoch 15/15\n",
            "132/132 [==============================] - ETA: 0s - loss: 0.1410 - acc: 0.9624\n",
            "Epoch 15: ReduceLROnPlateau reducing learning rate to 0.0001250000059371814.\n",
            "132/132 [==============================] - 53s 398ms/step - loss: 0.1410 - acc: 0.9624 - val_loss: 0.5970 - val_acc: 0.8308 - lr: 2.5000e-04\n"
          ]
        }
      ]
    },
    {
      "cell_type": "code",
      "source": [
        "#plot accuracy scores\n",
        "plt.figure(figsize=(8,6))\n",
        "plt.title('Accuracy scores')\n",
        "plt.plot(history.history['acc'])\n",
        "plt.plot(history.history['val_acc'])\n",
        "plt.legend(['acc', 'val_acc'])\n",
        "plt.show()"
      ],
      "metadata": {
        "id": "xRE4tA9nNgnZ",
        "colab": {
          "base_uri": "https://localhost:8080/",
          "height": 545
        },
        "outputId": "d8685978-b6d2-4239-f2e7-a3c61b1a1fb6"
      },
      "execution_count": null,
      "outputs": [
        {
          "output_type": "display_data",
          "data": {
            "text/plain": [
              "<Figure size 800x600 with 1 Axes>"
            ],
            "image/png": "[encoded data removed]"
          },
          "metadata": {}
        }
      ]
    },
    {
      "cell_type": "code",
      "source": [
        "model.load_weights(\"best_model_effnetB0.hdf5\")\n",
        "preds = model.predict(X_test)\n",
        "labelled_preds = one_hot_encoder.inverse_transform(preds)\n",
        "pred = pd.DataFrame(labelled_preds, columns =[\"class_id\"])\n",
        "df = pd.read_csv('submission3.csv')\n",
        "df['class_id']= pred\n",
        "df.to_csv(\"final_submission115.csv\", index=False)"
      ],
      "metadata": {
        "id": "BShQivYvNz9C",
        "colab": {
          "base_uri": "https://localhost:8080/"
        },
        "outputId": "1b5f1514-6034-4014-fd8c-4fab2d96be78"
      },
      "execution_count": null,
      "outputs": [
        {
          "output_type": "stream",
          "name": "stdout",
          "text": [
            "37/37 [==============================] - 3s 35ms/step\n"
          ]
        }
      ]
    },
    {
      "cell_type": "markdown",
      "source": [
        "EfficientNetB1 - Kept on Final Results\n"
      ],
      "metadata": {
        "id": "OTpAcUcfM1AT"
      }
    },
    {
      "cell_type": "code",
      "execution_count": null,
      "metadata": {
        "id": "kuW0jabQfRmG",
        "colab": {
          "base_uri": "https://localhost:8080/"
        },
        "outputId": "ec76be96-cb57-43b5-e6f0-3166ad922bdd"
      },
      "outputs": [
        {
          "output_type": "stream",
          "name": "stdout",
          "text": [
            "Downloading data from https://storage.googleapis.com/keras-applications/efficientnetb1_notop.h5\n",
            "27018416/27018416 [==============================] - 0s 0us/step\n"
          ]
        }
      ],
      "source": [
        "#EfficienNetB1\n",
        "base_model1 = tf.keras.applications.EfficientNetB1(include_top=False,\n",
        "                                     weights='imagenet',\n",
        "                                     input_shape=(224, 224, 3))\n",
        "x = base_model1.output\n",
        "x = tf.keras.layers.GlobalAveragePooling2D()(x)\n",
        "x = Dense(512, activation=None, kernel_regularizer = L1L2(l1=1e-5, l2=1e-3))(x)\n",
        "x = BatchNormalization()(x)\n",
        "x = Activation('swish')(x)\n",
        "x = Dropout(0.3)(x)\n",
        "x = Dense(512, activation=None, kernel_regularizer = L1L2(l1=1e-5, l2=1e-3))(x)\n",
        "x = BatchNormalization()(x)\n",
        "x = Activation('swish')(x)\n",
        "x = Dropout(0.3)(x)\n",
        "ouput1 = Dense(3, activation= 'softmax')(x)\n",
        "\n",
        "model1 = Model(inputs=base_model1.input, outputs=ouput1)\n",
        "\n",
        "optimizer = tf.keras.optimizers.legacy.Adam(learning_rate=1e-3, decay=1e-3 * 0.1)\n",
        "model1.compile(loss='categorical_crossentropy',\n",
        "                optimizer=optimizer,\n",
        "                metrics=['acc'])\n",
        "\n",
        "#model.summary()"
      ]
    },
    {
      "cell_type": "code",
      "execution_count": null,
      "metadata": {
        "id": "TRHbBoCiP7eO",
        "colab": {
          "base_uri": "https://localhost:8080/"
        },
        "outputId": "a722dfb1-b18b-4f07-8e77-658a1d8d4097"
      },
      "outputs": [
        {
          "output_type": "stream",
          "name": "stdout",
          "text": [
            "Epoch 1/50\n",
            "132/132 [==============================] - 72s 441ms/step - loss: 2.0668 - acc: 0.7344 - val_loss: 1.7813 - val_acc: 0.7859 - lr: 0.0010\n",
            "Epoch 2/50\n",
            "132/132 [==============================] - 54s 407ms/step - loss: 1.5603 - acc: 0.8052 - val_loss: 1.4429 - val_acc: 0.7923 - lr: 0.0010\n",
            "Epoch 3/50\n",
            "132/132 [==============================] - 55s 413ms/step - loss: 1.1787 - acc: 0.8145 - val_loss: 1.0082 - val_acc: 0.8137 - lr: 0.0010\n",
            "Epoch 4/50\n",
            "132/132 [==============================] - 54s 411ms/step - loss: 0.8806 - acc: 0.8352 - val_loss: 0.8227 - val_acc: 0.8223 - lr: 0.0010\n",
            "Epoch 5/50\n",
            "132/132 [==============================] - 55s 412ms/step - loss: 0.6845 - acc: 0.8490 - val_loss: 0.7158 - val_acc: 0.8030 - lr: 0.0010\n",
            "Epoch 6/50\n",
            "132/132 [==============================] - 53s 402ms/step - loss: 0.5489 - acc: 0.8568 - val_loss: 0.7499 - val_acc: 0.7666 - lr: 0.0010\n",
            "Epoch 7/50\n",
            "132/132 [==============================] - 54s 409ms/step - loss: 0.4800 - acc: 0.8649 - val_loss: 0.6009 - val_acc: 0.8116 - lr: 0.0010\n",
            "Epoch 8/50\n",
            "132/132 [==============================] - 54s 408ms/step - loss: 0.4320 - acc: 0.8699 - val_loss: 0.5940 - val_acc: 0.8244 - lr: 0.0010\n",
            "Epoch 9/50\n",
            "132/132 [==============================] - 54s 408ms/step - loss: 0.3763 - acc: 0.8901 - val_loss: 0.5383 - val_acc: 0.8030 - lr: 0.0010\n",
            "Epoch 10/50\n",
            "132/132 [==============================] - 53s 397ms/step - loss: 0.3385 - acc: 0.8946 - val_loss: 0.5531 - val_acc: 0.8116 - lr: 0.0010\n",
            "Epoch 11/50\n",
            "132/132 [==============================] - ETA: 0s - loss: 0.3087 - acc: 0.9006\n",
            "Epoch 11: ReduceLROnPlateau reducing learning rate to 0.0003000000142492354.\n",
            "132/132 [==============================] - 53s 398ms/step - loss: 0.3087 - acc: 0.9006 - val_loss: 0.5956 - val_acc: 0.8137 - lr: 0.0010\n",
            "Epoch 12/50\n",
            "132/132 [==============================] - 54s 411ms/step - loss: 0.2106 - acc: 0.9386 - val_loss: 0.5157 - val_acc: 0.8351 - lr: 3.0000e-04\n",
            "Epoch 13/50\n",
            "132/132 [==============================] - 53s 402ms/step - loss: 0.1656 - acc: 0.9555 - val_loss: 0.5617 - val_acc: 0.8266 - lr: 3.0000e-04\n",
            "Epoch 14/50\n",
            "132/132 [==============================] - ETA: 0s - loss: 0.1546 - acc: 0.9586\n",
            "Epoch 14: ReduceLROnPlateau reducing learning rate to 9.000000427477062e-05.\n",
            "132/132 [==============================] - 53s 401ms/step - loss: 0.1546 - acc: 0.9586 - val_loss: 0.5939 - val_acc: 0.8116 - lr: 3.0000e-04\n",
            "Epoch 15/50\n",
            "132/132 [==============================] - 53s 397ms/step - loss: 0.1069 - acc: 0.9731 - val_loss: 0.5886 - val_acc: 0.8501 - lr: 9.0000e-05\n",
            "Epoch 16/50\n",
            "132/132 [==============================] - ETA: 0s - loss: 0.0983 - acc: 0.9741\n",
            "Epoch 16: ReduceLROnPlateau reducing learning rate to 2.700000040931627e-05.\n",
            "132/132 [==============================] - 53s 401ms/step - loss: 0.0983 - acc: 0.9741 - val_loss: 0.6092 - val_acc: 0.8415 - lr: 9.0000e-05\n",
            "Epoch 17/50\n",
            "132/132 [==============================] - 53s 402ms/step - loss: 0.0798 - acc: 0.9843 - val_loss: 0.6704 - val_acc: 0.8522 - lr: 2.7000e-05\n",
            "Epoch 18/50\n",
            "132/132 [==============================] - ETA: 0s - loss: 0.0783 - acc: 0.9829\n",
            "Epoch 18: ReduceLROnPlateau reducing learning rate to 8.100000013655517e-06.\n",
            "132/132 [==============================] - 53s 404ms/step - loss: 0.0783 - acc: 0.9829 - val_loss: 0.6542 - val_acc: 0.8437 - lr: 2.7000e-05\n",
            "Epoch 19/50\n",
            "132/132 [==============================] - 53s 400ms/step - loss: 0.0695 - acc: 0.9862 - val_loss: 0.6602 - val_acc: 0.8608 - lr: 8.1000e-06\n",
            "Epoch 20/50\n",
            "132/132 [==============================] - ETA: 0s - loss: 0.0741 - acc: 0.9841\n",
            "Epoch 20: ReduceLROnPlateau reducing learning rate to 2.429999949526973e-06.\n",
            "132/132 [==============================] - 53s 402ms/step - loss: 0.0741 - acc: 0.9841 - val_loss: 0.7154 - val_acc: 0.8501 - lr: 8.1000e-06\n",
            "Epoch 21/50\n",
            "132/132 [==============================] - 53s 399ms/step - loss: 0.0706 - acc: 0.9843 - val_loss: 0.7779 - val_acc: 0.8373 - lr: 2.4300e-06\n",
            "Epoch 22/50\n",
            "132/132 [==============================] - ETA: 0s - loss: 0.0746 - acc: 0.9822\n",
            "Epoch 22: ReduceLROnPlateau reducing learning rate to 7.289999985005124e-07.\n",
            "132/132 [==============================] - 53s 401ms/step - loss: 0.0746 - acc: 0.9822 - val_loss: 0.6831 - val_acc: 0.8522 - lr: 2.4300e-06\n",
            "Epoch 23/50\n",
            "132/132 [==============================] - 53s 400ms/step - loss: 0.0720 - acc: 0.9845 - val_loss: 0.7040 - val_acc: 0.8587 - lr: 7.2900e-07\n",
            "Epoch 24/50\n",
            "132/132 [==============================] - ETA: 0s - loss: 0.0682 - acc: 0.9855\n",
            "Epoch 24: ReduceLROnPlateau reducing learning rate to 2.1870000637136398e-07.\n",
            "132/132 [==============================] - 53s 402ms/step - loss: 0.0682 - acc: 0.9855 - val_loss: 0.7472 - val_acc: 0.8544 - lr: 7.2900e-07\n",
            "Epoch 25/50\n",
            "132/132 [==============================] - 53s 399ms/step - loss: 0.0654 - acc: 0.9864 - val_loss: 0.6767 - val_acc: 0.8522 - lr: 2.1870e-07\n"
          ]
        }
      ],
      "source": [
        "#checkpoints\n",
        "learning_rate_reduction = ReduceLROnPlateau(monitor='val_loss', patience = 2, verbose=1,factor=0.3, min_lr=0.00000001)\n",
        "chkpt = ModelCheckpoint(filepath='best_model_effnetB1.hdf5', monitor='val_loss', save_best_only=True, save_weights_only=True)\n",
        "early_stopping = tf.keras.callbacks.EarlyStopping(patience=13, monitor='val_loss', restore_best_weights=True)\n",
        "\n",
        "history = model1.fit(train_gen, epochs=50, validation_data=valid_gen, callbacks=[learning_rate_reduction, chkpt, early_stopping])\n"
      ]
    },
    {
      "cell_type": "code",
      "source": [
        "#plot accuracy scores\n",
        "plt.figure(figsize=(8,6))\n",
        "plt.title('Accuracy scores')\n",
        "plt.plot(history.history['acc'])\n",
        "plt.plot(history.history['val_acc'])\n",
        "plt.legend(['acc', 'val_acc'])\n",
        "plt.show()"
      ],
      "metadata": {
        "id": "U158ex7WOIyq",
        "colab": {
          "base_uri": "https://localhost:8080/",
          "height": 545
        },
        "outputId": "21af3877-acf1-4a13-bc36-e8bc9d9906b6"
      },
      "execution_count": null,
      "outputs": [
        {
          "output_type": "display_data",
          "data": {
            "text/plain": [
              "<Figure size 800x600 with 1 Axes>"
            ],
            "image/png": "[encoded data removed]"
          },
          "metadata": {}
        }
      ]
    },
    {
      "cell_type": "code",
      "execution_count": null,
      "metadata": {
        "id": "ZSrTt6TyGNBu",
        "colab": {
          "base_uri": "https://localhost:8080/"
        },
        "outputId": "930824e7-a081-4be8-bd77-c35101e922e6"
      },
      "outputs": [
        {
          "output_type": "stream",
          "name": "stdout",
          "text": [
            "37/37 [==============================] - 4s 43ms/step\n"
          ]
        }
      ],
      "source": [
        "model1.load_weights(\"best_model_effnetB1.hdf5\")\n",
        "preds = model1.predict(X_test)\n",
        "labelled_preds = one_hot_encoder.inverse_transform(preds)\n",
        "pred = pd.DataFrame(labelled_preds, columns =[\"class_id\"])\n",
        "df = pd.read_csv('submission3.csv')\n",
        "df ['class_id']= pred\n",
        "df.to_csv(\"final_submission52.csv\", index=False)"
      ]
    },
    {
      "cell_type": "markdown",
      "source": [
        "EfficientNetB2 - Removed on final results\n"
      ],
      "metadata": {
        "id": "D2-zyLU6OjzD"
      }
    },
    {
      "cell_type": "code",
      "source": [
        "#EfficientNetB2\n",
        "base_model2 = tf.keras.applications.EfficientNetB2(include_top=False,\n",
        "                                     weights='imagenet',\n",
        "                                     input_shape=(224, 224, 3))\n",
        "x = base_model2.output\n",
        "x = tf.keras.layers.GlobalAveragePooling2D()(x)\n",
        "x = Dense(512, activation=None, kernel_regularizer = L1L2(l1=1e-4, l2=1e-3))(x)\n",
        "x = BatchNormalization()(x)\n",
        "x = Activation('swish')(x)\n",
        "x = Dropout(0.3)(x)\n",
        "x = Dense(512, activation=None, kernel_regularizer = L1L2(l1=1e-4, l2=1e-3))(x)\n",
        "x = BatchNormalization()(x)\n",
        "x = Activation('swish')(x)\n",
        "x = Dropout(0.3)(x)\n",
        "ouput1 = Dense(3, activation= 'softmax')(x)\n",
        "\n",
        "model2 = Model(inputs=base_model2.input, outputs=ouput1)\n",
        "\n",
        "optimizer = tf.keras.optimizers.legacy.Adam(learning_rate=1e-3, decay=1e-3 * 0.1)\n",
        "model2.compile(loss='categorical_crossentropy',\n",
        "                optimizer=optimizer,\n",
        "                metrics=['acc'])\n"
      ],
      "metadata": {
        "id": "tstNJ-iDOqWL",
        "colab": {
          "base_uri": "https://localhost:8080/"
        },
        "outputId": "1f5380b7-0187-41f2-c8ec-a478b4fb0788"
      },
      "execution_count": null,
      "outputs": [
        {
          "output_type": "stream",
          "name": "stdout",
          "text": [
            "Downloading data from https://storage.googleapis.com/keras-applications/efficientnetb2_notop.h5\n",
            "31790344/31790344 [==============================] - 0s 0us/step\n"
          ]
        }
      ]
    },
    {
      "cell_type": "code",
      "source": [
        "#checkpoints\n",
        "learning_rate_reduction = ReduceLROnPlateau(monitor='val_loss', patience = 2, verbose=1,factor=0.3, min_lr=0.00000001)\n",
        "chkpt = ModelCheckpoint(filepath='best_model_effnetB2.hdf5', monitor='val_loss', save_best_only=True, save_weights_only=True)\n",
        "early_stopping = tf.keras.callbacks.EarlyStopping(patience=13, monitor='val_loss', restore_best_weights=True)\n",
        "\n",
        "history2 = model2.fit(train_gen, epochs=30, validation_data=valid_gen, callbacks=[learning_rate_reduction, chkpt, early_stopping])\n"
      ],
      "metadata": {
        "id": "1RKDqLp7O0Bp",
        "colab": {
          "base_uri": "https://localhost:8080/"
        },
        "outputId": "e91f27e7-6209-4a92-e692-b4bdb99a53db"
      },
      "execution_count": null,
      "outputs": [
        {
          "output_type": "stream",
          "name": "stdout",
          "text": [
            "Epoch 1/30\n",
            "132/132 [==============================] - 73s 445ms/step - loss: 4.5490 - acc: 0.7346 - val_loss: 3.8439 - val_acc: 0.7623 - lr: 0.0010\n",
            "Epoch 2/30\n",
            "132/132 [==============================] - 54s 409ms/step - loss: 3.1308 - acc: 0.8083 - val_loss: 2.5692 - val_acc: 0.8116 - lr: 0.0010\n",
            "Epoch 3/30\n",
            "132/132 [==============================] - 55s 413ms/step - loss: 1.9521 - acc: 0.8147 - val_loss: 1.5787 - val_acc: 0.7880 - lr: 0.0010\n",
            "Epoch 4/30\n",
            "132/132 [==============================] - 55s 412ms/step - loss: 1.2197 - acc: 0.8224 - val_loss: 0.9724 - val_acc: 0.8266 - lr: 0.0010\n",
            "Epoch 5/30\n",
            "132/132 [==============================] - 55s 413ms/step - loss: 0.8103 - acc: 0.8516 - val_loss: 0.7988 - val_acc: 0.8223 - lr: 0.0010\n",
            "Epoch 6/30\n",
            "132/132 [==============================] - 53s 399ms/step - loss: 0.6623 - acc: 0.8554 - val_loss: 0.8131 - val_acc: 0.7495 - lr: 0.0010\n",
            "Epoch 7/30\n",
            "132/132 [==============================] - 55s 413ms/step - loss: 0.5974 - acc: 0.8595 - val_loss: 0.6372 - val_acc: 0.8094 - lr: 0.0010\n",
            "Epoch 8/30\n",
            "132/132 [==============================] - 53s 403ms/step - loss: 0.5415 - acc: 0.8749 - val_loss: 0.6537 - val_acc: 0.8266 - lr: 0.0010\n",
            "Epoch 9/30\n",
            "132/132 [==============================] - ETA: 0s - loss: 0.5198 - acc: 0.8832\n",
            "Epoch 9: ReduceLROnPlateau reducing learning rate to 0.0003000000142492354.\n",
            "132/132 [==============================] - 53s 402ms/step - loss: 0.5198 - acc: 0.8832 - val_loss: 0.8698 - val_acc: 0.7923 - lr: 0.0010\n",
            "Epoch 10/30\n",
            "132/132 [==============================] - 55s 413ms/step - loss: 0.3583 - acc: 0.9222 - val_loss: 0.5151 - val_acc: 0.8351 - lr: 3.0000e-04\n",
            "Epoch 11/30\n",
            "132/132 [==============================] - 53s 401ms/step - loss: 0.2652 - acc: 0.9417 - val_loss: 0.5604 - val_acc: 0.8223 - lr: 3.0000e-04\n",
            "Epoch 12/30\n",
            "132/132 [==============================] - ETA: 0s - loss: 0.2230 - acc: 0.9527\n",
            "Epoch 12: ReduceLROnPlateau reducing learning rate to 9.000000427477062e-05.\n",
            "132/132 [==============================] - 53s 398ms/step - loss: 0.2230 - acc: 0.9527 - val_loss: 0.5627 - val_acc: 0.8266 - lr: 3.0000e-04\n",
            "Epoch 13/30\n",
            "132/132 [==============================] - 55s 415ms/step - loss: 0.1728 - acc: 0.9688 - val_loss: 0.5108 - val_acc: 0.8458 - lr: 9.0000e-05\n",
            "Epoch 14/30\n",
            "132/132 [==============================] - 55s 412ms/step - loss: 0.1430 - acc: 0.9707 - val_loss: 0.5008 - val_acc: 0.8630 - lr: 9.0000e-05\n",
            "Epoch 15/30\n",
            "132/132 [==============================] - 53s 401ms/step - loss: 0.1221 - acc: 0.9765 - val_loss: 0.6013 - val_acc: 0.8458 - lr: 9.0000e-05\n",
            "Epoch 16/30\n",
            "132/132 [==============================] - ETA: 0s - loss: 0.1133 - acc: 0.9795\n",
            "Epoch 16: ReduceLROnPlateau reducing learning rate to 2.700000040931627e-05.\n",
            "132/132 [==============================] - 53s 401ms/step - loss: 0.1133 - acc: 0.9795 - val_loss: 0.6310 - val_acc: 0.8544 - lr: 9.0000e-05\n",
            "Epoch 17/30\n",
            "132/132 [==============================] - 53s 400ms/step - loss: 0.0881 - acc: 0.9850 - val_loss: 0.5928 - val_acc: 0.8630 - lr: 2.7000e-05\n",
            "Epoch 18/30\n",
            "132/132 [==============================] - ETA: 0s - loss: 0.0856 - acc: 0.9855\n",
            "Epoch 18: ReduceLROnPlateau reducing learning rate to 8.100000013655517e-06.\n",
            "132/132 [==============================] - 53s 402ms/step - loss: 0.0856 - acc: 0.9855 - val_loss: 0.6147 - val_acc: 0.8480 - lr: 2.7000e-05\n",
            "Epoch 19/30\n",
            "132/132 [==============================] - 53s 397ms/step - loss: 0.0853 - acc: 0.9810 - val_loss: 0.6315 - val_acc: 0.8565 - lr: 8.1000e-06\n",
            "Epoch 20/30\n",
            "132/132 [==============================] - ETA: 0s - loss: 0.0822 - acc: 0.9838\n",
            "Epoch 20: ReduceLROnPlateau reducing learning rate to 2.429999949526973e-06.\n",
            "132/132 [==============================] - 53s 399ms/step - loss: 0.0822 - acc: 0.9838 - val_loss: 0.5649 - val_acc: 0.8630 - lr: 8.1000e-06\n",
            "Epoch 21/30\n",
            "132/132 [==============================] - 53s 399ms/step - loss: 0.0717 - acc: 0.9850 - val_loss: 0.5627 - val_acc: 0.8822 - lr: 2.4300e-06\n",
            "Epoch 22/30\n",
            "132/132 [==============================] - ETA: 0s - loss: 0.0718 - acc: 0.9853\n",
            "Epoch 22: ReduceLROnPlateau reducing learning rate to 7.289999985005124e-07.\n",
            "132/132 [==============================] - 53s 403ms/step - loss: 0.0718 - acc: 0.9853 - val_loss: 0.5926 - val_acc: 0.8630 - lr: 2.4300e-06\n",
            "Epoch 23/30\n",
            "132/132 [==============================] - 53s 400ms/step - loss: 0.0745 - acc: 0.9841 - val_loss: 0.6406 - val_acc: 0.8565 - lr: 7.2900e-07\n",
            "Epoch 24/30\n",
            "132/132 [==============================] - ETA: 0s - loss: 0.0610 - acc: 0.9900\n",
            "Epoch 24: ReduceLROnPlateau reducing learning rate to 2.1870000637136398e-07.\n",
            "132/132 [==============================] - 53s 399ms/step - loss: 0.0610 - acc: 0.9900 - val_loss: 0.6815 - val_acc: 0.8522 - lr: 7.2900e-07\n",
            "Epoch 25/30\n",
            "132/132 [==============================] - 53s 403ms/step - loss: 0.0655 - acc: 0.9886 - val_loss: 0.6420 - val_acc: 0.8587 - lr: 2.1870e-07\n",
            "Epoch 26/30\n",
            "132/132 [==============================] - ETA: 0s - loss: 0.0636 - acc: 0.9883\n",
            "Epoch 26: ReduceLROnPlateau reducing learning rate to 6.561000276406048e-08.\n",
            "132/132 [==============================] - 53s 404ms/step - loss: 0.0636 - acc: 0.9883 - val_loss: 0.6657 - val_acc: 0.8715 - lr: 2.1870e-07\n",
            "Epoch 27/30\n",
            "132/132 [==============================] - 54s 404ms/step - loss: 0.0678 - acc: 0.9888 - val_loss: 0.6495 - val_acc: 0.8630 - lr: 6.5610e-08\n"
          ]
        }
      ]
    },
    {
      "cell_type": "code",
      "source": [
        "model2.load_weights(\"best_model_effnetB2.hdf5\")\n",
        "preds = model2.predict(X_test)\n",
        "labelled_preds = one_hot_encoder.inverse_transform(preds)\n",
        "pred = pd.DataFrame(labelled_preds, columns =[\"class_id\"])\n",
        "df = pd.read_csv('submission3.csv')\n",
        "df ['class_id']= pred\n",
        "df.to_csv(\"final_submission53.csv\", index=False)"
      ],
      "metadata": {
        "id": "maRD8WQJOzyU",
        "colab": {
          "base_uri": "https://localhost:8080/"
        },
        "outputId": "a600755e-dfb2-4b1d-d178-b8c7d098cfc7"
      },
      "execution_count": null,
      "outputs": [
        {
          "output_type": "stream",
          "name": "stdout",
          "text": [
            "37/37 [==============================] - 4s 46ms/step\n"
          ]
        }
      ]
    },
    {
      "cell_type": "markdown",
      "source": [
        "EfficientNetB3 - All EfficientNetB3 are kept to the final results besides B3_2\n"
      ],
      "metadata": {
        "id": "LHZ8gQwnPFEX"
      }
    },
    {
      "cell_type": "code",
      "execution_count": null,
      "metadata": {
        "id": "qbFVZEctH6Vg",
        "colab": {
          "base_uri": "https://localhost:8080/"
        },
        "outputId": "1c92164f-37cf-4976-9f37-c72a1686dcbb"
      },
      "outputs": [
        {
          "output_type": "stream",
          "name": "stdout",
          "text": [
            "Downloading data from https://storage.googleapis.com/keras-applications/efficientnetb3_notop.h5\n",
            "43941136/43941136 [==============================] - 0s 0us/step\n"
          ]
        }
      ],
      "source": [
        "#EfficientNetB3\n",
        "base_model3 = tf.keras.applications.EfficientNetB3(include_top=False,\n",
        "                                     weights='imagenet',\n",
        "                                     input_shape=(224, 224, 3))\n",
        "x = base_model3.output\n",
        "x = tf.keras.layers.GlobalAveragePooling2D()(x)\n",
        "x = Dense(512, activation=None, kernel_regularizer = L1L2(l1=1e-5, l2=1e-3))(x)\n",
        "x = BatchNormalization()(x)\n",
        "x = Activation('swish')(x)\n",
        "x = Dropout(0.3)(x)\n",
        "x = Dense(512, activation=None, kernel_regularizer = L1L2(l1=1e-5, l2=1e-3))(x)\n",
        "x = BatchNormalization()(x)\n",
        "x = Activation('swish')(x)\n",
        "x = Dropout(0.3)(x)\n",
        "ouput1 = Dense(3, activation= 'softmax')(x)\n",
        "\n",
        "model3 = Model(inputs=base_model3.input, outputs=ouput1)\n",
        "model3.compile(loss='binary_crossentropy',\n",
        "              optimizer='adam', metrics=['acc'])\n",
        "\n"
      ]
    },
    {
      "cell_type": "code",
      "execution_count": null,
      "metadata": {
        "id": "HLvfM3l5ISry",
        "colab": {
          "base_uri": "https://localhost:8080/"
        },
        "outputId": "ae80556f-43bb-4913-bd39-577ae98dd41a"
      },
      "outputs": [
        {
          "output_type": "stream",
          "name": "stdout",
          "text": [
            "Epoch 1/50\n",
            "132/132 [==============================] - 121s 461ms/step - loss: 1.6610 - acc: 0.7534 - val_loss: 1.2986 - val_acc: 0.8030 - lr: 0.0010\n",
            "Epoch 2/50\n",
            "132/132 [==============================] - 56s 420ms/step - loss: 0.8935 - acc: 0.8024 - val_loss: 0.7157 - val_acc: 0.7281 - lr: 0.0010\n",
            "Epoch 3/50\n",
            "132/132 [==============================] - 55s 417ms/step - loss: 0.5119 - acc: 0.8131 - val_loss: 0.4787 - val_acc: 0.7923 - lr: 0.0010\n",
            "Epoch 4/50\n",
            "132/132 [==============================] - 56s 420ms/step - loss: 0.3751 - acc: 0.8293 - val_loss: 0.3941 - val_acc: 0.7859 - lr: 0.0010\n",
            "Epoch 5/50\n",
            "132/132 [==============================] - 55s 417ms/step - loss: 0.3242 - acc: 0.8366 - val_loss: 0.3640 - val_acc: 0.8116 - lr: 0.0010\n",
            "Epoch 6/50\n",
            "132/132 [==============================] - 54s 409ms/step - loss: 0.2862 - acc: 0.8559 - val_loss: 0.4466 - val_acc: 0.7580 - lr: 0.0010\n",
            "Epoch 7/50\n",
            "132/132 [==============================] - ETA: 0s - loss: 0.2898 - acc: 0.8521\n",
            "Epoch 7: ReduceLROnPlateau reducing learning rate to 0.0003000000142492354.\n",
            "132/132 [==============================] - 54s 408ms/step - loss: 0.2898 - acc: 0.8521 - val_loss: 0.3649 - val_acc: 0.7687 - lr: 0.0010\n",
            "Epoch 8/50\n",
            "132/132 [==============================] - 55s 418ms/step - loss: 0.2001 - acc: 0.9073 - val_loss: 0.2899 - val_acc: 0.8373 - lr: 3.0000e-04\n",
            "Epoch 9/50\n",
            "132/132 [==============================] - 56s 419ms/step - loss: 0.1644 - acc: 0.9210 - val_loss: 0.2789 - val_acc: 0.8415 - lr: 3.0000e-04\n",
            "Epoch 10/50\n",
            "132/132 [==============================] - 54s 408ms/step - loss: 0.1421 - acc: 0.9346 - val_loss: 0.3243 - val_acc: 0.8223 - lr: 3.0000e-04\n",
            "Epoch 11/50\n",
            "132/132 [==============================] - ETA: 0s - loss: 0.1266 - acc: 0.9432\n",
            "Epoch 11: ReduceLROnPlateau reducing learning rate to 9.000000427477062e-05.\n",
            "132/132 [==============================] - 53s 402ms/step - loss: 0.1266 - acc: 0.9432 - val_loss: 0.3163 - val_acc: 0.8480 - lr: 3.0000e-04\n",
            "Epoch 12/50\n",
            "132/132 [==============================] - 53s 399ms/step - loss: 0.0860 - acc: 0.9667 - val_loss: 0.2988 - val_acc: 0.8501 - lr: 9.0000e-05\n",
            "Epoch 13/50\n",
            "132/132 [==============================] - ETA: 0s - loss: 0.0778 - acc: 0.9669\n",
            "Epoch 13: ReduceLROnPlateau reducing learning rate to 2.700000040931627e-05.\n",
            "132/132 [==============================] - 54s 407ms/step - loss: 0.0778 - acc: 0.9669 - val_loss: 0.3573 - val_acc: 0.8522 - lr: 9.0000e-05\n",
            "Epoch 14/50\n",
            "132/132 [==============================] - 54s 404ms/step - loss: 0.0632 - acc: 0.9748 - val_loss: 0.3493 - val_acc: 0.8351 - lr: 2.7000e-05\n",
            "Epoch 15/50\n",
            "132/132 [==============================] - ETA: 0s - loss: 0.0607 - acc: 0.9810\n",
            "Epoch 15: ReduceLROnPlateau reducing learning rate to 8.100000013655517e-06.\n",
            "132/132 [==============================] - 54s 403ms/step - loss: 0.0607 - acc: 0.9810 - val_loss: 0.3521 - val_acc: 0.8522 - lr: 2.7000e-05\n",
            "Epoch 16/50\n",
            "132/132 [==============================] - 54s 406ms/step - loss: 0.0523 - acc: 0.9817 - val_loss: 0.3502 - val_acc: 0.8501 - lr: 8.1000e-06\n",
            "Epoch 17/50\n",
            "132/132 [==============================] - ETA: 0s - loss: 0.0510 - acc: 0.9826\n",
            "Epoch 17: ReduceLROnPlateau reducing learning rate to 2.429999949526973e-06.\n",
            "132/132 [==============================] - 54s 408ms/step - loss: 0.0510 - acc: 0.9826 - val_loss: 0.3529 - val_acc: 0.8565 - lr: 8.1000e-06\n",
            "Epoch 18/50\n",
            "132/132 [==============================] - 53s 402ms/step - loss: 0.0481 - acc: 0.9815 - val_loss: 0.3811 - val_acc: 0.8458 - lr: 2.4300e-06\n",
            "Epoch 19/50\n",
            "132/132 [==============================] - ETA: 0s - loss: 0.0454 - acc: 0.9848\n",
            "Epoch 19: ReduceLROnPlateau reducing learning rate to 7.289999985005124e-07.\n",
            "132/132 [==============================] - 54s 407ms/step - loss: 0.0454 - acc: 0.9848 - val_loss: 0.3624 - val_acc: 0.8458 - lr: 2.4300e-06\n",
            "Epoch 20/50\n",
            "132/132 [==============================] - 54s 406ms/step - loss: 0.0493 - acc: 0.9826 - val_loss: 0.3763 - val_acc: 0.8651 - lr: 7.2900e-07\n",
            "Epoch 21/50\n",
            "132/132 [==============================] - ETA: 0s - loss: 0.0484 - acc: 0.9834\n",
            "Epoch 21: ReduceLROnPlateau reducing learning rate to 2.1870000637136398e-07.\n",
            "132/132 [==============================] - 53s 398ms/step - loss: 0.0484 - acc: 0.9834 - val_loss: 0.3758 - val_acc: 0.8565 - lr: 7.2900e-07\n",
            "Epoch 22/50\n",
            "132/132 [==============================] - 54s 403ms/step - loss: 0.0509 - acc: 0.9793 - val_loss: 0.3653 - val_acc: 0.8373 - lr: 2.1870e-07\n"
          ]
        }
      ],
      "source": [
        "#checkpoints\n",
        "learning_rate_reduction = ReduceLROnPlateau(monitor='val_loss', patience = 2, verbose=1,factor=0.3, min_lr=0.00000001)\n",
        "chkpt = ModelCheckpoint(filepath='best_model_effnetB3.hdf5', monitor='val_loss', save_best_only=True, save_weights_only=True)\n",
        "early_stopping = tf.keras.callbacks.EarlyStopping(patience=13, monitor='val_loss', restore_best_weights=True)\n",
        "\n",
        "history3 = model3.fit(train_gen, epochs=50, validation_data=valid_gen, callbacks=[learning_rate_reduction, chkpt, early_stopping])\n"
      ]
    },
    {
      "cell_type": "code",
      "execution_count": null,
      "metadata": {
        "id": "65jOylbsIwfd",
        "colab": {
          "base_uri": "https://localhost:8080/"
        },
        "outputId": "4185a256-ee8f-4a04-b1e9-1235f1cfd993"
      },
      "outputs": [
        {
          "output_type": "stream",
          "name": "stdout",
          "text": [
            "37/37 [==============================] - 5s 65ms/step\n"
          ]
        }
      ],
      "source": [
        "model3.load_weights(\"best_model_effnetB3.hdf5\")\n",
        "preds = model3.predict(X_test)\n",
        "labelled_preds = one_hot_encoder.inverse_transform(preds)\n",
        "pred = pd.DataFrame(labelled_preds, columns =[\"class_id\"])\n",
        "df = pd.read_csv('submission3.csv')\n",
        "df ['class_id']= pred\n",
        "df.to_csv(\"final_submission345.csv\", index=False)"
      ]
    },
    {
      "cell_type": "code",
      "execution_count": null,
      "metadata": {
        "id": "ljLwVTkfJrmE"
      },
      "outputs": [],
      "source": [
        "#EfficientNetB3_1\n",
        "base_model31 = tf.keras.applications.EfficientNetB3(include_top=False,\n",
        "                                     weights='imagenet',\n",
        "                                     input_shape=(224, 224, 3))\n",
        "x = base_model31.output\n",
        "x = tf.keras.layers.GlobalAveragePooling2D()(x)\n",
        "x = Dense(512, activation=None, kernel_regularizer = L1L2(l1=1e-6, l2=1e-4))(x)\n",
        "x = BatchNormalization()(x)\n",
        "x = Activation('swish')(x)\n",
        "x = Dropout(0.2)(x)\n",
        "x = Dense(512, activation=None, kernel_regularizer = L1L2(l1=1e-6, l2=1e-4))(x)\n",
        "x = BatchNormalization()(x)\n",
        "x = Activation('swish')(x)\n",
        "x = Dropout(0.2)(x)\n",
        "ouput1 = Dense(3, activation= 'softmax')(x)\n",
        "\n",
        "model31 = Model(inputs=base_model31.input, outputs=ouput1)\n",
        "\n",
        "model31.compile(loss='binary_crossentropy',\n",
        "              optimizer='adam', metrics=['acc'])"
      ]
    },
    {
      "cell_type": "code",
      "execution_count": null,
      "metadata": {
        "id": "Mlp9pddeJ0oi",
        "colab": {
          "base_uri": "https://localhost:8080/"
        },
        "outputId": "0155e148-287b-4419-fb67-f5378faef62d"
      },
      "outputs": [
        {
          "output_type": "stream",
          "name": "stdout",
          "text": [
            "Epoch 1/50\n",
            "132/132 [==============================] - 114s 454ms/step - loss: 0.5577 - acc: 0.7477 - val_loss: 0.5082 - val_acc: 0.7944 - lr: 0.0010\n",
            "Epoch 2/50\n",
            "132/132 [==============================] - 55s 416ms/step - loss: 0.4432 - acc: 0.8043 - val_loss: 0.4523 - val_acc: 0.8009 - lr: 0.0010\n",
            "Epoch 3/50\n",
            "132/132 [==============================] - 54s 408ms/step - loss: 0.4014 - acc: 0.8238 - val_loss: 0.4738 - val_acc: 0.8158 - lr: 0.0010\n",
            "Epoch 4/50\n",
            "132/132 [==============================] - 56s 421ms/step - loss: 0.3615 - acc: 0.8421 - val_loss: 0.3739 - val_acc: 0.8244 - lr: 0.0010\n",
            "Epoch 5/50\n",
            "132/132 [==============================] - 53s 401ms/step - loss: 0.3316 - acc: 0.8585 - val_loss: 0.7586 - val_acc: 0.7002 - lr: 0.0010\n",
            "Epoch 6/50\n",
            "132/132 [==============================] - ETA: 0s - loss: 0.3132 - acc: 0.8552\n",
            "Epoch 6: ReduceLROnPlateau reducing learning rate to 0.0003000000142492354.\n",
            "132/132 [==============================] - 54s 404ms/step - loss: 0.3132 - acc: 0.8552 - val_loss: 0.4700 - val_acc: 0.7623 - lr: 0.0010\n",
            "Epoch 7/50\n",
            "132/132 [==============================] - 56s 420ms/step - loss: 0.2453 - acc: 0.8923 - val_loss: 0.3595 - val_acc: 0.8266 - lr: 3.0000e-04\n",
            "Epoch 8/50\n",
            "132/132 [==============================] - 55s 418ms/step - loss: 0.2007 - acc: 0.9220 - val_loss: 0.3385 - val_acc: 0.8373 - lr: 3.0000e-04\n",
            "Epoch 9/50\n",
            "132/132 [==============================] - 54s 407ms/step - loss: 0.1745 - acc: 0.9375 - val_loss: 0.3689 - val_acc: 0.8330 - lr: 3.0000e-04\n",
            "Epoch 10/50\n",
            "132/132 [==============================] - ETA: 0s - loss: 0.1574 - acc: 0.9439\n",
            "Epoch 10: ReduceLROnPlateau reducing learning rate to 9.000000427477062e-05.\n",
            "132/132 [==============================] - 54s 406ms/step - loss: 0.1574 - acc: 0.9439 - val_loss: 0.3894 - val_acc: 0.8223 - lr: 3.0000e-04\n",
            "Epoch 11/50\n",
            "132/132 [==============================] - 54s 404ms/step - loss: 0.1259 - acc: 0.9641 - val_loss: 0.4027 - val_acc: 0.8201 - lr: 9.0000e-05\n",
            "Epoch 12/50\n",
            "132/132 [==============================] - ETA: 0s - loss: 0.1044 - acc: 0.9748\n",
            "Epoch 12: ReduceLROnPlateau reducing learning rate to 2.700000040931627e-05.\n",
            "132/132 [==============================] - 54s 403ms/step - loss: 0.1044 - acc: 0.9748 - val_loss: 0.4167 - val_acc: 0.8415 - lr: 9.0000e-05\n",
            "Epoch 13/50\n",
            "132/132 [==============================] - 54s 406ms/step - loss: 0.0969 - acc: 0.9757 - val_loss: 0.4182 - val_acc: 0.8480 - lr: 2.7000e-05\n",
            "Epoch 14/50\n",
            "132/132 [==============================] - ETA: 0s - loss: 0.0886 - acc: 0.9800\n",
            "Epoch 14: ReduceLROnPlateau reducing learning rate to 8.100000013655517e-06.\n",
            "132/132 [==============================] - 54s 404ms/step - loss: 0.0886 - acc: 0.9800 - val_loss: 0.4108 - val_acc: 0.8373 - lr: 2.7000e-05\n",
            "Epoch 15/50\n",
            "132/132 [==============================] - 54s 405ms/step - loss: 0.0913 - acc: 0.9769 - val_loss: 0.4249 - val_acc: 0.8373 - lr: 8.1000e-06\n",
            "Epoch 16/50\n",
            "132/132 [==============================] - ETA: 0s - loss: 0.0848 - acc: 0.9843\n",
            "Epoch 16: ReduceLROnPlateau reducing learning rate to 2.429999949526973e-06.\n",
            "132/132 [==============================] - 54s 404ms/step - loss: 0.0848 - acc: 0.9843 - val_loss: 0.4214 - val_acc: 0.8587 - lr: 8.1000e-06\n",
            "Epoch 17/50\n",
            "132/132 [==============================] - 53s 402ms/step - loss: 0.0827 - acc: 0.9845 - val_loss: 0.4138 - val_acc: 0.8458 - lr: 2.4300e-06\n",
            "Epoch 18/50\n",
            "132/132 [==============================] - ETA: 0s - loss: 0.0802 - acc: 0.9855\n",
            "Epoch 18: ReduceLROnPlateau reducing learning rate to 7.289999985005124e-07.\n",
            "132/132 [==============================] - 53s 401ms/step - loss: 0.0802 - acc: 0.9855 - val_loss: 0.4479 - val_acc: 0.8394 - lr: 2.4300e-06\n",
            "Epoch 19/50\n",
            "132/132 [==============================] - 54s 405ms/step - loss: 0.0868 - acc: 0.9819 - val_loss: 0.4555 - val_acc: 0.8394 - lr: 7.2900e-07\n",
            "Epoch 20/50\n",
            "132/132 [==============================] - ETA: 0s - loss: 0.0795 - acc: 0.9841\n",
            "Epoch 20: ReduceLROnPlateau reducing learning rate to 2.1870000637136398e-07.\n",
            "132/132 [==============================] - 54s 407ms/step - loss: 0.0795 - acc: 0.9841 - val_loss: 0.4537 - val_acc: 0.8394 - lr: 7.2900e-07\n",
            "Epoch 21/50\n",
            "132/132 [==============================] - 54s 407ms/step - loss: 0.0847 - acc: 0.9824 - val_loss: 0.4217 - val_acc: 0.8415 - lr: 2.1870e-07\n"
          ]
        }
      ],
      "source": [
        "#checkpoints\n",
        "\n",
        "learning_rate_reduction = ReduceLROnPlateau(monitor='val_loss', patience = 2, verbose=1,factor=0.3, min_lr=0.00000001)\n",
        "chkpt = ModelCheckpoint(filepath='best_model_effnetB3_1.hdf5', monitor='val_loss', save_best_only=True, save_weights_only=True)\n",
        "early_stopping = tf.keras.callbacks.EarlyStopping(patience=13, monitor='val_loss', restore_best_weights=True)\n",
        "\n",
        "history31 = model31.fit(train_gen, epochs=50, validation_data=valid_gen, callbacks=[learning_rate_reduction, chkpt, early_stopping])\n"
      ]
    },
    {
      "cell_type": "code",
      "execution_count": null,
      "metadata": {
        "id": "R_Nq7suTJ6l4",
        "colab": {
          "base_uri": "https://localhost:8080/"
        },
        "outputId": "b7adedaf-be80-4d6e-c146-613b5e531eb5"
      },
      "outputs": [
        {
          "output_type": "stream",
          "name": "stdout",
          "text": [
            "37/37 [==============================] - 5s 63ms/step\n"
          ]
        }
      ],
      "source": [
        "model31.load_weights(\"best_model_effnetB3_1.hdf5\")\n",
        "preds = model31.predict(X_test)\n",
        "labelled_preds = one_hot_encoder.inverse_transform(preds)\n",
        "pred = pd.DataFrame(labelled_preds, columns =[\"class_id\"])\n",
        "df = pd.read_csv('submission3.csv')\n",
        "df['class_id']= pred\n",
        "df.to_csv(\"final_submission98.csv\", index=False)"
      ]
    },
    {
      "cell_type": "markdown",
      "source": [
        "EfficientNet3_2 - Removed from the final resuts"
      ],
      "metadata": {
        "id": "cVU3NfTYQLkp"
      }
    },
    {
      "cell_type": "code",
      "source": [
        "#EfficientNet3_2\n",
        "base_model32 = tf.keras.applications.EfficientNetB3(include_top=False,\n",
        "                                     weights='imagenet',\n",
        "                                     input_shape=(224, 224, 3))\n",
        "x = base_model32.output\n",
        "x = tf.keras.layers.GlobalAveragePooling2D()(x)\n",
        "x = Dense(512, activation=None, kernel_regularizer = L1L2(l1=1e-6, l2=1e-3))(x)\n",
        "x = BatchNormalization()(x)\n",
        "x = Activation('swish')(x)\n",
        "x = Dropout(0.2)(x)\n",
        "x = Dense(512, activation=None, kernel_regularizer = L1L2(l1=1e-6, l2=1e-3))(x)\n",
        "x = BatchNormalization()(x)\n",
        "x = Activation('swish')(x)\n",
        "x = Dropout(0.2)(x)\n",
        "ouput1 = Dense(3, activation= 'softmax')(x)\n",
        "\n",
        "model32 = Model(inputs=base_model32.input, outputs=ouput1)\n",
        "\n",
        "model32.compile(loss='binary_crossentropy',\n",
        "              optimizer='adam', metrics=['acc'])"
      ],
      "metadata": {
        "id": "29blnesbP72K"
      },
      "execution_count": null,
      "outputs": []
    },
    {
      "cell_type": "code",
      "source": [
        "#checkpoints\n",
        "learning_rate_reduction = ReduceLROnPlateau(monitor='val_loss', patience = 2, verbose=1,factor=0.3, min_lr=0.00000001)\n",
        "chkpt = ModelCheckpoint(filepath='best_model_effnetB3_2.hdf5', monitor='val_loss', save_best_only=True, save_weights_only=True)\n",
        "early_stopping = tf.keras.callbacks.EarlyStopping(patience=13, monitor='val_loss', restore_best_weights=True)\n",
        "\n",
        "history32 = model32.fit(train_gen, epochs=40, validation_data=valid_gen, callbacks=[learning_rate_reduction, chkpt, early_stopping])\n"
      ],
      "metadata": {
        "id": "qCCsnNDVQYaw",
        "colab": {
          "base_uri": "https://localhost:8080/"
        },
        "outputId": "dfa9b9e7-b0a4-411c-a5f5-934321b4a5ef"
      },
      "execution_count": null,
      "outputs": [
        {
          "output_type": "stream",
          "name": "stdout",
          "text": [
            "Epoch 1/40\n",
            "132/132 [==============================] - 114s 450ms/step - loss: 1.4532 - acc: 0.7455 - val_loss: 1.1085 - val_acc: 0.7495 - lr: 0.0010\n",
            "Epoch 2/40\n",
            "132/132 [==============================] - 56s 424ms/step - loss: 0.7985 - acc: 0.8083 - val_loss: 0.5796 - val_acc: 0.8094 - lr: 0.0010\n",
            "Epoch 3/40\n",
            "132/132 [==============================] - 56s 421ms/step - loss: 0.4795 - acc: 0.8212 - val_loss: 0.4127 - val_acc: 0.8201 - lr: 0.0010\n",
            "Epoch 4/40\n",
            "132/132 [==============================] - 56s 421ms/step - loss: 0.3532 - acc: 0.8283 - val_loss: 0.3392 - val_acc: 0.8223 - lr: 0.0010\n",
            "Epoch 5/40\n",
            "132/132 [==============================] - 54s 410ms/step - loss: 0.3021 - acc: 0.8357 - val_loss: 0.4443 - val_acc: 0.7109 - lr: 0.0010\n",
            "Epoch 6/40\n",
            "132/132 [==============================] - 56s 420ms/step - loss: 0.2820 - acc: 0.8335 - val_loss: 0.3248 - val_acc: 0.7987 - lr: 0.0010\n",
            "Epoch 7/40\n",
            "132/132 [==============================] - 55s 415ms/step - loss: 0.2529 - acc: 0.8552 - val_loss: 0.3026 - val_acc: 0.8094 - lr: 0.0010\n",
            "Epoch 8/40\n",
            "132/132 [==============================] - 53s 402ms/step - loss: 0.2388 - acc: 0.8668 - val_loss: 0.3572 - val_acc: 0.7687 - lr: 0.0010\n",
            "Epoch 9/40\n",
            "132/132 [==============================] - ETA: 0s - loss: 0.2237 - acc: 0.8751\n",
            "Epoch 9: ReduceLROnPlateau reducing learning rate to 0.0003000000142492354.\n",
            "132/132 [==============================] - 53s 403ms/step - loss: 0.2237 - acc: 0.8751 - val_loss: 0.3527 - val_acc: 0.8158 - lr: 0.0010\n",
            "Epoch 10/40\n",
            "132/132 [==============================] - 56s 422ms/step - loss: 0.1568 - acc: 0.9208 - val_loss: 0.2819 - val_acc: 0.8287 - lr: 3.0000e-04\n",
            "Epoch 11/40\n",
            "132/132 [==============================] - 54s 405ms/step - loss: 0.1222 - acc: 0.9372 - val_loss: 0.3302 - val_acc: 0.8501 - lr: 3.0000e-04\n",
            "Epoch 12/40\n",
            "132/132 [==============================] - ETA: 0s - loss: 0.1066 - acc: 0.9463\n",
            "Epoch 12: ReduceLROnPlateau reducing learning rate to 9.000000427477062e-05.\n",
            "132/132 [==============================] - 53s 401ms/step - loss: 0.1066 - acc: 0.9463 - val_loss: 0.2821 - val_acc: 0.8630 - lr: 3.0000e-04\n",
            "Epoch 13/40\n",
            "132/132 [==============================] - 54s 403ms/step - loss: 0.0784 - acc: 0.9615 - val_loss: 0.3161 - val_acc: 0.8501 - lr: 9.0000e-05\n",
            "Epoch 14/40\n",
            "132/132 [==============================] - ETA: 0s - loss: 0.0542 - acc: 0.9750\n",
            "Epoch 14: ReduceLROnPlateau reducing learning rate to 2.700000040931627e-05.\n",
            "132/132 [==============================] - 53s 402ms/step - loss: 0.0542 - acc: 0.9750 - val_loss: 0.3481 - val_acc: 0.8373 - lr: 9.0000e-05\n",
            "Epoch 15/40\n",
            "132/132 [==============================] - 54s 405ms/step - loss: 0.0508 - acc: 0.9767 - val_loss: 0.3490 - val_acc: 0.8437 - lr: 2.7000e-05\n",
            "Epoch 16/40\n",
            "132/132 [==============================] - ETA: 0s - loss: 0.0419 - acc: 0.9822\n",
            "Epoch 16: ReduceLROnPlateau reducing learning rate to 8.100000013655517e-06.\n",
            "132/132 [==============================] - 54s 407ms/step - loss: 0.0419 - acc: 0.9822 - val_loss: 0.3737 - val_acc: 0.8501 - lr: 2.7000e-05\n",
            "Epoch 17/40\n",
            "132/132 [==============================] - 53s 400ms/step - loss: 0.0416 - acc: 0.9798 - val_loss: 0.3837 - val_acc: 0.8565 - lr: 8.1000e-06\n",
            "Epoch 18/40\n",
            "132/132 [==============================] - ETA: 0s - loss: 0.0421 - acc: 0.9841\n",
            "Epoch 18: ReduceLROnPlateau reducing learning rate to 2.429999949526973e-06.\n",
            "132/132 [==============================] - 54s 407ms/step - loss: 0.0421 - acc: 0.9841 - val_loss: 0.4136 - val_acc: 0.8287 - lr: 8.1000e-06\n",
            "Epoch 19/40\n",
            "132/132 [==============================] - 54s 403ms/step - loss: 0.0414 - acc: 0.9829 - val_loss: 0.4108 - val_acc: 0.8480 - lr: 2.4300e-06\n",
            "Epoch 20/40\n",
            "132/132 [==============================] - ETA: 0s - loss: 0.0369 - acc: 0.9834\n",
            "Epoch 20: ReduceLROnPlateau reducing learning rate to 7.289999985005124e-07.\n",
            "132/132 [==============================] - 54s 404ms/step - loss: 0.0369 - acc: 0.9834 - val_loss: 0.3842 - val_acc: 0.8587 - lr: 2.4300e-06\n",
            "Epoch 21/40\n",
            "132/132 [==============================] - 53s 403ms/step - loss: 0.0372 - acc: 0.9853 - val_loss: 0.3954 - val_acc: 0.8415 - lr: 7.2900e-07\n",
            "Epoch 22/40\n",
            "132/132 [==============================] - ETA: 0s - loss: 0.0356 - acc: 0.9841\n",
            "Epoch 22: ReduceLROnPlateau reducing learning rate to 2.1870000637136398e-07.\n",
            "132/132 [==============================] - 54s 406ms/step - loss: 0.0356 - acc: 0.9841 - val_loss: 0.3865 - val_acc: 0.8565 - lr: 7.2900e-07\n",
            "Epoch 23/40\n",
            "132/132 [==============================] - 54s 407ms/step - loss: 0.0374 - acc: 0.9831 - val_loss: 0.3972 - val_acc: 0.8480 - lr: 2.1870e-07\n"
          ]
        }
      ]
    },
    {
      "cell_type": "code",
      "source": [
        "model32.load_weights(\"best_model_effnetB3_2.hdf5\")\n",
        "preds = model32.predict(X_test)\n",
        "labelled_preds = one_hot_encoder.inverse_transform(preds)\n",
        "pred = pd.DataFrame(labelled_preds, columns =[\"class_id\"])\n",
        "df = pd.read_csv('submission3.csv')\n",
        "df ['class_id']= pred\n",
        "df.to_csv(\"final_submission649.csv\", index=False)"
      ],
      "metadata": {
        "id": "oG_9mZsRQYOl",
        "colab": {
          "base_uri": "https://localhost:8080/"
        },
        "outputId": "579391d2-ce04-4c1b-916e-80003aa2d7b2"
      },
      "execution_count": null,
      "outputs": [
        {
          "output_type": "stream",
          "name": "stdout",
          "text": [
            "37/37 [==============================] - 5s 63ms/step\n"
          ]
        }
      ]
    },
    {
      "cell_type": "markdown",
      "source": [
        "EfficientNet3_3"
      ],
      "metadata": {
        "id": "dcouM3ZTQjxO"
      }
    },
    {
      "cell_type": "code",
      "execution_count": null,
      "metadata": {
        "id": "MkNPLBI-eAMu"
      },
      "outputs": [],
      "source": [
        "#EfficientNet3_3\n",
        "base_model33 = tf.keras.applications.EfficientNetB3(include_top=False,\n",
        "                                     weights='imagenet',\n",
        "                                     input_shape=(224, 224, 3))\n",
        "x = base_model33.output\n",
        "x = tf.keras.layers.GlobalAveragePooling2D()(x)\n",
        "x = Dense(512, activation=None, kernel_regularizer = L1L2(l1=1e-5, l2=1e-3))(x)\n",
        "x = BatchNormalization()(x)\n",
        "x = Activation('swish')(x)\n",
        "x = Dropout(0.5)(x)\n",
        "x = Dense(256, activation=None, kernel_regularizer = L1L2(l1=1e-5, l2=1e-3))(x)\n",
        "x = BatchNormalization()(x)\n",
        "x = Activation('swish')(x)\n",
        "x = Dropout(0.5)(x)\n",
        "ouput1 = Dense(3, activation= 'softmax')(x)\n",
        "\n",
        "model33 = Model(inputs=base_model33.input, outputs=ouput1)\n",
        "\n",
        "model33.compile(loss='binary_crossentropy',\n",
        "              optimizer='adam', metrics=['acc'])\n"
      ]
    },
    {
      "cell_type": "code",
      "execution_count": null,
      "metadata": {
        "id": "LbL_xNnCgPYE",
        "colab": {
          "base_uri": "https://localhost:8080/"
        },
        "outputId": "73be426f-487c-42df-c725-1108c117cf74"
      },
      "outputs": [
        {
          "output_type": "stream",
          "name": "stdout",
          "text": [
            "Epoch 1/40\n",
            "132/132 [==============================] - 113s 454ms/step - loss: 1.5542 - acc: 0.7422 - val_loss: 1.2694 - val_acc: 0.7281 - lr: 0.0010\n",
            "Epoch 2/40\n",
            "132/132 [==============================] - 55s 418ms/step - loss: 0.9288 - acc: 0.7967 - val_loss: 0.7594 - val_acc: 0.7516 - lr: 0.0010\n",
            "Epoch 3/40\n",
            "132/132 [==============================] - 55s 418ms/step - loss: 0.5802 - acc: 0.8126 - val_loss: 0.4781 - val_acc: 0.8180 - lr: 0.0010\n",
            "Epoch 4/40\n",
            "132/132 [==============================] - 55s 418ms/step - loss: 0.4281 - acc: 0.8262 - val_loss: 0.3950 - val_acc: 0.8051 - lr: 0.0010\n",
            "Epoch 5/40\n",
            "132/132 [==============================] - 53s 402ms/step - loss: 0.3649 - acc: 0.8316 - val_loss: 0.3997 - val_acc: 0.8137 - lr: 0.0010\n",
            "Epoch 6/40\n",
            "132/132 [==============================] - 56s 420ms/step - loss: 0.3257 - acc: 0.8492 - val_loss: 0.3661 - val_acc: 0.8223 - lr: 0.0010\n",
            "Epoch 7/40\n",
            "132/132 [==============================] - 54s 404ms/step - loss: 0.3034 - acc: 0.8571 - val_loss: 0.5247 - val_acc: 0.6874 - lr: 0.0010\n",
            "Epoch 8/40\n",
            "132/132 [==============================] - 55s 417ms/step - loss: 0.3138 - acc: 0.8483 - val_loss: 0.3514 - val_acc: 0.7966 - lr: 0.0010\n",
            "Epoch 9/40\n",
            "132/132 [==============================] - 56s 422ms/step - loss: 0.2616 - acc: 0.8740 - val_loss: 0.3279 - val_acc: 0.8394 - lr: 0.0010\n",
            "Epoch 10/40\n",
            "132/132 [==============================] - 54s 406ms/step - loss: 0.2454 - acc: 0.8849 - val_loss: 0.3395 - val_acc: 0.7901 - lr: 0.0010\n",
            "Epoch 11/40\n",
            "132/132 [==============================] - ETA: 0s - loss: 0.2192 - acc: 0.8982\n",
            "Epoch 11: ReduceLROnPlateau reducing learning rate to 0.0003000000142492354.\n",
            "132/132 [==============================] - 54s 404ms/step - loss: 0.2192 - acc: 0.8982 - val_loss: 0.3846 - val_acc: 0.8158 - lr: 0.0010\n",
            "Epoch 12/40\n",
            "132/132 [==============================] - 55s 418ms/step - loss: 0.1508 - acc: 0.9365 - val_loss: 0.2810 - val_acc: 0.8373 - lr: 3.0000e-04\n",
            "Epoch 13/40\n",
            "132/132 [==============================] - 54s 404ms/step - loss: 0.1118 - acc: 0.9527 - val_loss: 0.3071 - val_acc: 0.8351 - lr: 3.0000e-04\n",
            "Epoch 14/40\n",
            "132/132 [==============================] - ETA: 0s - loss: 0.1060 - acc: 0.9572\n",
            "Epoch 14: ReduceLROnPlateau reducing learning rate to 9.000000427477062e-05.\n",
            "132/132 [==============================] - 54s 407ms/step - loss: 0.1060 - acc: 0.9572 - val_loss: 0.3409 - val_acc: 0.8351 - lr: 3.0000e-04\n",
            "Epoch 15/40\n",
            "132/132 [==============================] - 54s 406ms/step - loss: 0.0823 - acc: 0.9669 - val_loss: 0.2942 - val_acc: 0.8587 - lr: 9.0000e-05\n",
            "Epoch 16/40\n",
            "132/132 [==============================] - 56s 420ms/step - loss: 0.0708 - acc: 0.9731 - val_loss: 0.2724 - val_acc: 0.8672 - lr: 9.0000e-05\n",
            "Epoch 17/40\n",
            "132/132 [==============================] - 53s 403ms/step - loss: 0.0654 - acc: 0.9767 - val_loss: 0.3589 - val_acc: 0.8480 - lr: 9.0000e-05\n",
            "Epoch 18/40\n",
            "132/132 [==============================] - ETA: 0s - loss: 0.0560 - acc: 0.9805\n",
            "Epoch 18: ReduceLROnPlateau reducing learning rate to 2.700000040931627e-05.\n",
            "132/132 [==============================] - 53s 400ms/step - loss: 0.0560 - acc: 0.9805 - val_loss: 0.3251 - val_acc: 0.8394 - lr: 9.0000e-05\n",
            "Epoch 19/40\n",
            "132/132 [==============================] - 54s 404ms/step - loss: 0.0495 - acc: 0.9834 - val_loss: 0.3120 - val_acc: 0.8501 - lr: 2.7000e-05\n",
            "Epoch 20/40\n",
            "132/132 [==============================] - ETA: 0s - loss: 0.0420 - acc: 0.9879\n",
            "Epoch 20: ReduceLROnPlateau reducing learning rate to 8.100000013655517e-06.\n",
            "132/132 [==============================] - 54s 404ms/step - loss: 0.0420 - acc: 0.9879 - val_loss: 0.3284 - val_acc: 0.8544 - lr: 2.7000e-05\n",
            "Epoch 21/40\n",
            "132/132 [==============================] - 54s 406ms/step - loss: 0.0398 - acc: 0.9902 - val_loss: 0.3469 - val_acc: 0.8608 - lr: 8.1000e-06\n",
            "Epoch 22/40\n",
            "132/132 [==============================] - ETA: 0s - loss: 0.0428 - acc: 0.9850\n",
            "Epoch 22: ReduceLROnPlateau reducing learning rate to 2.429999949526973e-06.\n",
            "132/132 [==============================] - 53s 399ms/step - loss: 0.0428 - acc: 0.9850 - val_loss: 0.3380 - val_acc: 0.8822 - lr: 8.1000e-06\n",
            "Epoch 23/40\n",
            "132/132 [==============================] - 54s 405ms/step - loss: 0.0425 - acc: 0.9879 - val_loss: 0.3755 - val_acc: 0.8480 - lr: 2.4300e-06\n",
            "Epoch 24/40\n",
            "132/132 [==============================] - ETA: 0s - loss: 0.0390 - acc: 0.9881\n",
            "Epoch 24: ReduceLROnPlateau reducing learning rate to 7.289999985005124e-07.\n",
            "132/132 [==============================] - 53s 403ms/step - loss: 0.0390 - acc: 0.9881 - val_loss: 0.3785 - val_acc: 0.8394 - lr: 2.4300e-06\n",
            "Epoch 25/40\n",
            "132/132 [==============================] - 54s 404ms/step - loss: 0.0347 - acc: 0.9922 - val_loss: 0.3789 - val_acc: 0.8373 - lr: 7.2900e-07\n",
            "Epoch 26/40\n",
            "132/132 [==============================] - ETA: 0s - loss: 0.0379 - acc: 0.9888\n",
            "Epoch 26: ReduceLROnPlateau reducing learning rate to 2.1870000637136398e-07.\n",
            "132/132 [==============================] - 54s 406ms/step - loss: 0.0379 - acc: 0.9888 - val_loss: 0.3648 - val_acc: 0.8522 - lr: 7.2900e-07\n",
            "Epoch 27/40\n",
            "132/132 [==============================] - 54s 407ms/step - loss: 0.0373 - acc: 0.9893 - val_loss: 0.3540 - val_acc: 0.8544 - lr: 2.1870e-07\n",
            "Epoch 28/40\n",
            "132/132 [==============================] - ETA: 0s - loss: 0.0349 - acc: 0.9912\n",
            "Epoch 28: ReduceLROnPlateau reducing learning rate to 6.561000276406048e-08.\n",
            "132/132 [==============================] - 53s 402ms/step - loss: 0.0349 - acc: 0.9912 - val_loss: 0.3414 - val_acc: 0.8672 - lr: 2.1870e-07\n",
            "Epoch 29/40\n",
            "132/132 [==============================] - 54s 404ms/step - loss: 0.0418 - acc: 0.9857 - val_loss: 0.3633 - val_acc: 0.8501 - lr: 6.5610e-08\n"
          ]
        }
      ],
      "source": [
        "#checkpoints\n",
        "\n",
        "learning_rate_reduction = ReduceLROnPlateau(monitor='val_loss', patience = 2, verbose=1,factor=0.3, min_lr=0.00000001)\n",
        "chkpt = ModelCheckpoint(filepath='best_model_effnetB3_3.hdf5', monitor='val_loss', save_best_only=True, save_weights_only=True)\n",
        "early_stopping = tf.keras.callbacks.EarlyStopping(patience=13, monitor='val_loss', restore_best_weights=True)\n",
        "\n",
        "history33 = model33.fit(train_gen, epochs=40, validation_data=valid_gen, callbacks=[learning_rate_reduction, chkpt, early_stopping])\n"
      ]
    },
    {
      "cell_type": "code",
      "execution_count": null,
      "metadata": {
        "id": "uSCQJzxcgWIg",
        "colab": {
          "base_uri": "https://localhost:8080/"
        },
        "outputId": "e2e6dec7-4da2-4a24-c05b-ebcd268fb573"
      },
      "outputs": [
        {
          "output_type": "stream",
          "name": "stdout",
          "text": [
            "37/37 [==============================] - 5s 64ms/step\n"
          ]
        }
      ],
      "source": [
        "model33.load_weights(\"best_model_effnetB3_3.hdf5\")\n",
        "preds = model33.predict(X_test)\n",
        "labelled_preds = one_hot_encoder.inverse_transform(preds)\n",
        "pred = pd.DataFrame(labelled_preds, columns =[\"class_id\"])\n",
        "df = pd.read_csv('submission3.csv')\n",
        "df ['class_id']= pred\n",
        "df.to_csv(\"final_submission657.csv\", index=False)"
      ]
    },
    {
      "cell_type": "markdown",
      "source": [
        "EfficientNet3_4"
      ],
      "metadata": {
        "id": "B3QTmaMRRLz0"
      }
    },
    {
      "cell_type": "code",
      "execution_count": null,
      "metadata": {
        "id": "c3x8gxLWgp5e"
      },
      "outputs": [],
      "source": [
        "#EfficientNet3_4\n",
        "base_model34 = tf.keras.applications.EfficientNetB3(include_top=False,\n",
        "                                     weights='imagenet',\n",
        "                                     input_shape=(224, 224, 3))\n",
        "x = base_model34.output\n",
        "x = tf.keras.layers.GlobalAveragePooling2D()(x)\n",
        "x = Dense(256, activation=None, kernel_regularizer = L1L2(l1=1e-5, l2=1e-3))(x)\n",
        "x = BatchNormalization()(x)\n",
        "x = Activation('swish')(x)\n",
        "x = Dropout(0.3)(x)\n",
        "x = Dense(256, activation=None, kernel_regularizer = L1L2(l1=1e-5, l2=1e-3))(x)\n",
        "x = BatchNormalization()(x)\n",
        "x = Activation('swish')(x)\n",
        "x = Dropout(0.3)(x)\n",
        "ouput1 = Dense(3, activation= 'softmax')(x)\n",
        "\n",
        "model34 = Model(inputs=base_model34.input, outputs=ouput1)\n",
        "\n",
        "model34.compile(loss='binary_crossentropy',\n",
        "              optimizer='adam', metrics=['acc'])\n"
      ]
    },
    {
      "cell_type": "code",
      "execution_count": null,
      "metadata": {
        "id": "ex9IubfwgwvA",
        "colab": {
          "base_uri": "https://localhost:8080/"
        },
        "outputId": "887d5d11-3d16-4a64-8514-bf7e02857dda"
      },
      "outputs": [
        {
          "output_type": "stream",
          "name": "stdout",
          "text": [
            "Epoch 1/50\n",
            "132/132 [==============================] - 114s 454ms/step - loss: 1.0874 - acc: 0.7491 - val_loss: 0.8393 - val_acc: 0.8009 - lr: 0.0010\n",
            "Epoch 2/50\n",
            "132/132 [==============================] - 55s 415ms/step - loss: 0.6760 - acc: 0.8045 - val_loss: 0.5412 - val_acc: 0.8180 - lr: 0.0010\n",
            "Epoch 3/50\n",
            "132/132 [==============================] - 54s 406ms/step - loss: 0.4662 - acc: 0.8181 - val_loss: 0.5750 - val_acc: 0.6488 - lr: 0.0010\n",
            "Epoch 4/50\n",
            "132/132 [==============================] - 56s 419ms/step - loss: 0.3557 - acc: 0.8304 - val_loss: 0.3771 - val_acc: 0.7987 - lr: 0.0010\n",
            "Epoch 5/50\n",
            "132/132 [==============================] - 55s 416ms/step - loss: 0.3221 - acc: 0.8402 - val_loss: 0.3546 - val_acc: 0.8158 - lr: 0.0010\n",
            "Epoch 6/50\n",
            "132/132 [==============================] - 55s 418ms/step - loss: 0.2766 - acc: 0.8495 - val_loss: 0.3306 - val_acc: 0.8223 - lr: 0.0010\n",
            "Epoch 7/50\n",
            "132/132 [==============================] - 53s 402ms/step - loss: 0.2454 - acc: 0.8640 - val_loss: 0.3703 - val_acc: 0.7944 - lr: 0.0010\n",
            "Epoch 8/50\n",
            "132/132 [==============================] - ETA: 0s - loss: 0.2453 - acc: 0.8640\n",
            "Epoch 8: ReduceLROnPlateau reducing learning rate to 0.0003000000142492354.\n",
            "132/132 [==============================] - 53s 402ms/step - loss: 0.2453 - acc: 0.8640 - val_loss: 0.4082 - val_acc: 0.8373 - lr: 0.0010\n",
            "Epoch 9/50\n",
            "132/132 [==============================] - 55s 417ms/step - loss: 0.1882 - acc: 0.9063 - val_loss: 0.2962 - val_acc: 0.8287 - lr: 3.0000e-04\n",
            "Epoch 10/50\n",
            "132/132 [==============================] - 53s 401ms/step - loss: 0.1413 - acc: 0.9306 - val_loss: 0.3011 - val_acc: 0.8415 - lr: 3.0000e-04\n",
            "Epoch 11/50\n",
            "132/132 [==============================] - ETA: 0s - loss: 0.1263 - acc: 0.9339\n",
            "Epoch 11: ReduceLROnPlateau reducing learning rate to 9.000000427477062e-05.\n",
            "132/132 [==============================] - 54s 405ms/step - loss: 0.1263 - acc: 0.9339 - val_loss: 0.3952 - val_acc: 0.8051 - lr: 3.0000e-04\n",
            "Epoch 12/50\n",
            "132/132 [==============================] - 55s 411ms/step - loss: 0.0926 - acc: 0.9581 - val_loss: 0.3251 - val_acc: 0.8287 - lr: 9.0000e-05\n",
            "Epoch 13/50\n",
            "132/132 [==============================] - ETA: 0s - loss: 0.0817 - acc: 0.9641\n",
            "Epoch 13: ReduceLROnPlateau reducing learning rate to 2.700000040931627e-05.\n",
            "132/132 [==============================] - 54s 406ms/step - loss: 0.0817 - acc: 0.9641 - val_loss: 0.3386 - val_acc: 0.8308 - lr: 9.0000e-05\n",
            "Epoch 14/50\n",
            "132/132 [==============================] - 54s 405ms/step - loss: 0.0667 - acc: 0.9719 - val_loss: 0.3325 - val_acc: 0.8373 - lr: 2.7000e-05\n",
            "Epoch 15/50\n",
            "132/132 [==============================] - ETA: 0s - loss: 0.0619 - acc: 0.9757\n",
            "Epoch 15: ReduceLROnPlateau reducing learning rate to 8.100000013655517e-06.\n",
            "132/132 [==============================] - 53s 402ms/step - loss: 0.0619 - acc: 0.9757 - val_loss: 0.3789 - val_acc: 0.8244 - lr: 2.7000e-05\n",
            "Epoch 16/50\n",
            "132/132 [==============================] - 54s 407ms/step - loss: 0.0618 - acc: 0.9753 - val_loss: 0.3640 - val_acc: 0.8480 - lr: 8.1000e-06\n",
            "Epoch 17/50\n",
            "132/132 [==============================] - ETA: 0s - loss: 0.0603 - acc: 0.9784\n",
            "Epoch 17: ReduceLROnPlateau reducing learning rate to 2.429999949526973e-06.\n",
            "132/132 [==============================] - 54s 405ms/step - loss: 0.0603 - acc: 0.9784 - val_loss: 0.3705 - val_acc: 0.8394 - lr: 8.1000e-06\n",
            "Epoch 18/50\n",
            "132/132 [==============================] - 54s 409ms/step - loss: 0.0582 - acc: 0.9750 - val_loss: 0.3806 - val_acc: 0.8501 - lr: 2.4300e-06\n",
            "Epoch 19/50\n",
            "132/132 [==============================] - ETA: 0s - loss: 0.0597 - acc: 0.9750\n",
            "Epoch 19: ReduceLROnPlateau reducing learning rate to 7.289999985005124e-07.\n",
            "132/132 [==============================] - 53s 401ms/step - loss: 0.0597 - acc: 0.9750 - val_loss: 0.3550 - val_acc: 0.8480 - lr: 2.4300e-06\n",
            "Epoch 20/50\n",
            "132/132 [==============================] - 53s 402ms/step - loss: 0.0624 - acc: 0.9784 - val_loss: 0.3773 - val_acc: 0.8373 - lr: 7.2900e-07\n",
            "Epoch 21/50\n",
            "132/132 [==============================] - ETA: 0s - loss: 0.0513 - acc: 0.9788\n",
            "Epoch 21: ReduceLROnPlateau reducing learning rate to 2.1870000637136398e-07.\n",
            "132/132 [==============================] - 53s 403ms/step - loss: 0.0513 - acc: 0.9788 - val_loss: 0.3580 - val_acc: 0.8522 - lr: 7.2900e-07\n",
            "Epoch 22/50\n",
            "132/132 [==============================] - 54s 404ms/step - loss: 0.0572 - acc: 0.9769 - val_loss: 0.3707 - val_acc: 0.8480 - lr: 2.1870e-07\n"
          ]
        }
      ],
      "source": [
        "#checkpoints\n",
        "\n",
        "learning_rate_reduction = ReduceLROnPlateau(monitor='val_loss', patience = 2, verbose=1,factor=0.3, min_lr=0.00000001)\n",
        "chkpt = ModelCheckpoint(filepath='best_model_effnetB3_4.hdf5', monitor='val_loss', save_best_only=True, save_weights_only=True)\n",
        "early_stopping = tf.keras.callbacks.EarlyStopping(patience=13, monitor='val_loss', restore_best_weights=True)\n",
        "\n",
        "history34 = model34.fit(train_gen, epochs=50, validation_data=valid_gen, callbacks=[learning_rate_reduction, chkpt, early_stopping])"
      ]
    },
    {
      "cell_type": "code",
      "execution_count": null,
      "metadata": {
        "id": "NdtH9ZNYg-kE",
        "colab": {
          "base_uri": "https://localhost:8080/"
        },
        "outputId": "e777d32d-c892-4970-cb99-159a4ada0984"
      },
      "outputs": [
        {
          "output_type": "stream",
          "name": "stdout",
          "text": [
            "37/37 [==============================] - 5s 63ms/step\n"
          ]
        }
      ],
      "source": [
        "model34.load_weights(\"best_model_effnetB3_4.hdf5\")\n",
        "preds = model34.predict(X_test)\n",
        "labelled_preds = one_hot_encoder.inverse_transform(preds)\n",
        "pred = pd.DataFrame(labelled_preds, columns =[\"class_id\"])\n",
        "df = pd.read_csv('submission3.csv')\n",
        "df ['class_id']= pred\n",
        "df.to_csv(\"final_submission658.csv\", index=False)"
      ]
    },
    {
      "cell_type": "markdown",
      "source": [
        "EfficientNet3_5"
      ],
      "metadata": {
        "id": "odRlM6aURcMI"
      }
    },
    {
      "cell_type": "code",
      "execution_count": null,
      "metadata": {
        "id": "hS03sKuNhNdY"
      },
      "outputs": [],
      "source": [
        "#EfficientNet3_5\n",
        "base_model35 = tf.keras.applications.EfficientNetB3(include_top=False,\n",
        "                                     weights='imagenet',\n",
        "                                     input_shape=(224, 224, 3))\n",
        "x = base_model35.output\n",
        "x = tf.keras.layers.GlobalAveragePooling2D()(x)\n",
        "x = Dense(512, activation=None, kernel_regularizer = L1L2(l1=1e-5, l2=1e-3))(x)\n",
        "x = BatchNormalization()(x)\n",
        "x = Activation('swish')(x)\n",
        "x = Dropout(0.5)(x)\n",
        "x = Dense(512, activation=None, kernel_regularizer = L1L2(l1=1e-5, l2=1e-3))(x)\n",
        "x = BatchNormalization()(x)\n",
        "x = Activation('swish')(x)\n",
        "x = Dropout(0.5)(x)\n",
        "ouput1 = Dense(3, activation= 'sigmoid')(x)\n",
        "\n",
        "model35 = Model(inputs=base_model35.input, outputs=ouput1)\n",
        "\n",
        "model35.compile(loss='binary_crossentropy',\n",
        "              optimizer='adam', metrics=['acc'])\n"
      ]
    },
    {
      "cell_type": "code",
      "execution_count": null,
      "metadata": {
        "id": "ocE7mjEghX4L",
        "colab": {
          "base_uri": "https://localhost:8080/"
        },
        "outputId": "9e0430df-63d5-45b5-e48e-ff7c36111226"
      },
      "outputs": [
        {
          "output_type": "stream",
          "name": "stdout",
          "text": [
            "Epoch 1/20\n",
            "132/132 [==============================] - 113s 456ms/step - loss: 1.7420 - acc: 0.7429 - val_loss: 1.4292 - val_acc: 0.7859 - lr: 0.0010\n",
            "Epoch 2/20\n",
            "132/132 [==============================] - 55s 418ms/step - loss: 1.0372 - acc: 0.8029 - val_loss: 0.7788 - val_acc: 0.8116 - lr: 0.0010\n",
            "Epoch 3/20\n",
            "132/132 [==============================] - 55s 418ms/step - loss: 0.6666 - acc: 0.8024 - val_loss: 0.5281 - val_acc: 0.7859 - lr: 0.0010\n",
            "Epoch 4/20\n",
            "132/132 [==============================] - 56s 424ms/step - loss: 0.4597 - acc: 0.8243 - val_loss: 0.4275 - val_acc: 0.8137 - lr: 0.0010\n",
            "Epoch 5/20\n",
            "132/132 [==============================] - 55s 417ms/step - loss: 0.3823 - acc: 0.8254 - val_loss: 0.4251 - val_acc: 0.8137 - lr: 0.0010\n",
            "Epoch 6/20\n",
            "132/132 [==============================] - 54s 403ms/step - loss: 0.3416 - acc: 0.8378 - val_loss: 0.4801 - val_acc: 0.7859 - lr: 0.0010\n",
            "Epoch 7/20\n",
            "132/132 [==============================] - ETA: 0s - loss: 0.3120 - acc: 0.8618\n",
            "Epoch 7: ReduceLROnPlateau reducing learning rate to 0.0003000000142492354.\n",
            "132/132 [==============================] - 54s 404ms/step - loss: 0.3120 - acc: 0.8618 - val_loss: 0.4524 - val_acc: 0.7966 - lr: 0.0010\n",
            "Epoch 8/20\n",
            "132/132 [==============================] - 55s 416ms/step - loss: 0.2308 - acc: 0.8968 - val_loss: 0.3000 - val_acc: 0.8501 - lr: 3.0000e-04\n",
            "Epoch 9/20\n",
            "132/132 [==============================] - 54s 405ms/step - loss: 0.1917 - acc: 0.9177 - val_loss: 0.3096 - val_acc: 0.8373 - lr: 3.0000e-04\n",
            "Epoch 10/20\n",
            "132/132 [==============================] - ETA: 0s - loss: 0.1768 - acc: 0.9220\n",
            "Epoch 10: ReduceLROnPlateau reducing learning rate to 9.000000427477062e-05.\n",
            "132/132 [==============================] - 54s 405ms/step - loss: 0.1768 - acc: 0.9220 - val_loss: 0.3393 - val_acc: 0.8244 - lr: 3.0000e-04\n",
            "Epoch 11/20\n",
            "132/132 [==============================] - 53s 403ms/step - loss: 0.1317 - acc: 0.9484 - val_loss: 0.3086 - val_acc: 0.8651 - lr: 9.0000e-05\n",
            "Epoch 12/20\n",
            "132/132 [==============================] - 56s 419ms/step - loss: 0.1147 - acc: 0.9534 - val_loss: 0.2977 - val_acc: 0.8522 - lr: 9.0000e-05\n",
            "Epoch 13/20\n",
            "132/132 [==============================] - 53s 402ms/step - loss: 0.1033 - acc: 0.9598 - val_loss: 0.3029 - val_acc: 0.8672 - lr: 9.0000e-05\n",
            "Epoch 14/20\n",
            "132/132 [==============================] - ETA: 0s - loss: 0.0883 - acc: 0.9658\n",
            "Epoch 14: ReduceLROnPlateau reducing learning rate to 2.700000040931627e-05.\n",
            "132/132 [==============================] - 54s 405ms/step - loss: 0.0883 - acc: 0.9658 - val_loss: 0.3110 - val_acc: 0.8630 - lr: 9.0000e-05\n",
            "Epoch 15/20\n",
            "132/132 [==============================] - 53s 400ms/step - loss: 0.0805 - acc: 0.9724 - val_loss: 0.3380 - val_acc: 0.8694 - lr: 2.7000e-05\n",
            "Epoch 16/20\n",
            "132/132 [==============================] - ETA: 0s - loss: 0.0746 - acc: 0.9738\n",
            "Epoch 16: ReduceLROnPlateau reducing learning rate to 8.100000013655517e-06.\n",
            "132/132 [==============================] - 54s 406ms/step - loss: 0.0746 - acc: 0.9738 - val_loss: 0.3302 - val_acc: 0.8565 - lr: 2.7000e-05\n",
            "Epoch 17/20\n",
            "132/132 [==============================] - 53s 400ms/step - loss: 0.0650 - acc: 0.9772 - val_loss: 0.3563 - val_acc: 0.8501 - lr: 8.1000e-06\n",
            "Epoch 18/20\n",
            "132/132 [==============================] - ETA: 0s - loss: 0.0611 - acc: 0.9805\n",
            "Epoch 18: ReduceLROnPlateau reducing learning rate to 2.429999949526973e-06.\n",
            "132/132 [==============================] - 54s 403ms/step - loss: 0.0611 - acc: 0.9805 - val_loss: 0.3379 - val_acc: 0.8544 - lr: 8.1000e-06\n",
            "Epoch 19/20\n",
            "132/132 [==============================] - 54s 406ms/step - loss: 0.0576 - acc: 0.9807 - val_loss: 0.3324 - val_acc: 0.8630 - lr: 2.4300e-06\n",
            "Epoch 20/20\n",
            "132/132 [==============================] - ETA: 0s - loss: 0.0630 - acc: 0.9781\n",
            "Epoch 20: ReduceLROnPlateau reducing learning rate to 7.289999985005124e-07.\n",
            "132/132 [==============================] - 55s 417ms/step - loss: 0.0630 - acc: 0.9781 - val_loss: 0.3884 - val_acc: 0.8480 - lr: 2.4300e-06\n"
          ]
        }
      ],
      "source": [
        "#checkpoints\n",
        "\n",
        "learning_rate_reduction = ReduceLROnPlateau(monitor='val_loss', patience = 2, verbose=1,factor=0.3, min_lr=0.00000001)\n",
        "chkpt = ModelCheckpoint(filepath='best_model_effnetB3_5.hdf5', monitor='val_loss', save_best_only=True, save_weights_only=True)\n",
        "early_stopping = tf.keras.callbacks.EarlyStopping(patience=13, monitor='val_loss', restore_best_weights=True)\n",
        "\n",
        "\n",
        "history35 = model35.fit(train_gen, epochs=20, validation_data=valid_gen, callbacks=[learning_rate_reduction, chkpt, early_stopping])\n"
      ]
    },
    {
      "cell_type": "code",
      "execution_count": null,
      "metadata": {
        "id": "C6aH7Ytrhf8t",
        "colab": {
          "base_uri": "https://localhost:8080/"
        },
        "outputId": "6cb47335-e1a7-4939-a924-598b99c0006e"
      },
      "outputs": [
        {
          "output_type": "stream",
          "name": "stdout",
          "text": [
            "37/37 [==============================] - 6s 64ms/step\n"
          ]
        }
      ],
      "source": [
        "model35.load_weights(\"best_model_effnetB3_5.hdf5\")\n",
        "preds = model35.predict(X_test)\n",
        "labelled_preds = one_hot_encoder.inverse_transform(preds)\n",
        "pred = pd.DataFrame(labelled_preds, columns =[\"class_id\"])\n",
        "df = pd.read_csv('submission3.csv')\n",
        "df ['class_id']= pred\n",
        "df.to_csv(\"final_submission659.csv\", index=False)"
      ]
    },
    {
      "cell_type": "markdown",
      "source": [
        "EfficientNet3_6"
      ],
      "metadata": {
        "id": "uUnOcuyCT2JK"
      }
    },
    {
      "cell_type": "code",
      "execution_count": null,
      "metadata": {
        "id": "N72WAfCwh_5j"
      },
      "outputs": [],
      "source": [
        "#EfficientNet3_6\n",
        "base_model36 = tf.keras.applications.EfficientNetB3(include_top=False,\n",
        "                                     weights='imagenet',\n",
        "                                     input_shape=(224, 224, 3))\n",
        "x = base_model36.output\n",
        "x = tf.keras.layers.GlobalAveragePooling2D()(x)\n",
        "x = Dense(512, activation=None, kernel_regularizer = L1L2(l1=1e-5, l2=1e-3))(x)\n",
        "x = BatchNormalization()(x)\n",
        "x = Activation('swish')(x)\n",
        "x = Dropout(0.2)(x)\n",
        "x = Dense(512, activation=None, kernel_regularizer = L1L2(l1=1e-5, l2=1e-3))(x)\n",
        "x = BatchNormalization()(x)\n",
        "x = Activation('swish')(x)\n",
        "x = Dropout(0.2)(x)\n",
        "ouput1 = Dense(3, activation= 'softmax')(x)\n",
        "\n",
        "model36 = Model(inputs=base_model36.input, outputs=ouput1)\n",
        "\n",
        "model36.compile(loss='binary_crossentropy',\n",
        "              optimizer='adam', metrics=['acc'])\n"
      ]
    },
    {
      "cell_type": "code",
      "execution_count": null,
      "metadata": {
        "id": "HPQnrIFOh_wS",
        "colab": {
          "base_uri": "https://localhost:8080/"
        },
        "outputId": "b4abbabf-29fc-4623-f684-6b9de4aea6a6"
      },
      "outputs": [
        {
          "output_type": "stream",
          "name": "stdout",
          "text": [
            "Epoch 1/50\n",
            "132/132 [==============================] - 113s 453ms/step - loss: 1.6223 - acc: 0.7515 - val_loss: 1.2469 - val_acc: 0.7152 - lr: 0.0010\n",
            "Epoch 2/50\n",
            "132/132 [==============================] - 55s 415ms/step - loss: 0.8234 - acc: 0.8017 - val_loss: 0.6849 - val_acc: 0.7623 - lr: 0.0010\n",
            "Epoch 3/50\n",
            "132/132 [==============================] - 55s 415ms/step - loss: 0.4602 - acc: 0.8164 - val_loss: 0.4188 - val_acc: 0.7987 - lr: 0.0010\n",
            "Epoch 4/50\n",
            "132/132 [==============================] - 56s 420ms/step - loss: 0.3539 - acc: 0.8207 - val_loss: 0.3409 - val_acc: 0.8180 - lr: 0.0010\n",
            "Epoch 5/50\n",
            "132/132 [==============================] - 54s 404ms/step - loss: 0.2956 - acc: 0.8445 - val_loss: 0.3501 - val_acc: 0.8244 - lr: 0.0010\n",
            "Epoch 6/50\n",
            "132/132 [==============================] - ETA: 0s - loss: 0.2840 - acc: 0.8521\n",
            "Epoch 6: ReduceLROnPlateau reducing learning rate to 0.0003000000142492354.\n",
            "132/132 [==============================] - 53s 403ms/step - loss: 0.2840 - acc: 0.8521 - val_loss: 0.3610 - val_acc: 0.7923 - lr: 0.0010\n",
            "Epoch 7/50\n",
            "132/132 [==============================] - 56s 419ms/step - loss: 0.2178 - acc: 0.8897 - val_loss: 0.2855 - val_acc: 0.8330 - lr: 3.0000e-04\n",
            "Epoch 8/50\n",
            "132/132 [==============================] - 56s 422ms/step - loss: 0.1742 - acc: 0.9113 - val_loss: 0.2721 - val_acc: 0.8565 - lr: 3.0000e-04\n",
            "Epoch 9/50\n",
            "132/132 [==============================] - 53s 402ms/step - loss: 0.1497 - acc: 0.9222 - val_loss: 0.2922 - val_acc: 0.8287 - lr: 3.0000e-04\n",
            "Epoch 10/50\n",
            "132/132 [==============================] - ETA: 0s - loss: 0.1353 - acc: 0.9351\n",
            "Epoch 10: ReduceLROnPlateau reducing learning rate to 9.000000427477062e-05.\n",
            "132/132 [==============================] - 54s 404ms/step - loss: 0.1353 - acc: 0.9351 - val_loss: 0.3613 - val_acc: 0.8266 - lr: 3.0000e-04\n",
            "Epoch 11/50\n",
            "132/132 [==============================] - 53s 401ms/step - loss: 0.1070 - acc: 0.9482 - val_loss: 0.3130 - val_acc: 0.8415 - lr: 9.0000e-05\n",
            "Epoch 12/50\n",
            "132/132 [==============================] - ETA: 0s - loss: 0.0905 - acc: 0.9579\n",
            "Epoch 12: ReduceLROnPlateau reducing learning rate to 2.700000040931627e-05.\n",
            "132/132 [==============================] - 54s 405ms/step - loss: 0.0905 - acc: 0.9579 - val_loss: 0.3680 - val_acc: 0.8565 - lr: 9.0000e-05\n",
            "Epoch 13/50\n",
            "132/132 [==============================] - 53s 401ms/step - loss: 0.0657 - acc: 0.9746 - val_loss: 0.3384 - val_acc: 0.8458 - lr: 2.7000e-05\n",
            "Epoch 14/50\n",
            "132/132 [==============================] - ETA: 0s - loss: 0.0623 - acc: 0.9750\n",
            "Epoch 14: ReduceLROnPlateau reducing learning rate to 8.100000013655517e-06.\n",
            "132/132 [==============================] - 54s 405ms/step - loss: 0.0623 - acc: 0.9750 - val_loss: 0.3685 - val_acc: 0.8522 - lr: 2.7000e-05\n",
            "Epoch 15/50\n",
            "132/132 [==============================] - 53s 403ms/step - loss: 0.0626 - acc: 0.9715 - val_loss: 0.3761 - val_acc: 0.8544 - lr: 8.1000e-06\n",
            "Epoch 16/50\n",
            "132/132 [==============================] - ETA: 0s - loss: 0.0550 - acc: 0.9753\n",
            "Epoch 16: ReduceLROnPlateau reducing learning rate to 2.429999949526973e-06.\n",
            "132/132 [==============================] - 54s 408ms/step - loss: 0.0550 - acc: 0.9753 - val_loss: 0.3876 - val_acc: 0.8394 - lr: 8.1000e-06\n",
            "Epoch 17/50\n",
            "132/132 [==============================] - 54s 410ms/step - loss: 0.0603 - acc: 0.9738 - val_loss: 0.3714 - val_acc: 0.8608 - lr: 2.4300e-06\n",
            "Epoch 18/50\n",
            "132/132 [==============================] - ETA: 0s - loss: 0.0588 - acc: 0.9746\n",
            "Epoch 18: ReduceLROnPlateau reducing learning rate to 7.289999985005124e-07.\n",
            "132/132 [==============================] - 54s 410ms/step - loss: 0.0588 - acc: 0.9746 - val_loss: 0.4048 - val_acc: 0.8522 - lr: 2.4300e-06\n",
            "Epoch 19/50\n",
            "132/132 [==============================] - 54s 405ms/step - loss: 0.0599 - acc: 0.9755 - val_loss: 0.4024 - val_acc: 0.8544 - lr: 7.2900e-07\n",
            "Epoch 20/50\n",
            "132/132 [==============================] - ETA: 0s - loss: 0.0543 - acc: 0.9772\n",
            "Epoch 20: ReduceLROnPlateau reducing learning rate to 2.1870000637136398e-07.\n",
            "132/132 [==============================] - 53s 402ms/step - loss: 0.0543 - acc: 0.9772 - val_loss: 0.4036 - val_acc: 0.8565 - lr: 7.2900e-07\n",
            "Epoch 21/50\n",
            "132/132 [==============================] - 54s 408ms/step - loss: 0.0552 - acc: 0.9767 - val_loss: 0.4244 - val_acc: 0.8394 - lr: 2.1870e-07\n"
          ]
        }
      ],
      "source": [
        "#checkpoints\n",
        "\n",
        "learning_rate_reduction = ReduceLROnPlateau(monitor='val_loss', patience = 2, verbose=1,factor=0.3, min_lr=0.00000001)\n",
        "chkpt = ModelCheckpoint(filepath='best_model_effnetB3_6.hdf5', monitor='val_loss', save_best_only=True, save_weights_only=True)\n",
        "early_stopping = tf.keras.callbacks.EarlyStopping(patience=13, monitor='val_loss', restore_best_weights=True)\n",
        "\n",
        "history36 = model36.fit(train_gen, epochs=50, validation_data=valid_gen, callbacks=[learning_rate_reduction, chkpt, early_stopping])\n"
      ]
    },
    {
      "cell_type": "code",
      "execution_count": null,
      "metadata": {
        "id": "OYfcYpSDh_s9",
        "colab": {
          "base_uri": "https://localhost:8080/"
        },
        "outputId": "06fe0e0f-3e94-4119-b74d-06c121980a9a"
      },
      "outputs": [
        {
          "output_type": "stream",
          "name": "stdout",
          "text": [
            "37/37 [==============================] - 5s 64ms/step\n"
          ]
        }
      ],
      "source": [
        "model36.load_weights(\"best_model_effnetB3_6.hdf5\")\n",
        "preds = model36.predict(X_test)\n",
        "labelled_preds = one_hot_encoder.inverse_transform(preds)\n",
        "pred = pd.DataFrame(labelled_preds, columns =[\"class_id\"])\n",
        "df = pd.read_csv('submission3.csv')\n",
        "df ['class_id']= pred\n",
        "df.to_csv(\"final_submission682.csv\", index=False)\n"
      ]
    },
    {
      "cell_type": "markdown",
      "source": [
        "EfficientNet3_7"
      ],
      "metadata": {
        "id": "D5xFxIeZScti"
      }
    },
    {
      "cell_type": "code",
      "execution_count": null,
      "metadata": {
        "id": "-FHiE0rPiw_g"
      },
      "outputs": [],
      "source": [
        "#EfficientNet3_7\n",
        "base_model37 = tf.keras.applications.EfficientNetB3(include_top=False,\n",
        "                                     weights='imagenet',\n",
        "                                     input_shape=(224, 224, 3))\n",
        "x = base_model37.output\n",
        "x = tf.keras.layers.GlobalAveragePooling2D()(x)\n",
        "x = Dense(256, activation=None, kernel_regularizer = L1L2(l1=1e-5, l2=1e-3))(x)\n",
        "x = BatchNormalization()(x)\n",
        "x = Activation('swish')(x)\n",
        "x = Dropout(0.3)(x)\n",
        "x = Dense(256, activation=None, kernel_regularizer = L1L2(l1=1e-5, l2=1e-3))(x)\n",
        "x = BatchNormalization()(x)\n",
        "x = Activation('swish')(x)\n",
        "x = Dropout(0.3)(x)\n",
        "ouput1 = Dense(3, activation= 'softmax')(x)\n",
        "\n",
        "model37 = Model(inputs=base_model37.input, outputs=ouput1)\n",
        "\n",
        "model37.compile(loss='binary_crossentropy',\n",
        "              optimizer='adam', metrics=['acc'])"
      ]
    },
    {
      "cell_type": "code",
      "execution_count": null,
      "metadata": {
        "id": "cYIAdmjuiw85",
        "colab": {
          "base_uri": "https://localhost:8080/"
        },
        "outputId": "fca8bb61-53e3-417f-ae1e-4e02c80e9866"
      },
      "outputs": [
        {
          "output_type": "stream",
          "name": "stdout",
          "text": [
            "Epoch 1/70\n",
            "132/132 [==============================] - 113s 452ms/step - loss: 1.0974 - acc: 0.7584 - val_loss: 0.9110 - val_acc: 0.7859 - lr: 0.0010\n",
            "Epoch 2/70\n",
            "132/132 [==============================] - 56s 419ms/step - loss: 0.7061 - acc: 0.8043 - val_loss: 0.5892 - val_acc: 0.7859 - lr: 0.0010\n",
            "Epoch 3/70\n",
            "132/132 [==============================] - 55s 413ms/step - loss: 0.4917 - acc: 0.8178 - val_loss: 0.4369 - val_acc: 0.8116 - lr: 0.0010\n",
            "Epoch 4/70\n",
            "132/132 [==============================] - 55s 416ms/step - loss: 0.3703 - acc: 0.8297 - val_loss: 0.3886 - val_acc: 0.8030 - lr: 0.0010\n",
            "Epoch 5/70\n",
            "132/132 [==============================] - 56s 420ms/step - loss: 0.3167 - acc: 0.8409 - val_loss: 0.3223 - val_acc: 0.8223 - lr: 0.0010\n",
            "Epoch 6/70\n",
            "132/132 [==============================] - 54s 403ms/step - loss: 0.2918 - acc: 0.8499 - val_loss: 0.3243 - val_acc: 0.8051 - lr: 0.0010\n",
            "Epoch 7/70\n",
            "132/132 [==============================] - ETA: 0s - loss: 0.2570 - acc: 0.8621\n",
            "Epoch 7: ReduceLROnPlateau reducing learning rate to 0.0003000000142492354.\n",
            "132/132 [==============================] - 54s 405ms/step - loss: 0.2570 - acc: 0.8621 - val_loss: 0.3295 - val_acc: 0.7901 - lr: 0.0010\n",
            "Epoch 8/70\n",
            "132/132 [==============================] - 55s 417ms/step - loss: 0.1913 - acc: 0.8977 - val_loss: 0.2689 - val_acc: 0.8630 - lr: 3.0000e-04\n",
            "Epoch 9/70\n",
            "132/132 [==============================] - 54s 406ms/step - loss: 0.1580 - acc: 0.9163 - val_loss: 0.3272 - val_acc: 0.8458 - lr: 3.0000e-04\n",
            "Epoch 10/70\n",
            "132/132 [==============================] - ETA: 0s - loss: 0.1292 - acc: 0.9398\n",
            "Epoch 10: ReduceLROnPlateau reducing learning rate to 9.000000427477062e-05.\n",
            "132/132 [==============================] - 54s 403ms/step - loss: 0.1292 - acc: 0.9398 - val_loss: 0.2889 - val_acc: 0.8308 - lr: 3.0000e-04\n",
            "Epoch 11/70\n",
            "132/132 [==============================] - 53s 403ms/step - loss: 0.1019 - acc: 0.9508 - val_loss: 0.3353 - val_acc: 0.8415 - lr: 9.0000e-05\n",
            "Epoch 12/70\n",
            "132/132 [==============================] - ETA: 0s - loss: 0.0795 - acc: 0.9660\n",
            "Epoch 12: ReduceLROnPlateau reducing learning rate to 2.700000040931627e-05.\n",
            "132/132 [==============================] - 54s 409ms/step - loss: 0.0795 - acc: 0.9660 - val_loss: 0.3223 - val_acc: 0.8501 - lr: 9.0000e-05\n",
            "Epoch 13/70\n",
            "132/132 [==============================] - 54s 404ms/step - loss: 0.0782 - acc: 0.9707 - val_loss: 0.3105 - val_acc: 0.8694 - lr: 2.7000e-05\n",
            "Epoch 14/70\n",
            "132/132 [==============================] - ETA: 0s - loss: 0.0651 - acc: 0.9753\n",
            "Epoch 14: ReduceLROnPlateau reducing learning rate to 8.100000013655517e-06.\n",
            "132/132 [==============================] - 53s 402ms/step - loss: 0.0651 - acc: 0.9753 - val_loss: 0.3336 - val_acc: 0.8501 - lr: 2.7000e-05\n",
            "Epoch 15/70\n",
            "132/132 [==============================] - 55s 415ms/step - loss: 0.0604 - acc: 0.9757 - val_loss: 0.3330 - val_acc: 0.8522 - lr: 8.1000e-06\n",
            "Epoch 16/70\n",
            "132/132 [==============================] - ETA: 0s - loss: 0.0517 - acc: 0.9807\n",
            "Epoch 16: ReduceLROnPlateau reducing learning rate to 2.429999949526973e-06.\n",
            "132/132 [==============================] - 54s 406ms/step - loss: 0.0517 - acc: 0.9807 - val_loss: 0.3500 - val_acc: 0.8501 - lr: 8.1000e-06\n",
            "Epoch 17/70\n",
            "132/132 [==============================] - 54s 404ms/step - loss: 0.0565 - acc: 0.9795 - val_loss: 0.3330 - val_acc: 0.8587 - lr: 2.4300e-06\n",
            "Epoch 18/70\n",
            "132/132 [==============================] - ETA: 0s - loss: 0.0599 - acc: 0.9774\n",
            "Epoch 18: ReduceLROnPlateau reducing learning rate to 7.289999985005124e-07.\n",
            "132/132 [==============================] - 54s 403ms/step - loss: 0.0599 - acc: 0.9774 - val_loss: 0.3556 - val_acc: 0.8544 - lr: 2.4300e-06\n",
            "Epoch 19/70\n",
            "132/132 [==============================] - 54s 404ms/step - loss: 0.0596 - acc: 0.9769 - val_loss: 0.3695 - val_acc: 0.8458 - lr: 7.2900e-07\n",
            "Epoch 20/70\n",
            "132/132 [==============================] - ETA: 0s - loss: 0.0583 - acc: 0.9800\n",
            "Epoch 20: ReduceLROnPlateau reducing learning rate to 2.1870000637136398e-07.\n",
            "132/132 [==============================] - 54s 405ms/step - loss: 0.0583 - acc: 0.9800 - val_loss: 0.3635 - val_acc: 0.8522 - lr: 7.2900e-07\n",
            "Epoch 21/70\n",
            "132/132 [==============================] - 55s 412ms/step - loss: 0.0548 - acc: 0.9822 - val_loss: 0.3519 - val_acc: 0.8608 - lr: 2.1870e-07\n"
          ]
        }
      ],
      "source": [
        "#checkpoints\n",
        "\n",
        "learning_rate_reduction = ReduceLROnPlateau(monitor='val_loss', patience = 2, verbose=1,factor=0.3, min_lr=0.00000001)\n",
        "chkpt = ModelCheckpoint(filepath='best_model_effnetB3_7.hdf5', monitor='val_loss', save_best_only=True, save_weights_only=True)\n",
        "early_stopping = tf.keras.callbacks.EarlyStopping(patience=13, monitor='val_loss', restore_best_weights=True)\n",
        "\n",
        "history37 = model37.fit(train_gen, epochs=70, validation_data=valid_gen, callbacks=[learning_rate_reduction, chkpt, early_stopping])\n"
      ]
    },
    {
      "cell_type": "code",
      "execution_count": null,
      "metadata": {
        "id": "SdhMxFZlh_qc",
        "colab": {
          "base_uri": "https://localhost:8080/"
        },
        "outputId": "a687c464-37e9-4c0a-816e-f390e15028ae"
      },
      "outputs": [
        {
          "output_type": "stream",
          "name": "stdout",
          "text": [
            "37/37 [==============================] - 5s 63ms/step\n"
          ]
        }
      ],
      "source": [
        "model37.load_weights(\"best_model_effnetB3_7.hdf5\")\n",
        "preds = model37.predict(X_test)\n",
        "labelled_preds = one_hot_encoder.inverse_transform(preds)\n",
        "pred = pd.DataFrame(labelled_preds, columns =[\"class_id\"])\n",
        "df = pd.read_csv('submission3.csv')\n",
        "df ['class_id']= pred\n",
        "df.to_csv(\"final_submission8924.csv\", index=False)"
      ]
    },
    {
      "cell_type": "markdown",
      "source": [
        "EfficientNetV2B0 - Kept for final results\n"
      ],
      "metadata": {
        "id": "RblwCxe6UtTq"
      }
    },
    {
      "cell_type": "code",
      "execution_count": null,
      "metadata": {
        "id": "Ct3NQt_tjMp4",
        "colab": {
          "base_uri": "https://localhost:8080/"
        },
        "outputId": "a2522a85-ecd9-44d9-9f8c-26be443af146"
      },
      "outputs": [
        {
          "output_type": "stream",
          "name": "stdout",
          "text": [
            "Downloading data from https://storage.googleapis.com/tensorflow/keras-applications/efficientnet_v2/efficientnetv2-b0_notop.h5\n",
            "24274472/24274472 [==============================] - 0s 0us/step\n"
          ]
        }
      ],
      "source": [
        "#EfficientNetV2B0\n",
        "base_model4 = tf.keras.applications.EfficientNetV2B0(include_top=False,\n",
        "                                     weights='imagenet',\n",
        "                                     input_shape=(224, 224, 3))\n",
        "x = base_model4.output\n",
        "x = tf.keras.layers.GlobalAveragePooling2D()(x)\n",
        "x = Dense(512, activation=None, kernel_regularizer = L1L2(l1=1e-5, l2=1e-3))(x)\n",
        "x = BatchNormalization()(x)\n",
        "x = Activation('swish')(x)\n",
        "x = Dropout(0.3)(x)\n",
        "x = Dense(512, activation=None, kernel_regularizer = L1L2(l1=1e-5, l2=1e-3))(x)\n",
        "x = BatchNormalization()(x)\n",
        "x = Activation('swish')(x)\n",
        "x = Dropout(0.3)(x)\n",
        "ouput1 = Dense(3, activation= 'softmax')(x)\n",
        "\n",
        "model4 = Model(inputs=base_model4.input, outputs=ouput1)\n",
        "optimizer = tf.keras.optimizers.legacy.Adam(learning_rate=1e-3, decay=1e-3 * 0.1)\n",
        "model4.compile(loss='categorical_crossentropy',\n",
        "                optimizer=optimizer,\n",
        "                metrics=['acc'])"
      ]
    },
    {
      "cell_type": "code",
      "execution_count": null,
      "metadata": {
        "id": "zF0JcE7VjMnH",
        "colab": {
          "base_uri": "https://localhost:8080/"
        },
        "outputId": "5a43ac39-941a-4dba-db36-d2ac49da2519"
      },
      "outputs": [
        {
          "output_type": "stream",
          "name": "stdout",
          "text": [
            "Epoch 1/25\n",
            "132/132 [==============================] - 71s 434ms/step - loss: 2.0740 - acc: 0.7422 - val_loss: 1.7447 - val_acc: 0.8116 - lr: 0.0010\n",
            "Epoch 2/25\n",
            "132/132 [==============================] - 54s 408ms/step - loss: 1.5710 - acc: 0.7931 - val_loss: 1.3477 - val_acc: 0.8030 - lr: 0.0010\n",
            "Epoch 3/25\n",
            "132/132 [==============================] - 54s 408ms/step - loss: 1.2328 - acc: 0.8067 - val_loss: 1.0427 - val_acc: 0.8180 - lr: 0.0010\n",
            "Epoch 4/25\n",
            "132/132 [==============================] - 54s 406ms/step - loss: 0.9583 - acc: 0.8202 - val_loss: 0.8718 - val_acc: 0.8030 - lr: 0.0010\n",
            "Epoch 5/25\n",
            "132/132 [==============================] - 54s 410ms/step - loss: 0.7340 - acc: 0.8340 - val_loss: 0.6841 - val_acc: 0.8394 - lr: 0.0010\n",
            "Epoch 6/25\n",
            "132/132 [==============================] - 54s 409ms/step - loss: 0.6137 - acc: 0.8390 - val_loss: 0.6093 - val_acc: 0.8244 - lr: 0.0010\n",
            "Epoch 7/25\n",
            "132/132 [==============================] - 54s 407ms/step - loss: 0.5300 - acc: 0.8445 - val_loss: 0.5259 - val_acc: 0.8351 - lr: 0.0010\n",
            "Epoch 8/25\n",
            "132/132 [==============================] - 53s 403ms/step - loss: 0.4738 - acc: 0.8523 - val_loss: 0.5842 - val_acc: 0.8266 - lr: 0.0010\n",
            "Epoch 9/25\n",
            "132/132 [==============================] - ETA: 0s - loss: 0.4513 - acc: 0.8595\n",
            "Epoch 9: ReduceLROnPlateau reducing learning rate to 0.0003000000142492354.\n",
            "132/132 [==============================] - 53s 399ms/step - loss: 0.4513 - acc: 0.8595 - val_loss: 0.5568 - val_acc: 0.7837 - lr: 0.0010\n",
            "Epoch 10/25\n",
            "132/132 [==============================] - 54s 410ms/step - loss: 0.3355 - acc: 0.8985 - val_loss: 0.4821 - val_acc: 0.8394 - lr: 3.0000e-04\n",
            "Epoch 11/25\n",
            "132/132 [==============================] - 54s 410ms/step - loss: 0.2833 - acc: 0.9156 - val_loss: 0.4472 - val_acc: 0.8373 - lr: 3.0000e-04\n",
            "Epoch 12/25\n",
            "132/132 [==============================] - 52s 396ms/step - loss: 0.2592 - acc: 0.9163 - val_loss: 0.5481 - val_acc: 0.8137 - lr: 3.0000e-04\n",
            "Epoch 13/25\n",
            "132/132 [==============================] - ETA: 0s - loss: 0.2250 - acc: 0.9339\n",
            "Epoch 13: ReduceLROnPlateau reducing learning rate to 9.000000427477062e-05.\n",
            "132/132 [==============================] - 53s 401ms/step - loss: 0.2250 - acc: 0.9339 - val_loss: 0.4739 - val_acc: 0.8544 - lr: 3.0000e-04\n",
            "Epoch 14/25\n",
            "132/132 [==============================] - 52s 397ms/step - loss: 0.1803 - acc: 0.9508 - val_loss: 0.5238 - val_acc: 0.8394 - lr: 9.0000e-05\n",
            "Epoch 15/25\n",
            "132/132 [==============================] - ETA: 0s - loss: 0.1609 - acc: 0.9536\n",
            "Epoch 15: ReduceLROnPlateau reducing learning rate to 2.700000040931627e-05.\n",
            "132/132 [==============================] - 52s 397ms/step - loss: 0.1609 - acc: 0.9536 - val_loss: 0.5811 - val_acc: 0.8373 - lr: 9.0000e-05\n",
            "Epoch 16/25\n",
            "132/132 [==============================] - 53s 399ms/step - loss: 0.1318 - acc: 0.9703 - val_loss: 0.6282 - val_acc: 0.8351 - lr: 2.7000e-05\n",
            "Epoch 17/25\n",
            "132/132 [==============================] - ETA: 0s - loss: 0.1421 - acc: 0.9593\n",
            "Epoch 17: ReduceLROnPlateau reducing learning rate to 8.100000013655517e-06.\n",
            "132/132 [==============================] - 53s 398ms/step - loss: 0.1421 - acc: 0.9593 - val_loss: 0.6127 - val_acc: 0.8330 - lr: 2.7000e-05\n",
            "Epoch 18/25\n",
            "132/132 [==============================] - 52s 397ms/step - loss: 0.1346 - acc: 0.9658 - val_loss: 0.6215 - val_acc: 0.8501 - lr: 8.1000e-06\n",
            "Epoch 19/25\n",
            "132/132 [==============================] - ETA: 0s - loss: 0.1203 - acc: 0.9715\n",
            "Epoch 19: ReduceLROnPlateau reducing learning rate to 2.429999949526973e-06.\n",
            "132/132 [==============================] - 53s 399ms/step - loss: 0.1203 - acc: 0.9715 - val_loss: 0.6493 - val_acc: 0.8394 - lr: 8.1000e-06\n",
            "Epoch 20/25\n",
            "132/132 [==============================] - 53s 400ms/step - loss: 0.1274 - acc: 0.9681 - val_loss: 0.6311 - val_acc: 0.8308 - lr: 2.4300e-06\n",
            "Epoch 21/25\n",
            "132/132 [==============================] - ETA: 0s - loss: 0.1187 - acc: 0.9717\n",
            "Epoch 21: ReduceLROnPlateau reducing learning rate to 7.289999985005124e-07.\n",
            "132/132 [==============================] - 52s 397ms/step - loss: 0.1187 - acc: 0.9717 - val_loss: 0.6694 - val_acc: 0.8244 - lr: 2.4300e-06\n",
            "Epoch 22/25\n",
            "132/132 [==============================] - 53s 400ms/step - loss: 0.1243 - acc: 0.9684 - val_loss: 0.6728 - val_acc: 0.8308 - lr: 7.2900e-07\n",
            "Epoch 23/25\n",
            "132/132 [==============================] - ETA: 0s - loss: 0.1206 - acc: 0.9715\n",
            "Epoch 23: ReduceLROnPlateau reducing learning rate to 2.1870000637136398e-07.\n",
            "132/132 [==============================] - 53s 400ms/step - loss: 0.1206 - acc: 0.9715 - val_loss: 0.6427 - val_acc: 0.8330 - lr: 7.2900e-07\n",
            "Epoch 24/25\n",
            "132/132 [==============================] - 53s 399ms/step - loss: 0.1186 - acc: 0.9698 - val_loss: 0.6529 - val_acc: 0.8437 - lr: 2.1870e-07\n"
          ]
        }
      ],
      "source": [
        "#checkpoints\n",
        "\n",
        "learning_rate_reduction = ReduceLROnPlateau(monitor='val_loss', patience = 2, verbose=1,factor=0.3, min_lr=0.00000001)\n",
        "chkpt = ModelCheckpoint(filepath='best_model_effnetV2B0.hdf5', monitor='val_loss', save_best_only=True, save_weights_only=True)\n",
        "early_stopping = tf.keras.callbacks.EarlyStopping(patience=13, monitor='val_loss', restore_best_weights=True)\n",
        "\n",
        "history4 = model4.fit(train_gen, epochs=25, validation_data=valid_gen, callbacks=[learning_rate_reduction, chkpt, early_stopping])\n"
      ]
    },
    {
      "cell_type": "code",
      "execution_count": null,
      "metadata": {
        "id": "YNRg8bOdjhwM",
        "colab": {
          "base_uri": "https://localhost:8080/"
        },
        "outputId": "8cb49a13-f5d6-4e0a-f1fa-e32828278f04"
      },
      "outputs": [
        {
          "output_type": "stream",
          "name": "stdout",
          "text": [
            "37/37 [==============================] - 3s 29ms/step\n"
          ]
        }
      ],
      "source": [
        "model4.load_weights(\"best_model_effnetV2B0.hdf5\")\n",
        "preds = model4.predict(X_test)\n",
        "labelled_preds = one_hot_encoder.inverse_transform(preds)\n",
        "pred = pd.DataFrame(labelled_preds, columns =[\"class_id\"])\n",
        "df = pd.read_csv('submission3.csv')\n",
        "df ['class_id']= pred\n",
        "df.to_csv(\"final_submission2356.csv\", index=False)"
      ]
    },
    {
      "cell_type": "markdown",
      "source": [
        "EfficientNetV2B1 - Kept for final results"
      ],
      "metadata": {
        "id": "IeqNJi3Xz1d2"
      }
    },
    {
      "cell_type": "code",
      "execution_count": null,
      "metadata": {
        "id": "EKfk80-mjhtA",
        "colab": {
          "base_uri": "https://localhost:8080/"
        },
        "outputId": "ea5902ad-e839-4c35-f36b-44d61845dfcb"
      },
      "outputs": [
        {
          "output_type": "stream",
          "name": "stdout",
          "text": [
            "Downloading data from https://storage.googleapis.com/tensorflow/keras-applications/efficientnet_v2/efficientnetv2-b1_notop.h5\n",
            "28456008/28456008 [==============================] - 0s 0us/step\n"
          ]
        }
      ],
      "source": [
        "#EfficientNetV2B1\n",
        "base_model5 = tf.keras.applications.EfficientNetV2B1(include_top=False,\n",
        "                                     weights='imagenet',\n",
        "                                     input_shape=(224, 224, 3))\n",
        "x = base_model5.output\n",
        "x = tf.keras.layers.GlobalAveragePooling2D()(x)\n",
        "x = Dense(512, activation=None, kernel_regularizer = L1L2(l1=1e-5, l2=1e-3))(x)\n",
        "x = BatchNormalization()(x)\n",
        "x = Activation('swish')(x)\n",
        "x = Dropout(0.3)(x)\n",
        "x = Dense(512, activation=None, kernel_regularizer = L1L2(l1=1e-5, l2=1e-3))(x)\n",
        "x = BatchNormalization()(x)\n",
        "x = Activation('swish')(x)\n",
        "x = Dropout(0.3)(x)\n",
        "ouput1 = Dense(3, activation= 'softmax')(x)\n",
        "\n",
        "model5 = Model(inputs=base_model5.input, outputs=ouput1)\n",
        "optimizer = tf.keras.optimizers.legacy.Adam(learning_rate=1e-3, decay=1e-3 * 0.1)\n",
        "model5.compile(loss='categorical_crossentropy',\n",
        "                optimizer=optimizer,\n",
        "                metrics=['acc'])\n"
      ]
    },
    {
      "cell_type": "code",
      "execution_count": null,
      "metadata": {
        "id": "1wOn1Haskb3B",
        "colab": {
          "base_uri": "https://localhost:8080/"
        },
        "outputId": "85bbc147-c114-4fa6-b349-524957924570"
      },
      "outputs": [
        {
          "output_type": "stream",
          "name": "stdout",
          "text": [
            "Epoch 1/25\n",
            "132/132 [==============================] - 71s 434ms/step - loss: 2.1370 - acc: 0.7284 - val_loss: 1.9618 - val_acc: 0.7987 - lr: 0.0010\n",
            "Epoch 2/25\n",
            "132/132 [==============================] - 54s 410ms/step - loss: 1.6887 - acc: 0.7786 - val_loss: 1.4708 - val_acc: 0.7987 - lr: 0.0010\n",
            "Epoch 3/25\n",
            "132/132 [==============================] - 55s 415ms/step - loss: 1.3062 - acc: 0.8081 - val_loss: 1.1332 - val_acc: 0.8308 - lr: 0.0010\n",
            "Epoch 4/25\n",
            "132/132 [==============================] - 54s 412ms/step - loss: 1.0227 - acc: 0.8178 - val_loss: 0.8897 - val_acc: 0.8158 - lr: 0.0010\n",
            "Epoch 5/25\n",
            "132/132 [==============================] - 54s 411ms/step - loss: 0.8002 - acc: 0.8407 - val_loss: 0.7365 - val_acc: 0.8437 - lr: 0.0010\n",
            "Epoch 6/25\n",
            "132/132 [==============================] - 55s 415ms/step - loss: 0.6933 - acc: 0.8357 - val_loss: 0.6781 - val_acc: 0.8158 - lr: 0.0010\n",
            "Epoch 7/25\n",
            "132/132 [==============================] - 52s 395ms/step - loss: 0.6301 - acc: 0.8307 - val_loss: 0.7156 - val_acc: 0.7259 - lr: 0.0010\n",
            "Epoch 8/25\n",
            "132/132 [==============================] - 54s 408ms/step - loss: 0.6102 - acc: 0.8174 - val_loss: 0.5661 - val_acc: 0.8094 - lr: 0.0010\n",
            "Epoch 9/25\n",
            "132/132 [==============================] - 53s 401ms/step - loss: 0.5143 - acc: 0.8361 - val_loss: 0.5748 - val_acc: 0.7837 - lr: 0.0010\n",
            "Epoch 10/25\n",
            "132/132 [==============================] - 54s 412ms/step - loss: 0.4418 - acc: 0.8599 - val_loss: 0.4663 - val_acc: 0.8437 - lr: 0.0010\n",
            "Epoch 11/25\n",
            "132/132 [==============================] - 53s 398ms/step - loss: 0.4181 - acc: 0.8597 - val_loss: 0.5115 - val_acc: 0.8201 - lr: 0.0010\n",
            "Epoch 12/25\n",
            "132/132 [==============================] - ETA: 0s - loss: 0.3848 - acc: 0.8728\n",
            "Epoch 12: ReduceLROnPlateau reducing learning rate to 0.0003000000142492354.\n",
            "132/132 [==============================] - 53s 398ms/step - loss: 0.3848 - acc: 0.8728 - val_loss: 0.5013 - val_acc: 0.8244 - lr: 0.0010\n",
            "Epoch 13/25\n",
            "132/132 [==============================] - 53s 400ms/step - loss: 0.2976 - acc: 0.9101 - val_loss: 0.4765 - val_acc: 0.8415 - lr: 3.0000e-04\n",
            "Epoch 14/25\n",
            "132/132 [==============================] - ETA: 0s - loss: 0.2716 - acc: 0.9161\n",
            "Epoch 14: ReduceLROnPlateau reducing learning rate to 9.000000427477062e-05.\n",
            "132/132 [==============================] - 53s 400ms/step - loss: 0.2716 - acc: 0.9161 - val_loss: 0.5148 - val_acc: 0.8287 - lr: 3.0000e-04\n",
            "Epoch 15/25\n",
            "132/132 [==============================] - 53s 399ms/step - loss: 0.2089 - acc: 0.9405 - val_loss: 0.4693 - val_acc: 0.8587 - lr: 9.0000e-05\n",
            "Epoch 16/25\n",
            "132/132 [==============================] - ETA: 0s - loss: 0.1869 - acc: 0.9493\n",
            "Epoch 16: ReduceLROnPlateau reducing learning rate to 2.700000040931627e-05.\n",
            "132/132 [==============================] - 54s 407ms/step - loss: 0.1869 - acc: 0.9493 - val_loss: 0.4769 - val_acc: 0.8544 - lr: 9.0000e-05\n",
            "Epoch 17/25\n",
            "132/132 [==============================] - 53s 399ms/step - loss: 0.1683 - acc: 0.9520 - val_loss: 0.5369 - val_acc: 0.8565 - lr: 2.7000e-05\n",
            "Epoch 18/25\n",
            "132/132 [==============================] - ETA: 0s - loss: 0.1716 - acc: 0.9508\n",
            "Epoch 18: ReduceLROnPlateau reducing learning rate to 8.100000013655517e-06.\n",
            "132/132 [==============================] - 53s 399ms/step - loss: 0.1716 - acc: 0.9508 - val_loss: 0.5560 - val_acc: 0.8437 - lr: 2.7000e-05\n",
            "Epoch 19/25\n",
            "132/132 [==============================] - 53s 399ms/step - loss: 0.1663 - acc: 0.9543 - val_loss: 0.5650 - val_acc: 0.8458 - lr: 8.1000e-06\n",
            "Epoch 20/25\n",
            "132/132 [==============================] - ETA: 0s - loss: 0.1534 - acc: 0.9596\n",
            "Epoch 20: ReduceLROnPlateau reducing learning rate to 2.429999949526973e-06.\n",
            "132/132 [==============================] - 53s 400ms/step - loss: 0.1534 - acc: 0.9596 - val_loss: 0.6046 - val_acc: 0.8373 - lr: 8.1000e-06\n",
            "Epoch 21/25\n",
            "132/132 [==============================] - 53s 400ms/step - loss: 0.1535 - acc: 0.9577 - val_loss: 0.5867 - val_acc: 0.8373 - lr: 2.4300e-06\n",
            "Epoch 22/25\n",
            "132/132 [==============================] - ETA: 0s - loss: 0.1548 - acc: 0.9579\n",
            "Epoch 22: ReduceLROnPlateau reducing learning rate to 7.289999985005124e-07.\n",
            "132/132 [==============================] - 53s 401ms/step - loss: 0.1548 - acc: 0.9579 - val_loss: 0.5409 - val_acc: 0.8544 - lr: 2.4300e-06\n",
            "Epoch 23/25\n",
            "132/132 [==============================] - 53s 399ms/step - loss: 0.1540 - acc: 0.9589 - val_loss: 0.5817 - val_acc: 0.8458 - lr: 7.2900e-07\n"
          ]
        }
      ],
      "source": [
        "#checkpoints\n",
        "\n",
        "learning_rate_reduction = ReduceLROnPlateau(monitor='val_loss', patience = 2, verbose=1,factor=0.3, min_lr=0.00000001)\n",
        "chkpt = ModelCheckpoint(filepath='best_model_effnetV2B1.hdf5', monitor='val_loss', save_best_only=True, save_weights_only=True)\n",
        "early_stopping = tf.keras.callbacks.EarlyStopping(patience=13, monitor='val_loss', restore_best_weights=True)\n",
        "\n",
        "history5 = model5.fit(train_gen, epochs=25, validation_data=valid_gen, callbacks=[learning_rate_reduction, chkpt, early_stopping])\n"
      ]
    },
    {
      "cell_type": "code",
      "execution_count": null,
      "metadata": {
        "id": "lChcs-lqkb84",
        "colab": {
          "base_uri": "https://localhost:8080/"
        },
        "outputId": "6ae4936b-b378-47bb-d595-bfc4a76a9a44"
      },
      "outputs": [
        {
          "output_type": "stream",
          "name": "stdout",
          "text": [
            "37/37 [==============================] - 3s 25ms/step\n"
          ]
        }
      ],
      "source": [
        "model5.load_weights(\"best_model_effnetV2B1.hdf5\")\n",
        "preds = model5.predict(X_test)\n",
        "labelled_preds = one_hot_encoder.inverse_transform(preds)\n",
        "pred = pd.DataFrame(labelled_preds, columns =[\"class_id\"])\n",
        "df = pd.read_csv('submission3.csv')\n",
        "df ['class_id']= pred\n",
        "df.to_csv(\"final_submission412.csv\", index=False)"
      ]
    },
    {
      "cell_type": "markdown",
      "source": [
        "EfficientNetV2B2 - Removed from final results\n"
      ],
      "metadata": {
        "id": "GOklo0fY0GRx"
      }
    },
    {
      "cell_type": "code",
      "source": [
        "#EfficientNetV2B2\n",
        "base_model6 = tf.keras.applications.EfficientNetV2B2(include_top=False,\n",
        "                                     weights='imagenet',\n",
        "                                     input_shape=(224, 224, 3))\n",
        "x = base_model6.output\n",
        "x = tf.keras.layers.GlobalAveragePooling2D()(x)\n",
        "x = Dense(512, activation=None, kernel_regularizer = L1L2(l1=1e-5, l2=1e-3))(x)\n",
        "x = BatchNormalization()(x)\n",
        "x = Activation('swish')(x)\n",
        "x = Dropout(0.3)(x)\n",
        "x = Dense(512, activation=None, kernel_regularizer = L1L2(l1=1e-5, l2=1e-3))(x)\n",
        "x = BatchNormalization()(x)\n",
        "x = Activation('swish')(x)\n",
        "x = Dropout(0.3)(x)\n",
        "ouput1 = Dense(3, activation= 'softmax')(x)\n",
        "\n",
        "model6 = Model(inputs=base_model6.input, outputs=ouput1)\n",
        "\n",
        "model6.compile(loss='categorical_crossentropy',\n",
        "              optimizer=tf.keras.optimizers.Adam(1e-3), metrics=['acc'])"
      ],
      "metadata": {
        "id": "YPIJlHic0IxV",
        "colab": {
          "base_uri": "https://localhost:8080/"
        },
        "outputId": "a61f01b7-638d-4bf6-beab-91492010fe36"
      },
      "execution_count": null,
      "outputs": [
        {
          "output_type": "stream",
          "name": "stdout",
          "text": [
            "Downloading data from https://storage.googleapis.com/tensorflow/keras-applications/efficientnet_v2/efficientnetv2-b2_notop.h5\n",
            "35839040/35839040 [==============================] - 0s 0us/step\n"
          ]
        }
      ]
    },
    {
      "cell_type": "code",
      "source": [
        "#checkpoints\n",
        "learning_rate_reduction = ReduceLROnPlateau(monitor='val_loss', patience = 2, verbose=1,factor=0.3, min_lr=0.00000001)\n",
        "chkpt = ModelCheckpoint(filepath='best_model_effnetV2B2.hdf5', monitor='val_loss', save_best_only=True, save_weights_only=True)\n",
        "early_stopping = tf.keras.callbacks.EarlyStopping(patience=13, monitor='val_loss', restore_best_weights=True)\n",
        "\n",
        "history6 = model6.fit(train_gen, epochs=20, validation_data=valid_gen, callbacks=[learning_rate_reduction, chkpt, early_stopping])\n"
      ],
      "metadata": {
        "id": "e-eZyUmR0TWV",
        "colab": {
          "base_uri": "https://localhost:8080/"
        },
        "outputId": "5e9c18c8-2a0b-4181-86ab-1c9f0722ce35"
      },
      "execution_count": null,
      "outputs": [
        {
          "output_type": "stream",
          "name": "stdout",
          "text": [
            "Epoch 1/20\n",
            "132/132 [==============================] - 110s 442ms/step - loss: 2.1328 - acc: 0.7396 - val_loss: 1.8519 - val_acc: 0.7794 - lr: 0.0010\n",
            "Epoch 2/20\n",
            "132/132 [==============================] - 54s 411ms/step - loss: 1.6672 - acc: 0.7869 - val_loss: 1.3848 - val_acc: 0.8308 - lr: 0.0010\n",
            "Epoch 3/20\n",
            "132/132 [==============================] - 55s 413ms/step - loss: 1.2652 - acc: 0.8100 - val_loss: 1.1094 - val_acc: 0.8094 - lr: 0.0010\n",
            "Epoch 4/20\n",
            "132/132 [==============================] - 55s 417ms/step - loss: 1.0148 - acc: 0.8181 - val_loss: 0.9449 - val_acc: 0.7923 - lr: 0.0010\n",
            "Epoch 5/20\n",
            "132/132 [==============================] - 55s 412ms/step - loss: 0.7977 - acc: 0.8209 - val_loss: 0.7286 - val_acc: 0.8073 - lr: 0.0010\n",
            "Epoch 6/20\n",
            "132/132 [==============================] - 55s 415ms/step - loss: 0.7977 - acc: 0.7834 - val_loss: 0.6598 - val_acc: 0.8244 - lr: 0.0010\n",
            "Epoch 7/20\n",
            "132/132 [==============================] - 55s 415ms/step - loss: 0.6583 - acc: 0.8067 - val_loss: 0.5931 - val_acc: 0.8051 - lr: 0.0010\n",
            "Epoch 8/20\n",
            "132/132 [==============================] - 54s 410ms/step - loss: 0.5274 - acc: 0.8397 - val_loss: 0.5169 - val_acc: 0.8223 - lr: 0.0010\n",
            "Epoch 9/20\n",
            "132/132 [==============================] - 55s 418ms/step - loss: 0.4737 - acc: 0.8447 - val_loss: 0.4955 - val_acc: 0.8351 - lr: 0.0010\n",
            "Epoch 10/20\n",
            "132/132 [==============================] - 55s 412ms/step - loss: 0.4428 - acc: 0.8528 - val_loss: 0.4608 - val_acc: 0.8330 - lr: 0.0010\n",
            "Epoch 11/20\n",
            "132/132 [==============================] - 53s 402ms/step - loss: 0.4109 - acc: 0.8673 - val_loss: 0.5686 - val_acc: 0.7944 - lr: 0.0010\n",
            "Epoch 12/20\n",
            "132/132 [==============================] - ETA: 0s - loss: 0.4834 - acc: 0.8411\n",
            "Epoch 12: ReduceLROnPlateau reducing learning rate to 0.0003000000142492354.\n",
            "132/132 [==============================] - 53s 400ms/step - loss: 0.4834 - acc: 0.8411 - val_loss: 4.2470 - val_acc: 0.7024 - lr: 0.0010\n",
            "Epoch 13/20\n",
            "132/132 [==============================] - 55s 412ms/step - loss: 0.3873 - acc: 0.8782 - val_loss: 0.4588 - val_acc: 0.8394 - lr: 3.0000e-04\n",
            "Epoch 14/20\n",
            "132/132 [==============================] - 53s 398ms/step - loss: 0.3031 - acc: 0.9106 - val_loss: 0.4625 - val_acc: 0.8394 - lr: 3.0000e-04\n",
            "Epoch 15/20\n",
            "132/132 [==============================] - 55s 412ms/step - loss: 0.2954 - acc: 0.9087 - val_loss: 0.4344 - val_acc: 0.8308 - lr: 3.0000e-04\n",
            "Epoch 16/20\n",
            "132/132 [==============================] - 53s 400ms/step - loss: 0.2576 - acc: 0.9165 - val_loss: 0.4750 - val_acc: 0.8394 - lr: 3.0000e-04\n",
            "Epoch 17/20\n",
            "132/132 [==============================] - ETA: 0s - loss: 0.2245 - acc: 0.9270\n",
            "Epoch 17: ReduceLROnPlateau reducing learning rate to 9.000000427477062e-05.\n",
            "132/132 [==============================] - 53s 401ms/step - loss: 0.2245 - acc: 0.9270 - val_loss: 0.5151 - val_acc: 0.8394 - lr: 3.0000e-04\n",
            "Epoch 18/20\n",
            "132/132 [==============================] - 53s 401ms/step - loss: 0.1824 - acc: 0.9460 - val_loss: 0.4783 - val_acc: 0.8522 - lr: 9.0000e-05\n",
            "Epoch 19/20\n",
            "132/132 [==============================] - ETA: 0s - loss: 0.1682 - acc: 0.9515\n",
            "Epoch 19: ReduceLROnPlateau reducing learning rate to 2.700000040931627e-05.\n",
            "132/132 [==============================] - 53s 400ms/step - loss: 0.1682 - acc: 0.9515 - val_loss: 0.5291 - val_acc: 0.8501 - lr: 9.0000e-05\n",
            "Epoch 20/20\n",
            "132/132 [==============================] - 52s 396ms/step - loss: 0.1536 - acc: 0.9551 - val_loss: 0.5595 - val_acc: 0.8480 - lr: 2.7000e-05\n"
          ]
        }
      ]
    },
    {
      "cell_type": "code",
      "source": [
        "\n",
        "model6.load_weights(\"best_model_effnetV2B2.hdf5\")\n",
        "preds = model6.predict(X_test)\n",
        "labelled_preds = one_hot_encoder.inverse_transform(preds)\n",
        "pred = pd.DataFrame(labelled_preds, columns =[\"class_id\"])\n",
        "df = pd.read_csv('submission3.csv')\n",
        "df ['class_id']= pred\n",
        "df.to_csv(\"final_submission9876.csv\", index=False)"
      ],
      "metadata": {
        "id": "BJjFo3FY0Zje",
        "colab": {
          "base_uri": "https://localhost:8080/"
        },
        "outputId": "cec2c558-79d9-443c-9234-5ff42be4422e"
      },
      "execution_count": null,
      "outputs": [
        {
          "output_type": "stream",
          "name": "stdout",
          "text": [
            "37/37 [==============================] - 3s 27ms/step\n"
          ]
        }
      ]
    },
    {
      "cell_type": "markdown",
      "source": [
        "EfficientNetV2B3 - Kept for final results"
      ],
      "metadata": {
        "id": "tBZD_u2z0ihi"
      }
    },
    {
      "cell_type": "code",
      "execution_count": null,
      "metadata": {
        "id": "0-buIAJAjhik",
        "colab": {
          "base_uri": "https://localhost:8080/"
        },
        "outputId": "e20407b8-47e0-42fc-af7a-d4caab1d7da4"
      },
      "outputs": [
        {
          "output_type": "stream",
          "name": "stdout",
          "text": [
            "Downloading data from https://storage.googleapis.com/tensorflow/keras-applications/efficientnet_v2/efficientnetv2-b3_notop.h5\n",
            "52606240/52606240 [==============================] - 0s 0us/step\n"
          ]
        }
      ],
      "source": [
        "#EfficientNetV2B3\n",
        "base_model7 = tf.keras.applications.EfficientNetV2B3(include_top=False,\n",
        "                                     weights='imagenet',\n",
        "                                     input_shape=(224, 224, 3))\n",
        "x = base_model7.output\n",
        "x = tf.keras.layers.GlobalAveragePooling2D()(x)\n",
        "x = Dense(512, activation=None, kernel_regularizer = L1L2(l1=1e-5, l2=1e-3))(x)\n",
        "x = BatchNormalization()(x)\n",
        "x = Activation('swish')(x)\n",
        "x = Dropout(0.3)(x)\n",
        "x = Dense(512, activation=None, kernel_regularizer = L1L2(l1=1e-5, l2=1e-3))(x)\n",
        "x = BatchNormalization()(x)\n",
        "x = Activation('swish')(x)\n",
        "x = Dropout(0.3)(x)\n",
        "ouput1 = Dense(3, activation= 'softmax')(x)\n",
        "\n",
        "model7 = Model(inputs=base_model7.input, outputs=ouput1)\n",
        "\n",
        "optimizer = tf.keras.optimizers.legacy.Adam(learning_rate=1e-3, decay=1e-3 * 0.1)\n",
        "model7.compile(loss='categorical_crossentropy',\n",
        "                optimizer=optimizer,\n",
        "                metrics=['acc'])"
      ]
    },
    {
      "cell_type": "code",
      "execution_count": null,
      "metadata": {
        "id": "z9A-i9dNlxcV",
        "colab": {
          "base_uri": "https://localhost:8080/"
        },
        "outputId": "db08d686-68d1-4124-adcf-308ae34bb4ca"
      },
      "outputs": [
        {
          "output_type": "stream",
          "name": "stdout",
          "text": [
            "Epoch 1/30\n",
            "132/132 [==============================] - 79s 457ms/step - loss: 2.2158 - acc: 0.7153 - val_loss: 2.1838 - val_acc: 0.7645 - lr: 0.0010\n",
            "Epoch 2/30\n",
            "132/132 [==============================] - 55s 417ms/step - loss: 1.7704 - acc: 0.7620 - val_loss: 1.5101 - val_acc: 0.7859 - lr: 0.0010\n",
            "Epoch 3/30\n",
            "132/132 [==============================] - 55s 415ms/step - loss: 1.3856 - acc: 0.7919 - val_loss: 1.1772 - val_acc: 0.7944 - lr: 0.0010\n",
            "Epoch 4/30\n",
            "132/132 [==============================] - 55s 417ms/step - loss: 1.0872 - acc: 0.8083 - val_loss: 0.9348 - val_acc: 0.8094 - lr: 0.0010\n",
            "Epoch 5/30\n",
            "132/132 [==============================] - 55s 415ms/step - loss: 0.8850 - acc: 0.8090 - val_loss: 0.7831 - val_acc: 0.8073 - lr: 0.0010\n",
            "Epoch 6/30\n",
            "132/132 [==============================] - 55s 418ms/step - loss: 0.7368 - acc: 0.8078 - val_loss: 0.6423 - val_acc: 0.8394 - lr: 0.0010\n",
            "Epoch 7/30\n",
            "132/132 [==============================] - 55s 418ms/step - loss: 0.6725 - acc: 0.8090 - val_loss: 0.5873 - val_acc: 0.8330 - lr: 0.0010\n",
            "Epoch 8/30\n",
            "132/132 [==============================] - 56s 420ms/step - loss: 0.5761 - acc: 0.8281 - val_loss: 0.5334 - val_acc: 0.8415 - lr: 0.0010\n",
            "Epoch 9/30\n",
            "132/132 [==============================] - 53s 400ms/step - loss: 0.7588 - acc: 0.7612 - val_loss: 3.3787 - val_acc: 0.6959 - lr: 0.0010\n",
            "Epoch 10/30\n",
            "132/132 [==============================] - ETA: 0s - loss: 0.8121 - acc: 0.7429\n",
            "Epoch 10: ReduceLROnPlateau reducing learning rate to 0.0003000000142492354.\n",
            "132/132 [==============================] - 54s 404ms/step - loss: 0.8121 - acc: 0.7429 - val_loss: 0.6694 - val_acc: 0.7730 - lr: 0.0010\n",
            "Epoch 11/30\n",
            "132/132 [==============================] - 53s 401ms/step - loss: 0.6490 - acc: 0.7869 - val_loss: 0.5968 - val_acc: 0.7859 - lr: 3.0000e-04\n",
            "Epoch 12/30\n",
            "132/132 [==============================] - ETA: 0s - loss: 0.6108 - acc: 0.7986\n",
            "Epoch 12: ReduceLROnPlateau reducing learning rate to 9.000000427477062e-05.\n",
            "132/132 [==============================] - 53s 399ms/step - loss: 0.6108 - acc: 0.7986 - val_loss: 0.5356 - val_acc: 0.8030 - lr: 3.0000e-04\n",
            "Epoch 13/30\n",
            "132/132 [==============================] - 55s 415ms/step - loss: 0.5646 - acc: 0.8138 - val_loss: 0.5127 - val_acc: 0.8266 - lr: 9.0000e-05\n",
            "Epoch 14/30\n",
            "132/132 [==============================] - 53s 403ms/step - loss: 0.5483 - acc: 0.8159 - val_loss: 0.5327 - val_acc: 0.8030 - lr: 9.0000e-05\n",
            "Epoch 15/30\n",
            "132/132 [==============================] - 55s 417ms/step - loss: 0.5346 - acc: 0.8190 - val_loss: 0.4873 - val_acc: 0.8244 - lr: 9.0000e-05\n",
            "Epoch 16/30\n",
            "132/132 [==============================] - 53s 403ms/step - loss: 0.5524 - acc: 0.8105 - val_loss: 0.4943 - val_acc: 0.8308 - lr: 9.0000e-05\n",
            "Epoch 17/30\n",
            "132/132 [==============================] - ETA: 0s - loss: 0.5449 - acc: 0.8088\n",
            "Epoch 17: ReduceLROnPlateau reducing learning rate to 2.700000040931627e-05.\n",
            "132/132 [==============================] - 54s 407ms/step - loss: 0.5449 - acc: 0.8088 - val_loss: 0.5041 - val_acc: 0.8116 - lr: 9.0000e-05\n",
            "Epoch 18/30\n",
            "132/132 [==============================] - 53s 400ms/step - loss: 0.5416 - acc: 0.8133 - val_loss: 0.4927 - val_acc: 0.8287 - lr: 2.7000e-05\n",
            "Epoch 19/30\n",
            "132/132 [==============================] - 55s 418ms/step - loss: 0.5143 - acc: 0.8226 - val_loss: 0.4849 - val_acc: 0.8351 - lr: 2.7000e-05\n",
            "Epoch 20/30\n",
            "132/132 [==============================] - 53s 402ms/step - loss: 0.5170 - acc: 0.8155 - val_loss: 0.4981 - val_acc: 0.8308 - lr: 2.7000e-05\n",
            "Epoch 21/30\n",
            "132/132 [==============================] - ETA: 0s - loss: 0.5105 - acc: 0.8216\n",
            "Epoch 21: ReduceLROnPlateau reducing learning rate to 8.100000013655517e-06.\n",
            "132/132 [==============================] - 53s 404ms/step - loss: 0.5105 - acc: 0.8216 - val_loss: 0.4866 - val_acc: 0.8351 - lr: 2.7000e-05\n",
            "Epoch 22/30\n",
            "132/132 [==============================] - 54s 411ms/step - loss: 0.5012 - acc: 0.8197 - val_loss: 0.4940 - val_acc: 0.8351 - lr: 8.1000e-06\n",
            "Epoch 23/30\n",
            "132/132 [==============================] - ETA: 0s - loss: 0.4935 - acc: 0.8300\n",
            "Epoch 23: ReduceLROnPlateau reducing learning rate to 2.429999949526973e-06.\n",
            "132/132 [==============================] - 53s 398ms/step - loss: 0.4935 - acc: 0.8300 - val_loss: 0.4868 - val_acc: 0.8287 - lr: 8.1000e-06\n",
            "Epoch 24/30\n",
            "132/132 [==============================] - 53s 400ms/step - loss: 0.5012 - acc: 0.8247 - val_loss: 0.4891 - val_acc: 0.8201 - lr: 2.4300e-06\n",
            "Epoch 25/30\n",
            "132/132 [==============================] - ETA: 0s - loss: 0.4985 - acc: 0.8207\n",
            "Epoch 25: ReduceLROnPlateau reducing learning rate to 7.289999985005124e-07.\n",
            "132/132 [==============================] - 53s 399ms/step - loss: 0.4985 - acc: 0.8207 - val_loss: 0.4979 - val_acc: 0.8330 - lr: 2.4300e-06\n",
            "Epoch 26/30\n",
            "132/132 [==============================] - 55s 416ms/step - loss: 0.5119 - acc: 0.8221 - val_loss: 0.4674 - val_acc: 0.8373 - lr: 7.2900e-07\n",
            "Epoch 27/30\n",
            "132/132 [==============================] - 53s 402ms/step - loss: 0.5053 - acc: 0.8252 - val_loss: 0.4963 - val_acc: 0.8308 - lr: 7.2900e-07\n",
            "Epoch 28/30\n",
            "132/132 [==============================] - ETA: 0s - loss: 0.5034 - acc: 0.8205\n",
            "Epoch 28: ReduceLROnPlateau reducing learning rate to 2.1870000637136398e-07.\n",
            "132/132 [==============================] - 53s 400ms/step - loss: 0.5034 - acc: 0.8205 - val_loss: 0.5014 - val_acc: 0.8223 - lr: 7.2900e-07\n",
            "Epoch 29/30\n",
            "132/132 [==============================] - 53s 404ms/step - loss: 0.4994 - acc: 0.8190 - val_loss: 0.4953 - val_acc: 0.8223 - lr: 2.1870e-07\n",
            "Epoch 30/30\n",
            "132/132 [==============================] - ETA: 0s - loss: 0.5031 - acc: 0.8162\n",
            "Epoch 30: ReduceLROnPlateau reducing learning rate to 6.561000276406048e-08.\n",
            "132/132 [==============================] - 53s 400ms/step - loss: 0.5031 - acc: 0.8162 - val_loss: 0.4717 - val_acc: 0.8308 - lr: 2.1870e-07\n"
          ]
        }
      ],
      "source": [
        "#checkpoints\n",
        "\n",
        "learning_rate_reduction = ReduceLROnPlateau(monitor='val_loss', patience = 2, verbose=1,factor=0.3, min_lr=0.00000001)\n",
        "chkpt = ModelCheckpoint(filepath='best_model_effnetV2B3.hdf5', monitor='val_loss', save_best_only=True, save_weights_only=True)\n",
        "early_stopping = tf.keras.callbacks.EarlyStopping(patience=13, monitor='val_loss', restore_best_weights=True)\n",
        "history7 = model7.fit(train_gen, epochs=30, validation_data=valid_gen, callbacks=[learning_rate_reduction, chkpt, early_stopping])\n"
      ]
    },
    {
      "cell_type": "code",
      "execution_count": null,
      "metadata": {
        "id": "qeP6tTOSlxYz",
        "colab": {
          "base_uri": "https://localhost:8080/"
        },
        "outputId": "df8fe409-11d7-4e64-9e0c-b4d23033a9c1"
      },
      "outputs": [
        {
          "output_type": "stream",
          "name": "stdout",
          "text": [
            "37/37 [==============================] - 4s 41ms/step\n"
          ]
        }
      ],
      "source": [
        "model7.load_weights(\"best_model_effnetV2B3.hdf5\")\n",
        "preds = model7.predict(X_test)\n",
        "labelled_preds = one_hot_encoder.inverse_transform(preds)\n",
        "pred = pd.DataFrame(labelled_preds, columns =[\"class_id\"])\n",
        "df = pd.read_csv('submission3.csv')\n",
        "df ['class_id']= pred\n",
        "df.to_csv(\"final_submission4244.csv\", index=False)"
      ]
    },
    {
      "cell_type": "code",
      "execution_count": null,
      "metadata": {
        "id": "SMA7clQ6lxWP"
      },
      "outputs": [],
      "source": [
        "datagen = ImageDataGenerator(\n",
        "        rotation_range = 2,\n",
        "        zoom_range = 0.1,\n",
        "        width_shift_range = 0.1,\n",
        "        height_shift_range = 0.1,\n",
        "        brightness_range=[0.6,1.4],\n",
        "        fill_mode= \"nearest\",validation_split=0.1)\n",
        "\n",
        "\n",
        "datagen.fit(X_train)\n",
        "train_gen = datagen.flow(X_train, y_train, batch_size=40, subset=\"training\")\n",
        "valid_gen = datagen.flow(X_train, y_train, batch_size=40, subset= \"validation\")"
      ]
    },
    {
      "cell_type": "markdown",
      "source": [
        "EfficientNetV2M - Kept on final results\n"
      ],
      "metadata": {
        "id": "YZ0v3cNi6pap"
      }
    },
    {
      "cell_type": "code",
      "execution_count": null,
      "metadata": {
        "id": "2WhtZZoUlxTl",
        "colab": {
          "base_uri": "https://localhost:8080/"
        },
        "outputId": "655de87e-8c6b-4f63-f6b3-646ea297100f"
      },
      "outputs": [
        {
          "output_type": "stream",
          "name": "stdout",
          "text": [
            "Downloading data from https://storage.googleapis.com/tensorflow/keras-applications/efficientnet_v2/efficientnetv2-m_notop.h5\n",
            "214201816/214201816 [==============================] - 1s 0us/step\n"
          ]
        }
      ],
      "source": [
        "#EfficientNetV2M\n",
        "base_model14 = tf.keras.applications.EfficientNetV2M(include_top=False,\n",
        "                                     weights='imagenet',\n",
        "                                     input_shape=(224, 224, 3))\n",
        "x = base_model14.output\n",
        "x = tf.keras.layers.GlobalAveragePooling2D()(x)\n",
        "x = Dense(224, activation=None, kernel_regularizer = L1L2(l1=1e-5, l2=1e-3))(x)\n",
        "x = BatchNormalization()(x)\n",
        "x = Activation('swish')(x)\n",
        "x = Dropout(0.2)(x)\n",
        "x = Dense(224, activation=None, kernel_regularizer = L1L2(l1=1e-5, l2=1e-3))(x)\n",
        "x = BatchNormalization()(x)\n",
        "x = Activation('swish')(x)\n",
        "x = Dropout(0.2)(x)\n",
        "ouput1 = Dense(3, activation= 'softmax')(x)\n",
        "\n",
        "model14 = Model(inputs=base_model14.input, outputs=ouput1)\n",
        "optimizer = tf.keras.optimizers.legacy.Adam(learning_rate=1e-3, decay=1e-3 * 0.1)\n",
        "model14.compile(loss='categorical_crossentropy',\n",
        "                optimizer=optimizer,\n",
        "                metrics=['acc'])"
      ]
    },
    {
      "cell_type": "code",
      "execution_count": null,
      "metadata": {
        "id": "MwfLD4W6lxQ1",
        "colab": {
          "base_uri": "https://localhost:8080/"
        },
        "outputId": "79b42502-c7c5-4972-aa99-efda40b35271"
      },
      "outputs": [
        {
          "output_type": "stream",
          "name": "stdout",
          "text": [
            "Epoch 1/50\n",
            "106/106 [==============================] - 122s 828ms/step - loss: 1.3397 - acc: 0.7222 - val_loss: 1.1366 - val_acc: 0.7794 - lr: 0.0010\n",
            "Epoch 2/50\n",
            "106/106 [==============================] - 68s 639ms/step - loss: 1.0582 - acc: 0.7862 - val_loss: 1.0138 - val_acc: 0.7623 - lr: 0.0010\n",
            "Epoch 3/50\n",
            "106/106 [==============================] - ETA: 0s - loss: 0.8630 - acc: 0.8121\n",
            "Epoch 3: ReduceLROnPlateau reducing learning rate to 0.0003000000142492354.\n",
            "106/106 [==============================] - 68s 637ms/step - loss: 0.8630 - acc: 0.8121 - val_loss: 1.3731 - val_acc: 0.7516 - lr: 0.0010\n",
            "Epoch 4/50\n",
            "106/106 [==============================] - 73s 683ms/step - loss: 0.7183 - acc: 0.8468 - val_loss: 0.7146 - val_acc: 0.8201 - lr: 3.0000e-04\n",
            "Epoch 5/50\n",
            "106/106 [==============================] - 68s 638ms/step - loss: 0.6354 - acc: 0.8604 - val_loss: 0.6768 - val_acc: 0.8201 - lr: 3.0000e-04\n",
            "Epoch 6/50\n",
            "106/106 [==============================] - 72s 678ms/step - loss: 0.5735 - acc: 0.8740 - val_loss: 0.6471 - val_acc: 0.8351 - lr: 3.0000e-04\n",
            "Epoch 7/50\n",
            "106/106 [==============================] - 72s 679ms/step - loss: 0.5117 - acc: 0.8878 - val_loss: 0.6290 - val_acc: 0.8437 - lr: 3.0000e-04\n",
            "Epoch 8/50\n",
            "106/106 [==============================] - 68s 637ms/step - loss: 0.4616 - acc: 0.8992 - val_loss: 0.6707 - val_acc: 0.8287 - lr: 3.0000e-04\n",
            "Epoch 9/50\n",
            "106/106 [==============================] - ETA: 0s - loss: 0.4136 - acc: 0.9132\n",
            "Epoch 9: ReduceLROnPlateau reducing learning rate to 9.000000427477062e-05.\n",
            "106/106 [==============================] - 68s 638ms/step - loss: 0.4136 - acc: 0.9132 - val_loss: 0.7115 - val_acc: 0.8094 - lr: 3.0000e-04\n",
            "Epoch 10/50\n",
            "106/106 [==============================] - 72s 675ms/step - loss: 0.3275 - acc: 0.9391 - val_loss: 0.5915 - val_acc: 0.8565 - lr: 9.0000e-05\n",
            "Epoch 11/50\n",
            "106/106 [==============================] - 68s 637ms/step - loss: 0.2837 - acc: 0.9579 - val_loss: 0.6491 - val_acc: 0.8480 - lr: 9.0000e-05\n",
            "Epoch 12/50\n",
            "106/106 [==============================] - ETA: 0s - loss: 0.2494 - acc: 0.9688\n",
            "Epoch 12: ReduceLROnPlateau reducing learning rate to 2.700000040931627e-05.\n",
            "106/106 [==============================] - 68s 637ms/step - loss: 0.2494 - acc: 0.9688 - val_loss: 0.6326 - val_acc: 0.8565 - lr: 9.0000e-05\n",
            "Epoch 13/50\n",
            "106/106 [==============================] - 72s 678ms/step - loss: 0.2270 - acc: 0.9731 - val_loss: 0.6735 - val_acc: 0.8630 - lr: 2.7000e-05\n",
            "Epoch 14/50\n",
            "106/106 [==============================] - 72s 679ms/step - loss: 0.2146 - acc: 0.9793 - val_loss: 0.7082 - val_acc: 0.8651 - lr: 2.7000e-05\n",
            "Epoch 15/50\n",
            "106/106 [==============================] - 68s 637ms/step - loss: 0.2052 - acc: 0.9803 - val_loss: 0.7157 - val_acc: 0.8608 - lr: 2.7000e-05\n",
            "Epoch 16/50\n",
            "106/106 [==============================] - ETA: 0s - loss: 0.2109 - acc: 0.9800\n",
            "Epoch 16: ReduceLROnPlateau reducing learning rate to 8.100000013655517e-06.\n",
            "106/106 [==============================] - 68s 637ms/step - loss: 0.2109 - acc: 0.9800 - val_loss: 0.7456 - val_acc: 0.8437 - lr: 2.7000e-05\n",
            "Epoch 17/50\n",
            "106/106 [==============================] - 68s 637ms/step - loss: 0.1913 - acc: 0.9869 - val_loss: 0.7044 - val_acc: 0.8630 - lr: 8.1000e-06\n",
            "Epoch 18/50\n",
            "106/106 [==============================] - 72s 680ms/step - loss: 0.1811 - acc: 0.9905 - val_loss: 0.7249 - val_acc: 0.8715 - lr: 8.1000e-06\n",
            "Epoch 19/50\n",
            "106/106 [==============================] - 68s 638ms/step - loss: 0.1875 - acc: 0.9836 - val_loss: 0.7683 - val_acc: 0.8651 - lr: 8.1000e-06\n",
            "Epoch 20/50\n",
            "106/106 [==============================] - ETA: 0s - loss: 0.1906 - acc: 0.9843\n",
            "Epoch 20: ReduceLROnPlateau reducing learning rate to 2.429999949526973e-06.\n",
            "106/106 [==============================] - 68s 636ms/step - loss: 0.1906 - acc: 0.9843 - val_loss: 0.7409 - val_acc: 0.8458 - lr: 8.1000e-06\n",
            "Epoch 21/50\n",
            "106/106 [==============================] - 68s 637ms/step - loss: 0.1804 - acc: 0.9879 - val_loss: 0.7141 - val_acc: 0.8608 - lr: 2.4300e-06\n",
            "Epoch 22/50\n",
            "106/106 [==============================] - ETA: 0s - loss: 0.1821 - acc: 0.9867\n",
            "Epoch 22: ReduceLROnPlateau reducing learning rate to 1e-06.\n",
            "106/106 [==============================] - 68s 637ms/step - loss: 0.1821 - acc: 0.9867 - val_loss: 0.7076 - val_acc: 0.8630 - lr: 2.4300e-06\n",
            "Epoch 23/50\n",
            "106/106 [==============================] - 68s 637ms/step - loss: 0.1883 - acc: 0.9857 - val_loss: 0.7141 - val_acc: 0.8672 - lr: 1.0000e-06\n",
            "Epoch 24/50\n",
            "106/106 [==============================] - 68s 638ms/step - loss: 0.1809 - acc: 0.9879 - val_loss: 0.6885 - val_acc: 0.8544 - lr: 1.0000e-06\n",
            "Epoch 25/50\n",
            "106/106 [==============================] - 68s 637ms/step - loss: 0.1785 - acc: 0.9898 - val_loss: 0.7177 - val_acc: 0.8565 - lr: 1.0000e-06\n",
            "Epoch 26/50\n",
            "106/106 [==============================] - 68s 637ms/step - loss: 0.1816 - acc: 0.9862 - val_loss: 0.7573 - val_acc: 0.8501 - lr: 1.0000e-06\n",
            "Epoch 27/50\n",
            "106/106 [==============================] - 68s 645ms/step - loss: 0.1824 - acc: 0.9872 - val_loss: 0.7472 - val_acc: 0.8587 - lr: 1.0000e-06\n",
            "Epoch 28/50\n",
            "106/106 [==============================] - 68s 637ms/step - loss: 0.1750 - acc: 0.9907 - val_loss: 0.6943 - val_acc: 0.8694 - lr: 1.0000e-06\n",
            "Epoch 29/50\n",
            "106/106 [==============================] - 68s 637ms/step - loss: 0.1828 - acc: 0.9857 - val_loss: 0.7539 - val_acc: 0.8630 - lr: 1.0000e-06\n",
            "Epoch 30/50\n",
            "106/106 [==============================] - 68s 638ms/step - loss: 0.1848 - acc: 0.9860 - val_loss: 0.7722 - val_acc: 0.8373 - lr: 1.0000e-06\n",
            "Epoch 31/50\n",
            "106/106 [==============================] - 68s 637ms/step - loss: 0.1778 - acc: 0.9888 - val_loss: 0.7743 - val_acc: 0.8480 - lr: 1.0000e-06\n",
            "Epoch 32/50\n",
            "106/106 [==============================] - 68s 637ms/step - loss: 0.1770 - acc: 0.9898 - val_loss: 0.7350 - val_acc: 0.8651 - lr: 1.0000e-06\n",
            "Epoch 33/50\n",
            "106/106 [==============================] - 72s 673ms/step - loss: 0.1735 - acc: 0.9905 - val_loss: 0.6990 - val_acc: 0.8737 - lr: 1.0000e-06\n",
            "Epoch 34/50\n",
            "106/106 [==============================] - 68s 638ms/step - loss: 0.1835 - acc: 0.9869 - val_loss: 0.7421 - val_acc: 0.8330 - lr: 1.0000e-06\n",
            "Epoch 35/50\n",
            "106/106 [==============================] - 68s 638ms/step - loss: 0.1779 - acc: 0.9886 - val_loss: 0.7358 - val_acc: 0.8715 - lr: 1.0000e-06\n",
            "Epoch 36/50\n",
            "106/106 [==============================] - 68s 636ms/step - loss: 0.1832 - acc: 0.9879 - val_loss: 0.8052 - val_acc: 0.8415 - lr: 1.0000e-06\n",
            "Epoch 37/50\n",
            "106/106 [==============================] - 68s 638ms/step - loss: 0.1781 - acc: 0.9891 - val_loss: 0.7220 - val_acc: 0.8630 - lr: 1.0000e-06\n",
            "Epoch 38/50\n",
            "106/106 [==============================] - 68s 637ms/step - loss: 0.1781 - acc: 0.9895 - val_loss: 0.7122 - val_acc: 0.8608 - lr: 1.0000e-06\n",
            "Epoch 39/50\n",
            "106/106 [==============================] - 68s 637ms/step - loss: 0.1847 - acc: 0.9881 - val_loss: 0.7234 - val_acc: 0.8522 - lr: 1.0000e-06\n",
            "Epoch 40/50\n",
            "106/106 [==============================] - 68s 636ms/step - loss: 0.1730 - acc: 0.9912 - val_loss: 0.6885 - val_acc: 0.8501 - lr: 1.0000e-06\n",
            "Epoch 41/50\n",
            "106/106 [==============================] - 68s 637ms/step - loss: 0.1753 - acc: 0.9902 - val_loss: 0.7021 - val_acc: 0.8587 - lr: 1.0000e-06\n",
            "Epoch 42/50\n",
            "106/106 [==============================] - 68s 637ms/step - loss: 0.1792 - acc: 0.9874 - val_loss: 0.7034 - val_acc: 0.8672 - lr: 1.0000e-06\n",
            "Epoch 43/50\n",
            "106/106 [==============================] - 68s 637ms/step - loss: 0.1746 - acc: 0.9907 - val_loss: 0.7401 - val_acc: 0.8651 - lr: 1.0000e-06\n",
            "Epoch 44/50\n",
            "106/106 [==============================] - 68s 638ms/step - loss: 0.1749 - acc: 0.9898 - val_loss: 0.7106 - val_acc: 0.8694 - lr: 1.0000e-06\n",
            "Epoch 45/50\n",
            "106/106 [==============================] - 68s 637ms/step - loss: 0.1750 - acc: 0.9905 - val_loss: 0.7101 - val_acc: 0.8608 - lr: 1.0000e-06\n",
            "Epoch 46/50\n",
            "106/106 [==============================] - 68s 637ms/step - loss: 0.1781 - acc: 0.9893 - val_loss: 0.7148 - val_acc: 0.8544 - lr: 1.0000e-06\n",
            "Epoch 47/50\n",
            "106/106 [==============================] - 68s 637ms/step - loss: 0.1753 - acc: 0.9902 - val_loss: 0.7706 - val_acc: 0.8458 - lr: 1.0000e-06\n",
            "Epoch 48/50\n",
            "106/106 [==============================] - 68s 637ms/step - loss: 0.1767 - acc: 0.9895 - val_loss: 0.7364 - val_acc: 0.8522 - lr: 1.0000e-06\n",
            "Epoch 49/50\n",
            "106/106 [==============================] - 68s 638ms/step - loss: 0.1727 - acc: 0.9898 - val_loss: 0.7322 - val_acc: 0.8608 - lr: 1.0000e-06\n",
            "Epoch 50/50\n",
            "106/106 [==============================] - 68s 637ms/step - loss: 0.1752 - acc: 0.9883 - val_loss: 0.7386 - val_acc: 0.8651 - lr: 1.0000e-06\n"
          ]
        }
      ],
      "source": [
        "#checkpoints\n",
        "learning_rate_reduction = ReduceLROnPlateau(monitor='val_acc', patience = 2, verbose=1,factor=0.3, min_lr=0.000001)\n",
        "chkpt = ModelCheckpoint(filepath='best_model_EfficientNetV2M.hdf5', monitor='val_acc', save_best_only=True, save_weights_only=True)\n",
        "\n",
        "history = model14.fit(train_gen, epochs=50, validation_data=valid_gen, callbacks=[learning_rate_reduction, chkpt])\n"
      ]
    },
    {
      "cell_type": "code",
      "execution_count": null,
      "metadata": {
        "id": "W7aAtt2jlxOU",
        "colab": {
          "base_uri": "https://localhost:8080/"
        },
        "outputId": "4a583ba1-8918-4b44-c4b4-c034ed08e01c"
      },
      "outputs": [
        {
          "output_type": "stream",
          "name": "stdout",
          "text": [
            "37/37 [==============================] - 9s 109ms/step\n"
          ]
        }
      ],
      "source": [
        "model14.load_weights(\"best_model_EfficientNetV2M.hdf5\")\n",
        "preds14 = model14.predict(X_test)\n",
        "labelled_preds = one_hot_encoder.inverse_transform(preds14)\n",
        "pred = pd.DataFrame(labelled_preds, columns =[\"class_id\"])\n",
        "df = pd.read_csv('submission3.csv')\n",
        "df ['class_id']= pred\n",
        "df.to_csv(\"final_submission_EfficientNetV2M_50epochs_40.csv\", index=False)"
      ]
    },
    {
      "cell_type": "code",
      "execution_count": null,
      "metadata": {
        "id": "iLW1oeYVlxL6"
      },
      "outputs": [],
      "source": [
        "\n",
        "datagen = ImageDataGenerator(\n",
        "        rotation_range = 2,\n",
        "        zoom_range = 0.1,\n",
        "        width_shift_range = 0.1,\n",
        "        height_shift_range = 0.1,\n",
        "        brightness_range=[0.6,1.4],\n",
        "        fill_mode= \"nearest\",validation_split=0.1)\n",
        "\n",
        "datagen.fit(X_train)\n",
        "train_gen = datagen.flow(X_train, y_train, batch_size=45, subset=\"training\")\n",
        "valid_gen = datagen.flow(X_train, y_train, batch_size=45, subset= \"validation\")"
      ]
    },
    {
      "cell_type": "markdown",
      "source": [
        "EfficientNetV2M_2 - Kept for final results"
      ],
      "metadata": {
        "id": "kvZwchwI1jGn"
      }
    },
    {
      "cell_type": "code",
      "execution_count": null,
      "metadata": {
        "id": "9QB_urAvnjEn"
      },
      "outputs": [],
      "source": [
        "#EfficientNetV2M_2\n",
        "base_model16 = tf.keras.applications.EfficientNetV2M(include_top=False,\n",
        "                                     weights='imagenet',\n",
        "                                     input_shape=(224, 224, 3))\n",
        "x = base_model16.output\n",
        "x = tf.keras.layers.GlobalAveragePooling2D()(x)\n",
        "x = Dense(512, activation=None, kernel_regularizer = L1L2(l1=1e-5, l2=1e-3))(x)\n",
        "x = BatchNormalization()(x)\n",
        "x = Activation('relu')(x)\n",
        "x = Dropout(0.3)(x)\n",
        "x = Dense(512, activation=None, kernel_regularizer = L1L2(l1=1e-5, l2=1e-3))(x)\n",
        "x = BatchNormalization()(x)\n",
        "x = Activation('relu')(x)\n",
        "x = Dropout(0.3)(x)\n",
        "ouput1 = Dense(3, activation= 'softmax')(x)\n",
        "\n",
        "model16 = Model(inputs=base_model16.input, outputs=ouput1)\n",
        "\n",
        "optimizer = tf.keras.optimizers.legacy.Adam(learning_rate=1e-3, decay=1e-3 * 0.1)\n",
        "model16.compile(loss='categorical_crossentropy',\n",
        "                optimizer=optimizer,\n",
        "                metrics=['acc'])"
      ]
    },
    {
      "cell_type": "code",
      "execution_count": null,
      "metadata": {
        "id": "opQtCh5dnjBF",
        "colab": {
          "base_uri": "https://localhost:8080/"
        },
        "outputId": "2f4706b8-f6a4-46e5-d05a-194b6330ac0e"
      },
      "outputs": [
        {
          "output_type": "stream",
          "name": "stdout",
          "text": [
            "Epoch 1/10\n",
            "94/94 [==============================] - 127s 994ms/step - loss: 2.1653 - acc: 0.7268 - val_loss: 2.6003 - val_acc: 0.7409 - lr: 0.0010\n",
            "Epoch 2/10\n",
            "94/94 [==============================] - 74s 784ms/step - loss: 1.7798 - acc: 0.7800 - val_loss: 1.5610 - val_acc: 0.8158 - lr: 0.0010\n",
            "Epoch 3/10\n",
            "94/94 [==============================] - 70s 739ms/step - loss: 1.4803 - acc: 0.8076 - val_loss: 1.3378 - val_acc: 0.8094 - lr: 0.0010\n",
            "Epoch 4/10\n",
            "94/94 [==============================] - ETA: 0s - loss: 1.2212 - acc: 0.8062\n",
            "Epoch 4: ReduceLROnPlateau reducing learning rate to 0.0003000000142492354.\n",
            "94/94 [==============================] - 70s 738ms/step - loss: 1.2212 - acc: 0.8062 - val_loss: 1.1431 - val_acc: 0.7923 - lr: 0.0010\n",
            "Epoch 5/10\n",
            "94/94 [==============================] - 74s 786ms/step - loss: 0.9986 - acc: 0.8438 - val_loss: 1.0149 - val_acc: 0.8308 - lr: 3.0000e-04\n",
            "Epoch 6/10\n",
            "94/94 [==============================] - 70s 741ms/step - loss: 0.9103 - acc: 0.8630 - val_loss: 0.9230 - val_acc: 0.8180 - lr: 3.0000e-04\n",
            "Epoch 7/10\n",
            "94/94 [==============================] - 74s 787ms/step - loss: 0.8166 - acc: 0.8754 - val_loss: 0.8838 - val_acc: 0.8394 - lr: 3.0000e-04\n",
            "Epoch 8/10\n",
            "94/94 [==============================] - 70s 739ms/step - loss: 0.7387 - acc: 0.8859 - val_loss: 0.8287 - val_acc: 0.8351 - lr: 3.0000e-04\n",
            "Epoch 9/10\n",
            "94/94 [==============================] - ETA: 0s - loss: 0.7010 - acc: 0.8797\n",
            "Epoch 9: ReduceLROnPlateau reducing learning rate to 9.000000427477062e-05.\n",
            "94/94 [==============================] - 70s 738ms/step - loss: 0.7010 - acc: 0.8797 - val_loss: 0.8413 - val_acc: 0.8094 - lr: 3.0000e-04\n",
            "Epoch 10/10\n",
            "94/94 [==============================] - 74s 786ms/step - loss: 0.6284 - acc: 0.8996 - val_loss: 0.7974 - val_acc: 0.8415 - lr: 9.0000e-05\n"
          ]
        }
      ],
      "source": [
        "#checkpoints\n",
        "learning_rate_reduction = ReduceLROnPlateau(monitor='val_acc', patience = 2, verbose=1,factor=0.3, min_lr=0.000001)\n",
        "chkpt = ModelCheckpoint(filepath='best_model_EfficientNetV2M_2.hdf5', monitor='val_acc', save_best_only=True, save_weights_only=True)\n",
        "\n",
        "history = model16.fit(train_gen, epochs=10, validation_data=valid_gen, callbacks=[learning_rate_reduction, chkpt])\n"
      ]
    },
    {
      "cell_type": "code",
      "execution_count": null,
      "metadata": {
        "id": "ak3gg9tIni-X",
        "colab": {
          "base_uri": "https://localhost:8080/"
        },
        "outputId": "68697de3-5818-415f-b92e-ae8aeb15c643"
      },
      "outputs": [
        {
          "output_type": "stream",
          "name": "stdout",
          "text": [
            "37/37 [==============================] - 8s 92ms/step\n"
          ]
        }
      ],
      "source": [
        "model16.load_weights('best_model_EfficientNetV2M_2.hdf5')\n",
        "preds = model16.predict(X_test)\n",
        "labelled_preds = one_hot_encoder.inverse_transform(preds)\n",
        "pred = pd.DataFrame(labelled_preds, columns =[\"class_id\"])\n",
        "df = pd.read_csv('submission3.csv')\n",
        "df ['class_id']= pred\n",
        "df.to_csv(\"final_submission_EfficientNetV2M_vol2.csv\", index=False)"
      ]
    },
    {
      "cell_type": "markdown",
      "source": [
        "EfficientNetV2M_3 - Kept for final results"
      ],
      "metadata": {
        "id": "Ob55Zgg82O18"
      }
    },
    {
      "cell_type": "code",
      "execution_count": null,
      "metadata": {
        "id": "VcvQxR-GnizV"
      },
      "outputs": [],
      "source": [
        "#EfficientNetV2M_3\n",
        "base_model20 = tf.keras.applications.EfficientNetV2M(include_top=False,\n",
        "                                     weights='imagenet',\n",
        "                                     input_shape=(224, 224, 3))\n",
        "x = base_model20.output\n",
        "x = tf.keras.layers.GlobalAveragePooling2D()(x)\n",
        "x = Dense(512, activation=None, kernel_regularizer = L1L2(l1=1e-5, l2=1e-3))(x)\n",
        "x = BatchNormalization()(x)\n",
        "x = Activation('swish')(x)\n",
        "x = Dropout(0.5)(x)\n",
        "x = Dense(512, activation=None, kernel_regularizer = L1L2(l1=1e-5, l2=1e-3))(x)\n",
        "x = BatchNormalization()(x)\n",
        "x = Activation('swish')(x)\n",
        "x = Dropout(0.5)(x)\n",
        "ouput1 = Dense(3, activation= 'softmax')(x)\n",
        "\n",
        "model20 = Model(inputs=base_model20.input, outputs=ouput1)\n",
        "\n",
        "optimizer = tf.keras.optimizers.legacy.Adam(learning_rate=1e-3, decay=1e-3 * 0.1)\n",
        "model20.compile(loss='categorical_crossentropy',\n",
        "                optimizer=optimizer,\n",
        "                metrics=['acc'])\n",
        "\n"
      ]
    },
    {
      "cell_type": "code",
      "execution_count": null,
      "metadata": {
        "id": "fnxg8G0knixI",
        "colab": {
          "base_uri": "https://localhost:8080/"
        },
        "outputId": "666d05c6-311a-4d72-a9bd-d09c650d39b6"
      },
      "outputs": [
        {
          "output_type": "stream",
          "name": "stdout",
          "text": [
            "Epoch 1/40\n",
            "94/94 [==============================] - 134s 1s/step - loss: 2.1522 - acc: 0.7206 - val_loss: 1.8154 - val_acc: 0.7923 - lr: 0.0010\n",
            "Epoch 2/40\n",
            "94/94 [==============================] - 70s 741ms/step - loss: 1.6792 - acc: 0.8002 - val_loss: 1.5611 - val_acc: 0.7880 - lr: 0.0010\n",
            "Epoch 3/40\n",
            "94/94 [==============================] - 75s 793ms/step - loss: 1.3822 - acc: 0.8090 - val_loss: 1.2771 - val_acc: 0.8073 - lr: 0.0010\n",
            "Epoch 4/40\n",
            "94/94 [==============================] - 74s 783ms/step - loss: 1.1348 - acc: 0.8088 - val_loss: 1.0346 - val_acc: 0.8094 - lr: 0.0010\n",
            "Epoch 5/40\n",
            "94/94 [==============================] - 74s 787ms/step - loss: 0.9115 - acc: 0.8340 - val_loss: 0.8249 - val_acc: 0.8330 - lr: 0.0010\n",
            "Epoch 6/40\n",
            "94/94 [==============================] - 70s 740ms/step - loss: 0.7598 - acc: 0.8376 - val_loss: 0.7176 - val_acc: 0.8330 - lr: 0.0010\n",
            "Epoch 7/40\n",
            "94/94 [==============================] - ETA: 0s - loss: 0.6480 - acc: 0.8511\n",
            "Epoch 7: ReduceLROnPlateau reducing learning rate to 0.0003000000142492354.\n",
            "94/94 [==============================] - 70s 740ms/step - loss: 0.6480 - acc: 0.8511 - val_loss: 0.7295 - val_acc: 0.7837 - lr: 0.0010\n",
            "Epoch 8/40\n",
            "94/94 [==============================] - 70s 738ms/step - loss: 0.6330 - acc: 0.8454 - val_loss: 0.6217 - val_acc: 0.8287 - lr: 3.0000e-04\n",
            "Epoch 9/40\n",
            "94/94 [==============================] - 75s 789ms/step - loss: 0.5054 - acc: 0.8856 - val_loss: 0.5683 - val_acc: 0.8458 - lr: 3.0000e-04\n",
            "Epoch 10/40\n",
            "94/94 [==============================] - 70s 742ms/step - loss: 0.4468 - acc: 0.9001 - val_loss: 0.6101 - val_acc: 0.8180 - lr: 3.0000e-04\n",
            "Epoch 11/40\n",
            "94/94 [==============================] - 74s 783ms/step - loss: 0.3957 - acc: 0.9189 - val_loss: 0.5625 - val_acc: 0.8480 - lr: 3.0000e-04\n",
            "Epoch 12/40\n",
            "94/94 [==============================] - 70s 738ms/step - loss: 0.3425 - acc: 0.9341 - val_loss: 0.5847 - val_acc: 0.8308 - lr: 3.0000e-04\n",
            "Epoch 13/40\n",
            "94/94 [==============================] - ETA: 0s - loss: 0.4041 - acc: 0.9082\n",
            "Epoch 13: ReduceLROnPlateau reducing learning rate to 9.000000427477062e-05.\n",
            "94/94 [==============================] - 70s 738ms/step - loss: 0.4041 - acc: 0.9082 - val_loss: 0.6177 - val_acc: 0.8201 - lr: 3.0000e-04\n",
            "Epoch 14/40\n",
            "94/94 [==============================] - 74s 786ms/step - loss: 0.3819 - acc: 0.9087 - val_loss: 0.5468 - val_acc: 0.8565 - lr: 9.0000e-05\n",
            "Epoch 15/40\n",
            "94/94 [==============================] - 70s 738ms/step - loss: 0.3231 - acc: 0.9329 - val_loss: 0.6112 - val_acc: 0.8458 - lr: 9.0000e-05\n",
            "Epoch 16/40\n",
            "94/94 [==============================] - ETA: 0s - loss: 0.2702 - acc: 0.9527\n",
            "Epoch 16: ReduceLROnPlateau reducing learning rate to 2.700000040931627e-05.\n",
            "94/94 [==============================] - 70s 738ms/step - loss: 0.2702 - acc: 0.9527 - val_loss: 0.6180 - val_acc: 0.8394 - lr: 9.0000e-05\n",
            "Epoch 17/40\n",
            "94/94 [==============================] - 70s 738ms/step - loss: 0.2505 - acc: 0.9586 - val_loss: 0.6483 - val_acc: 0.8394 - lr: 2.7000e-05\n",
            "Epoch 18/40\n",
            "94/94 [==============================] - 74s 788ms/step - loss: 0.2425 - acc: 0.9622 - val_loss: 0.5903 - val_acc: 0.8608 - lr: 2.7000e-05\n",
            "Epoch 19/40\n",
            "94/94 [==============================] - 70s 738ms/step - loss: 0.2270 - acc: 0.9643 - val_loss: 0.6444 - val_acc: 0.8565 - lr: 2.7000e-05\n",
            "Epoch 20/40\n",
            "94/94 [==============================] - ETA: 0s - loss: 0.2125 - acc: 0.9686\n",
            "Epoch 20: ReduceLROnPlateau reducing learning rate to 8.100000013655517e-06.\n",
            "94/94 [==============================] - 70s 738ms/step - loss: 0.2125 - acc: 0.9686 - val_loss: 0.6460 - val_acc: 0.8608 - lr: 2.7000e-05\n",
            "Epoch 21/40\n",
            "94/94 [==============================] - 70s 738ms/step - loss: 0.2180 - acc: 0.9674 - val_loss: 0.6856 - val_acc: 0.8415 - lr: 8.1000e-06\n",
            "Epoch 22/40\n",
            "94/94 [==============================] - ETA: 0s - loss: 0.2145 - acc: 0.9686\n",
            "Epoch 22: ReduceLROnPlateau reducing learning rate to 2.429999949526973e-06.\n",
            "94/94 [==============================] - 70s 739ms/step - loss: 0.2145 - acc: 0.9686 - val_loss: 0.6274 - val_acc: 0.8544 - lr: 8.1000e-06\n",
            "Epoch 23/40\n",
            "94/94 [==============================] - 70s 739ms/step - loss: 0.2102 - acc: 0.9696 - val_loss: 0.6603 - val_acc: 0.8608 - lr: 2.4300e-06\n",
            "Epoch 24/40\n",
            "94/94 [==============================] - ETA: 0s - loss: 0.2134 - acc: 0.9698\n",
            "Epoch 24: ReduceLROnPlateau reducing learning rate to 1e-06.\n",
            "94/94 [==============================] - 70s 737ms/step - loss: 0.2134 - acc: 0.9698 - val_loss: 0.6692 - val_acc: 0.8437 - lr: 2.4300e-06\n",
            "Epoch 25/40\n",
            "94/94 [==============================] - 70s 740ms/step - loss: 0.2045 - acc: 0.9715 - val_loss: 0.6587 - val_acc: 0.8458 - lr: 1.0000e-06\n",
            "Epoch 26/40\n",
            "94/94 [==============================] - 70s 739ms/step - loss: 0.2035 - acc: 0.9724 - val_loss: 0.6490 - val_acc: 0.8480 - lr: 1.0000e-06\n",
            "Epoch 27/40\n",
            "94/94 [==============================] - 70s 739ms/step - loss: 0.1991 - acc: 0.9724 - val_loss: 0.6985 - val_acc: 0.8437 - lr: 1.0000e-06\n",
            "Epoch 28/40\n",
            "94/94 [==============================] - 70s 738ms/step - loss: 0.2023 - acc: 0.9710 - val_loss: 0.6664 - val_acc: 0.8480 - lr: 1.0000e-06\n",
            "Epoch 29/40\n",
            "94/94 [==============================] - 70s 739ms/step - loss: 0.2081 - acc: 0.9719 - val_loss: 0.6869 - val_acc: 0.8308 - lr: 1.0000e-06\n",
            "Epoch 30/40\n",
            "94/94 [==============================] - 70s 739ms/step - loss: 0.2074 - acc: 0.9715 - val_loss: 0.7002 - val_acc: 0.8501 - lr: 1.0000e-06\n",
            "Epoch 31/40\n",
            "94/94 [==============================] - 70s 739ms/step - loss: 0.2023 - acc: 0.9705 - val_loss: 0.6857 - val_acc: 0.8373 - lr: 1.0000e-06\n",
            "Epoch 32/40\n",
            "94/94 [==============================] - 70s 739ms/step - loss: 0.1987 - acc: 0.9724 - val_loss: 0.6580 - val_acc: 0.8480 - lr: 1.0000e-06\n",
            "Epoch 33/40\n",
            "94/94 [==============================] - 70s 739ms/step - loss: 0.2013 - acc: 0.9741 - val_loss: 0.6704 - val_acc: 0.8544 - lr: 1.0000e-06\n",
            "Epoch 34/40\n",
            "94/94 [==============================] - 70s 740ms/step - loss: 0.1936 - acc: 0.9760 - val_loss: 0.6425 - val_acc: 0.8565 - lr: 1.0000e-06\n",
            "Epoch 35/40\n",
            "94/94 [==============================] - 70s 740ms/step - loss: 0.2026 - acc: 0.9712 - val_loss: 0.6674 - val_acc: 0.8522 - lr: 1.0000e-06\n",
            "Epoch 36/40\n",
            "94/94 [==============================] - 74s 787ms/step - loss: 0.2045 - acc: 0.9715 - val_loss: 0.6270 - val_acc: 0.8630 - lr: 1.0000e-06\n",
            "Epoch 37/40\n",
            "94/94 [==============================] - 70s 740ms/step - loss: 0.1935 - acc: 0.9755 - val_loss: 0.7067 - val_acc: 0.8394 - lr: 1.0000e-06\n",
            "Epoch 38/40\n",
            "94/94 [==============================] - 70s 737ms/step - loss: 0.1957 - acc: 0.9765 - val_loss: 0.6700 - val_acc: 0.8415 - lr: 1.0000e-06\n",
            "Epoch 39/40\n",
            "94/94 [==============================] - 70s 738ms/step - loss: 0.2045 - acc: 0.9698 - val_loss: 0.6644 - val_acc: 0.8587 - lr: 1.0000e-06\n",
            "Epoch 40/40\n",
            "94/94 [==============================] - 75s 790ms/step - loss: 0.2025 - acc: 0.9717 - val_loss: 0.5901 - val_acc: 0.8672 - lr: 1.0000e-06\n"
          ]
        }
      ],
      "source": [
        "#checkpoints\n",
        "learning_rate_reduction = ReduceLROnPlateau(monitor='val_acc', patience = 2, verbose=1,factor=0.3, min_lr=0.000001)\n",
        "chkpt = ModelCheckpoint(filepath='best_model_EfficientNetV2M_3.hdf5', monitor='val_acc', save_best_only=True, save_weights_only=True)\n",
        "\n",
        "history = model20.fit(train_gen, epochs=40, validation_data=valid_gen, callbacks=[learning_rate_reduction, chkpt])\n"
      ]
    },
    {
      "cell_type": "code",
      "execution_count": null,
      "metadata": {
        "id": "VnCngJJunivE",
        "colab": {
          "base_uri": "https://localhost:8080/"
        },
        "outputId": "7b1910ae-c889-4c1d-cfd4-2f5708b93d74"
      },
      "outputs": [
        {
          "output_type": "stream",
          "name": "stdout",
          "text": [
            "37/37 [==============================] - 8s 92ms/step\n"
          ]
        }
      ],
      "source": [
        "model20.load_weights('best_model_EfficientNetV2M_3.hdf5')\n",
        "preds = model20.predict(X_test)\n",
        "labelled_preds = one_hot_encoder.inverse_transform(preds)\n",
        "pred = pd.DataFrame(labelled_preds, columns =[\"class_id\"])\n",
        "df = pd.read_csv('submission3.csv')\n",
        "df ['class_id']= pred\n",
        "df.to_csv(\"final_submission_EfficientNetV2M_vol3.csv\", index=False)"
      ]
    },
    {
      "cell_type": "markdown",
      "source": [
        "MOBILENET - Kept for final results"
      ],
      "metadata": {
        "id": "lp3csL0E2diN"
      }
    },
    {
      "cell_type": "code",
      "execution_count": null,
      "metadata": {
        "id": "Kc2Onn4nnir_",
        "colab": {
          "base_uri": "https://localhost:8080/"
        },
        "outputId": "e47a07fd-a280-4334-e2b5-348f8bc1d9f2"
      },
      "outputs": [
        {
          "output_type": "stream",
          "name": "stdout",
          "text": [
            "Downloading data from https://storage.googleapis.com/tensorflow/keras-applications/mobilenet/mobilenet_1_0_224_tf_no_top.h5\n",
            "17225924/17225924 [==============================] - 0s 0us/step\n",
            "Model: \"model_19\"\n",
            "_________________________________________________________________\n",
            " Layer (type)                Output Shape              Param #   \n",
            "=================================================================\n",
            " input_20 (InputLayer)       [(None, 224, 224, 3)]     0         \n",
            "                                                                 \n",
            " conv1 (Conv2D)              (None, 112, 112, 32)      864       \n",
            "                                                                 \n",
            " conv1_bn (BatchNormalizati  (None, 112, 112, 32)      128       \n",
            " on)                                                             \n",
            "                                                                 \n",
            " conv1_relu (ReLU)           (None, 112, 112, 32)      0         \n",
            "                                                                 \n",
            " conv_dw_1 (DepthwiseConv2D  (None, 112, 112, 32)      288       \n",
            " )                                                               \n",
            "                                                                 \n",
            " conv_dw_1_bn (BatchNormali  (None, 112, 112, 32)      128       \n",
            " zation)                                                         \n",
            "                                                                 \n",
            " conv_dw_1_relu (ReLU)       (None, 112, 112, 32)      0         \n",
            "                                                                 \n",
            " conv_pw_1 (Conv2D)          (None, 112, 112, 64)      2048      \n",
            "                                                                 \n",
            " conv_pw_1_bn (BatchNormali  (None, 112, 112, 64)      256       \n",
            " zation)                                                         \n",
            "                                                                 \n",
            " conv_pw_1_relu (ReLU)       (None, 112, 112, 64)      0         \n",
            "                                                                 \n",
            " conv_pad_2 (ZeroPadding2D)  (None, 113, 113, 64)      0         \n",
            "                                                                 \n",
            " conv_dw_2 (DepthwiseConv2D  (None, 56, 56, 64)        576       \n",
            " )                                                               \n",
            "                                                                 \n",
            " conv_dw_2_bn (BatchNormali  (None, 56, 56, 64)        256       \n",
            " zation)                                                         \n",
            "                                                                 \n",
            " conv_dw_2_relu (ReLU)       (None, 56, 56, 64)        0         \n",
            "                                                                 \n",
            " conv_pw_2 (Conv2D)          (None, 56, 56, 128)       8192      \n",
            "                                                                 \n",
            " conv_pw_2_bn (BatchNormali  (None, 56, 56, 128)       512       \n",
            " zation)                                                         \n",
            "                                                                 \n",
            " conv_pw_2_relu (ReLU)       (None, 56, 56, 128)       0         \n",
            "                                                                 \n",
            " conv_dw_3 (DepthwiseConv2D  (None, 56, 56, 128)       1152      \n",
            " )                                                               \n",
            "                                                                 \n",
            " conv_dw_3_bn (BatchNormali  (None, 56, 56, 128)       512       \n",
            " zation)                                                         \n",
            "                                                                 \n",
            " conv_dw_3_relu (ReLU)       (None, 56, 56, 128)       0         \n",
            "                                                                 \n",
            " conv_pw_3 (Conv2D)          (None, 56, 56, 128)       16384     \n",
            "                                                                 \n",
            " conv_pw_3_bn (BatchNormali  (None, 56, 56, 128)       512       \n",
            " zation)                                                         \n",
            "                                                                 \n",
            " conv_pw_3_relu (ReLU)       (None, 56, 56, 128)       0         \n",
            "                                                                 \n",
            " conv_pad_4 (ZeroPadding2D)  (None, 57, 57, 128)       0         \n",
            "                                                                 \n",
            " conv_dw_4 (DepthwiseConv2D  (None, 28, 28, 128)       1152      \n",
            " )                                                               \n",
            "                                                                 \n",
            " conv_dw_4_bn (BatchNormali  (None, 28, 28, 128)       512       \n",
            " zation)                                                         \n",
            "                                                                 \n",
            " conv_dw_4_relu (ReLU)       (None, 28, 28, 128)       0         \n",
            "                                                                 \n",
            " conv_pw_4 (Conv2D)          (None, 28, 28, 256)       32768     \n",
            "                                                                 \n",
            " conv_pw_4_bn (BatchNormali  (None, 28, 28, 256)       1024      \n",
            " zation)                                                         \n",
            "                                                                 \n",
            " conv_pw_4_relu (ReLU)       (None, 28, 28, 256)       0         \n",
            "                                                                 \n",
            " conv_dw_5 (DepthwiseConv2D  (None, 28, 28, 256)       2304      \n",
            " )                                                               \n",
            "                                                                 \n",
            " conv_dw_5_bn (BatchNormali  (None, 28, 28, 256)       1024      \n",
            " zation)                                                         \n",
            "                                                                 \n",
            " conv_dw_5_relu (ReLU)       (None, 28, 28, 256)       0         \n",
            "                                                                 \n",
            " conv_pw_5 (Conv2D)          (None, 28, 28, 256)       65536     \n",
            "                                                                 \n",
            " conv_pw_5_bn (BatchNormali  (None, 28, 28, 256)       1024      \n",
            " zation)                                                         \n",
            "                                                                 \n",
            " conv_pw_5_relu (ReLU)       (None, 28, 28, 256)       0         \n",
            "                                                                 \n",
            " conv_pad_6 (ZeroPadding2D)  (None, 29, 29, 256)       0         \n",
            "                                                                 \n",
            " conv_dw_6 (DepthwiseConv2D  (None, 14, 14, 256)       2304      \n",
            " )                                                               \n",
            "                                                                 \n",
            " conv_dw_6_bn (BatchNormali  (None, 14, 14, 256)       1024      \n",
            " zation)                                                         \n",
            "                                                                 \n",
            " conv_dw_6_relu (ReLU)       (None, 14, 14, 256)       0         \n",
            "                                                                 \n",
            " conv_pw_6 (Conv2D)          (None, 14, 14, 512)       131072    \n",
            "                                                                 \n",
            " conv_pw_6_bn (BatchNormali  (None, 14, 14, 512)       2048      \n",
            " zation)                                                         \n",
            "                                                                 \n",
            " conv_pw_6_relu (ReLU)       (None, 14, 14, 512)       0         \n",
            "                                                                 \n",
            " conv_dw_7 (DepthwiseConv2D  (None, 14, 14, 512)       4608      \n",
            " )                                                               \n",
            "                                                                 \n",
            " conv_dw_7_bn (BatchNormali  (None, 14, 14, 512)       2048      \n",
            " zation)                                                         \n",
            "                                                                 \n",
            " conv_dw_7_relu (ReLU)       (None, 14, 14, 512)       0         \n",
            "                                                                 \n",
            " conv_pw_7 (Conv2D)          (None, 14, 14, 512)       262144    \n",
            "                                                                 \n",
            " conv_pw_7_bn (BatchNormali  (None, 14, 14, 512)       2048      \n",
            " zation)                                                         \n",
            "                                                                 \n",
            " conv_pw_7_relu (ReLU)       (None, 14, 14, 512)       0         \n",
            "                                                                 \n",
            " conv_dw_8 (DepthwiseConv2D  (None, 14, 14, 512)       4608      \n",
            " )                                                               \n",
            "                                                                 \n",
            " conv_dw_8_bn (BatchNormali  (None, 14, 14, 512)       2048      \n",
            " zation)                                                         \n",
            "                                                                 \n",
            " conv_dw_8_relu (ReLU)       (None, 14, 14, 512)       0         \n",
            "                                                                 \n",
            " conv_pw_8 (Conv2D)          (None, 14, 14, 512)       262144    \n",
            "                                                                 \n",
            " conv_pw_8_bn (BatchNormali  (None, 14, 14, 512)       2048      \n",
            " zation)                                                         \n",
            "                                                                 \n",
            " conv_pw_8_relu (ReLU)       (None, 14, 14, 512)       0         \n",
            "                                                                 \n",
            " conv_dw_9 (DepthwiseConv2D  (None, 14, 14, 512)       4608      \n",
            " )                                                               \n",
            "                                                                 \n",
            " conv_dw_9_bn (BatchNormali  (None, 14, 14, 512)       2048      \n",
            " zation)                                                         \n",
            "                                                                 \n",
            " conv_dw_9_relu (ReLU)       (None, 14, 14, 512)       0         \n",
            "                                                                 \n",
            " conv_pw_9 (Conv2D)          (None, 14, 14, 512)       262144    \n",
            "                                                                 \n",
            " conv_pw_9_bn (BatchNormali  (None, 14, 14, 512)       2048      \n",
            " zation)                                                         \n",
            "                                                                 \n",
            " conv_pw_9_relu (ReLU)       (None, 14, 14, 512)       0         \n",
            "                                                                 \n",
            " conv_dw_10 (DepthwiseConv2  (None, 14, 14, 512)       4608      \n",
            " D)                                                              \n",
            "                                                                 \n",
            " conv_dw_10_bn (BatchNormal  (None, 14, 14, 512)       2048      \n",
            " ization)                                                        \n",
            "                                                                 \n",
            " conv_dw_10_relu (ReLU)      (None, 14, 14, 512)       0         \n",
            "                                                                 \n",
            " conv_pw_10 (Conv2D)         (None, 14, 14, 512)       262144    \n",
            "                                                                 \n",
            " conv_pw_10_bn (BatchNormal  (None, 14, 14, 512)       2048      \n",
            " ization)                                                        \n",
            "                                                                 \n",
            " conv_pw_10_relu (ReLU)      (None, 14, 14, 512)       0         \n",
            "                                                                 \n",
            " conv_dw_11 (DepthwiseConv2  (None, 14, 14, 512)       4608      \n",
            " D)                                                              \n",
            "                                                                 \n",
            " conv_dw_11_bn (BatchNormal  (None, 14, 14, 512)       2048      \n",
            " ization)                                                        \n",
            "                                                                 \n",
            " conv_dw_11_relu (ReLU)      (None, 14, 14, 512)       0         \n",
            "                                                                 \n",
            " conv_pw_11 (Conv2D)         (None, 14, 14, 512)       262144    \n",
            "                                                                 \n",
            " conv_pw_11_bn (BatchNormal  (None, 14, 14, 512)       2048      \n",
            " ization)                                                        \n",
            "                                                                 \n",
            " conv_pw_11_relu (ReLU)      (None, 14, 14, 512)       0         \n",
            "                                                                 \n",
            " conv_pad_12 (ZeroPadding2D  (None, 15, 15, 512)       0         \n",
            " )                                                               \n",
            "                                                                 \n",
            " conv_dw_12 (DepthwiseConv2  (None, 7, 7, 512)         4608      \n",
            " D)                                                              \n",
            "                                                                 \n",
            " conv_dw_12_bn (BatchNormal  (None, 7, 7, 512)         2048      \n",
            " ization)                                                        \n",
            "                                                                 \n",
            " conv_dw_12_relu (ReLU)      (None, 7, 7, 512)         0         \n",
            "                                                                 \n",
            " conv_pw_12 (Conv2D)         (None, 7, 7, 1024)        524288    \n",
            "                                                                 \n",
            " conv_pw_12_bn (BatchNormal  (None, 7, 7, 1024)        4096      \n",
            " ization)                                                        \n",
            "                                                                 \n",
            " conv_pw_12_relu (ReLU)      (None, 7, 7, 1024)        0         \n",
            "                                                                 \n",
            " conv_dw_13 (DepthwiseConv2  (None, 7, 7, 1024)        9216      \n",
            " D)                                                              \n",
            "                                                                 \n",
            " conv_dw_13_bn (BatchNormal  (None, 7, 7, 1024)        4096      \n",
            " ization)                                                        \n",
            "                                                                 \n",
            " conv_dw_13_relu (ReLU)      (None, 7, 7, 1024)        0         \n",
            "                                                                 \n",
            " conv_pw_13 (Conv2D)         (None, 7, 7, 1024)        1048576   \n",
            "                                                                 \n",
            " conv_pw_13_bn (BatchNormal  (None, 7, 7, 1024)        4096      \n",
            " ization)                                                        \n",
            "                                                                 \n",
            " conv_pw_13_relu (ReLU)      (None, 7, 7, 1024)        0         \n",
            "                                                                 \n",
            " global_average_pooling2d_1  (None, 1024)              0         \n",
            " 9 (GlobalAveragePooling2D)                                      \n",
            "                                                                 \n",
            " dense_57 (Dense)            (None, 512)               524800    \n",
            "                                                                 \n",
            " batch_normalization_38 (Ba  (None, 512)               2048      \n",
            " tchNormalization)                                               \n",
            "                                                                 \n",
            " activation_38 (Activation)  (None, 512)               0         \n",
            "                                                                 \n",
            " dropout_38 (Dropout)        (None, 512)               0         \n",
            "                                                                 \n",
            " dense_58 (Dense)            (None, 512)               262656    \n",
            "                                                                 \n",
            " batch_normalization_39 (Ba  (None, 512)               2048      \n",
            " tchNormalization)                                               \n",
            "                                                                 \n",
            " activation_39 (Activation)  (None, 512)               0         \n",
            "                                                                 \n",
            " dropout_39 (Dropout)        (None, 512)               0         \n",
            "                                                                 \n",
            " dense_59 (Dense)            (None, 3)                 1539      \n",
            "                                                                 \n",
            "=================================================================\n",
            "Total params: 4021955 (15.34 MB)\n",
            "Trainable params: 3998019 (15.25 MB)\n",
            "Non-trainable params: 23936 (93.50 KB)\n",
            "_________________________________________________________________\n"
          ]
        }
      ],
      "source": [
        "#MobileNet\n",
        "base_model8 = tf.keras.applications.MobileNet(include_top=False,\n",
        "                                     weights='imagenet',\n",
        "                                     input_shape=(224, 224, 3))\n",
        "x = base_model8.output\n",
        "x = tf.keras.layers.GlobalAveragePooling2D()(x)\n",
        "x = Dense(512, activation=None, kernel_regularizer = L1L2(l1=1e-5, l2=1e-3))(x)\n",
        "x = BatchNormalization()(x)\n",
        "x = Activation('swish')(x)\n",
        "x = Dropout(0.3)(x)\n",
        "x = Dense(512, activation=None, kernel_regularizer = L1L2(l1=1e-5, l2=1e-3))(x)\n",
        "x = BatchNormalization()(x)\n",
        "x = Activation('swish')(x)\n",
        "x = Dropout(0.3)(x)\n",
        "ouput1 = Dense(3, activation= 'softmax')(x)\n",
        "\n",
        "model8 = Model(inputs=base_model8.input, outputs=ouput1)\n",
        "\n",
        "optimizer = tf.keras.optimizers.legacy.Adam(learning_rate=1e-3, decay=1e-3 * 0.1)\n",
        "model8.compile(loss='categorical_crossentropy',\n",
        "                optimizer=optimizer,\n",
        "                metrics=['acc'])\n",
        "model8.summary()"
      ]
    },
    {
      "cell_type": "code",
      "execution_count": null,
      "metadata": {
        "id": "eweQu03hnin8",
        "colab": {
          "base_uri": "https://localhost:8080/"
        },
        "outputId": "27fcd714-f2f0-477c-d179-82a2ee0b25a2"
      },
      "outputs": [
        {
          "output_type": "stream",
          "name": "stdout",
          "text": [
            "Epoch 1/30\n",
            "94/94 [==============================] - 61s 587ms/step - loss: 2.0380 - acc: 0.7446 - val_loss: 2.2276 - val_acc: 0.7323 - lr: 0.0010\n",
            "Epoch 2/30\n",
            "94/94 [==============================] - 53s 564ms/step - loss: 1.6355 - acc: 0.8052 - val_loss: 1.7453 - val_acc: 0.7987 - lr: 0.0010\n",
            "Epoch 3/30\n",
            "94/94 [==============================] - 53s 564ms/step - loss: 1.3399 - acc: 0.8238 - val_loss: 1.3112 - val_acc: 0.7880 - lr: 0.0010\n",
            "Epoch 4/30\n",
            "94/94 [==============================] - 53s 568ms/step - loss: 1.0882 - acc: 0.8340 - val_loss: 1.1660 - val_acc: 0.7302 - lr: 0.0010\n",
            "Epoch 5/30\n",
            "94/94 [==============================] - 53s 562ms/step - loss: 0.8727 - acc: 0.8447 - val_loss: 0.8331 - val_acc: 0.8308 - lr: 0.0010\n",
            "Epoch 6/30\n",
            "94/94 [==============================] - 53s 566ms/step - loss: 0.7059 - acc: 0.8559 - val_loss: 0.7298 - val_acc: 0.8351 - lr: 0.0010\n",
            "Epoch 7/30\n",
            "94/94 [==============================] - 52s 558ms/step - loss: 0.6013 - acc: 0.8540 - val_loss: 0.9246 - val_acc: 0.7388 - lr: 0.0010\n",
            "Epoch 8/30\n",
            "94/94 [==============================] - 53s 563ms/step - loss: 0.5076 - acc: 0.8652 - val_loss: 0.7239 - val_acc: 0.7794 - lr: 0.0010\n",
            "Epoch 9/30\n",
            "94/94 [==============================] - 53s 565ms/step - loss: 0.4259 - acc: 0.8849 - val_loss: 0.6583 - val_acc: 0.8051 - lr: 0.0010\n",
            "Epoch 10/30\n",
            "94/94 [==============================] - 52s 555ms/step - loss: 0.3808 - acc: 0.8844 - val_loss: 0.7974 - val_acc: 0.6702 - lr: 0.0010\n",
            "Epoch 11/30\n",
            "94/94 [==============================] - ETA: 0s - loss: 0.3263 - acc: 0.9025\n",
            "Epoch 11: ReduceLROnPlateau reducing learning rate to 0.0003000000142492354.\n",
            "94/94 [==============================] - 53s 559ms/step - loss: 0.3263 - acc: 0.9025 - val_loss: 1.0959 - val_acc: 0.6060 - lr: 0.0010\n",
            "Epoch 12/30\n",
            "94/94 [==============================] - 53s 563ms/step - loss: 0.2502 - acc: 0.9258 - val_loss: 0.4979 - val_acc: 0.8394 - lr: 3.0000e-04\n",
            "Epoch 13/30\n",
            "94/94 [==============================] - 54s 572ms/step - loss: 0.1892 - acc: 0.9539 - val_loss: 0.4811 - val_acc: 0.8587 - lr: 3.0000e-04\n",
            "Epoch 14/30\n",
            "94/94 [==============================] - 52s 552ms/step - loss: 0.1648 - acc: 0.9574 - val_loss: 0.5224 - val_acc: 0.8437 - lr: 3.0000e-04\n",
            "Epoch 15/30\n",
            "94/94 [==============================] - ETA: 0s - loss: 0.1393 - acc: 0.9665\n",
            "Epoch 15: ReduceLROnPlateau reducing learning rate to 9.000000427477062e-05.\n",
            "94/94 [==============================] - 52s 552ms/step - loss: 0.1393 - acc: 0.9665 - val_loss: 0.5610 - val_acc: 0.8351 - lr: 3.0000e-04\n",
            "Epoch 16/30\n",
            "94/94 [==============================] - 52s 556ms/step - loss: 0.1109 - acc: 0.9765 - val_loss: 0.5921 - val_acc: 0.8630 - lr: 9.0000e-05\n",
            "Epoch 17/30\n",
            "94/94 [==============================] - ETA: 0s - loss: 0.0943 - acc: 0.9824\n",
            "Epoch 17: ReduceLROnPlateau reducing learning rate to 2.700000040931627e-05.\n",
            "94/94 [==============================] - 52s 556ms/step - loss: 0.0943 - acc: 0.9824 - val_loss: 0.5630 - val_acc: 0.8651 - lr: 9.0000e-05\n",
            "Epoch 18/30\n",
            "94/94 [==============================] - 53s 558ms/step - loss: 0.0855 - acc: 0.9872 - val_loss: 0.5661 - val_acc: 0.8694 - lr: 2.7000e-05\n",
            "Epoch 19/30\n",
            "94/94 [==============================] - ETA: 0s - loss: 0.0829 - acc: 0.9853\n",
            "Epoch 19: ReduceLROnPlateau reducing learning rate to 8.100000013655517e-06.\n",
            "94/94 [==============================] - 52s 555ms/step - loss: 0.0829 - acc: 0.9853 - val_loss: 0.6158 - val_acc: 0.8522 - lr: 2.7000e-05\n",
            "Epoch 20/30\n",
            "94/94 [==============================] - 53s 559ms/step - loss: 0.0743 - acc: 0.9872 - val_loss: 0.6387 - val_acc: 0.8587 - lr: 8.1000e-06\n",
            "Epoch 21/30\n",
            "94/94 [==============================] - ETA: 0s - loss: 0.0735 - acc: 0.9902\n",
            "Epoch 21: ReduceLROnPlateau reducing learning rate to 2.429999949526973e-06.\n",
            "94/94 [==============================] - 52s 556ms/step - loss: 0.0735 - acc: 0.9902 - val_loss: 0.6255 - val_acc: 0.8651 - lr: 8.1000e-06\n",
            "Epoch 22/30\n",
            "94/94 [==============================] - 52s 556ms/step - loss: 0.0751 - acc: 0.9881 - val_loss: 0.6605 - val_acc: 0.8651 - lr: 2.4300e-06\n",
            "Epoch 23/30\n",
            "94/94 [==============================] - ETA: 0s - loss: 0.0712 - acc: 0.9907\n",
            "Epoch 23: ReduceLROnPlateau reducing learning rate to 7.289999985005124e-07.\n",
            "94/94 [==============================] - 52s 556ms/step - loss: 0.0712 - acc: 0.9907 - val_loss: 0.6647 - val_acc: 0.8630 - lr: 2.4300e-06\n",
            "Epoch 24/30\n",
            "94/94 [==============================] - 52s 556ms/step - loss: 0.0725 - acc: 0.9907 - val_loss: 0.6121 - val_acc: 0.8694 - lr: 7.2900e-07\n",
            "Epoch 25/30\n",
            "94/94 [==============================] - ETA: 0s - loss: 0.0700 - acc: 0.9907\n",
            "Epoch 25: ReduceLROnPlateau reducing learning rate to 2.1870000637136398e-07.\n",
            "94/94 [==============================] - 52s 555ms/step - loss: 0.0700 - acc: 0.9907 - val_loss: 0.6454 - val_acc: 0.8458 - lr: 7.2900e-07\n",
            "Epoch 26/30\n",
            "94/94 [==============================] - 52s 555ms/step - loss: 0.0708 - acc: 0.9898 - val_loss: 0.6384 - val_acc: 0.8608 - lr: 2.1870e-07\n"
          ]
        }
      ],
      "source": [
        "#checkpoints\n",
        "\n",
        "learning_rate_reduction = ReduceLROnPlateau(monitor='val_loss', patience = 2, verbose=1,factor=0.3, min_lr=0.00000001)\n",
        "chkpt = ModelCheckpoint(filepath='best_model_Mobnet.hdf5', monitor='val_loss', save_best_only=True, save_weights_only=True)\n",
        "early_stopping = tf.keras.callbacks.EarlyStopping(patience=13, monitor='val_loss', restore_best_weights=True)\n",
        "\n",
        "history8 = model8.fit(train_gen, epochs=30, validation_data=valid_gen, callbacks=[learning_rate_reduction, chkpt, early_stopping])\n"
      ]
    },
    {
      "cell_type": "code",
      "execution_count": null,
      "metadata": {
        "id": "fPdXzFit51Q0",
        "colab": {
          "base_uri": "https://localhost:8080/"
        },
        "outputId": "8f431bbe-0864-4cba-b2dd-5307e977848f"
      },
      "outputs": [
        {
          "output_type": "stream",
          "name": "stdout",
          "text": [
            "37/37 [==============================] - 1s 18ms/step\n"
          ]
        }
      ],
      "source": [
        "model8.load_weights(\"best_model_Mobnet.hdf5\")\n",
        "preds = model8.predict(X_test)\n",
        "labelled_preds = one_hot_encoder.inverse_transform(preds)\n",
        "pred = pd.DataFrame(labelled_preds, columns =[\"class_id\"])\n",
        "df = pd.read_csv('submission3.csv')\n",
        "df ['class_id']= pred\n",
        "df.to_csv(\"final_submission46.csv\", index=False)\n"
      ]
    },
    {
      "cell_type": "markdown",
      "source": [
        "MobileNetV2 - Removed from final results\n",
        "\n",
        "\n"
      ],
      "metadata": {
        "id": "DQ6dCy1W2vxv"
      }
    },
    {
      "cell_type": "code",
      "source": [
        "#MobileNetV2\n",
        "base_model9 = tf.keras.applications.MobileNetV2(include_top=False,\n",
        "                                     weights='imagenet',\n",
        "                                     input_shape=(224, 224, 3))\n",
        "x = base_model9.output\n",
        "x = tf.keras.layers.GlobalAveragePooling2D()(x)\n",
        "x = Dense(512, activation=None, kernel_regularizer = L1L2(l1=1e-5, l2=1e-2))(x)\n",
        "x = BatchNormalization()(x)\n",
        "x = Activation('swish')(x)\n",
        "x = Dropout(0.3)(x)\n",
        "x = Dense(512, activation=None, kernel_regularizer = L1L2(l1=1e-5, l2=1e-2))(x)\n",
        "x = BatchNormalization()(x)\n",
        "x = Activation('swish')(x)\n",
        "x = Dropout(0.3)(x)\n",
        "ouput1 = Dense(3, activation= 'softmax')(x)\n",
        "\n",
        "model9 = Model(inputs=base_model9.input, outputs=ouput1)\n",
        "\n",
        "model9.compile(loss='categorical_crossentropy',\n",
        "              optimizer=tf.keras.optimizers.Adam(1e-3), metrics=['acc'])"
      ],
      "metadata": {
        "id": "RQRxKfia2yvR",
        "colab": {
          "base_uri": "https://localhost:8080/"
        },
        "outputId": "57d643f2-8b8a-4ba4-8d41-fdf2e8f9e792"
      },
      "execution_count": null,
      "outputs": [
        {
          "output_type": "stream",
          "name": "stdout",
          "text": [
            "Downloading data from https://storage.googleapis.com/tensorflow/keras-applications/mobilenet_v2/mobilenet_v2_weights_tf_dim_ordering_tf_kernels_1.0_224_no_top.h5\n",
            "9406464/9406464 [==============================] - 0s 0us/step\n"
          ]
        }
      ]
    },
    {
      "cell_type": "code",
      "source": [
        "#checkpoints\n",
        "learning_rate_reduction = ReduceLROnPlateau(monitor='val_loss', patience = 2, verbose=1,factor=0.3, min_lr=0.00000001)\n",
        "chkpt = ModelCheckpoint(filepath='best_model_MobnetV2.hdf5', monitor='val_loss', save_best_only=True, save_weights_only=True)\n",
        "early_stopping = tf.keras.callbacks.EarlyStopping(patience=13, monitor='val_loss', restore_best_weights=True)\n",
        "\n",
        "history9 = model9.fit(train_gen, epochs=20, validation_data=valid_gen, callbacks=[learning_rate_reduction, chkpt, early_stopping])\n"
      ],
      "metadata": {
        "id": "GPULXC5w22Ot",
        "colab": {
          "base_uri": "https://localhost:8080/"
        },
        "outputId": "09e8a90a-2ac6-42f4-db37-273e6e61f31c"
      },
      "execution_count": null,
      "outputs": [
        {
          "output_type": "stream",
          "name": "stdout",
          "text": [
            "Epoch 1/20\n",
            "94/94 [==============================] - 82s 585ms/step - loss: 8.0417 - acc: 0.7365 - val_loss: 4.1348 - val_acc: 0.5782 - lr: 0.0010\n",
            "Epoch 2/20\n",
            "94/94 [==============================] - 53s 563ms/step - loss: 1.9582 - acc: 0.7876 - val_loss: 1.4256 - val_acc: 0.6360 - lr: 0.0010\n",
            "Epoch 3/20\n",
            "94/94 [==============================] - 53s 568ms/step - loss: 0.7926 - acc: 0.7986 - val_loss: 1.0607 - val_acc: 0.7452 - lr: 0.0010\n",
            "Epoch 4/20\n",
            "94/94 [==============================] - 54s 572ms/step - loss: 0.5602 - acc: 0.8235 - val_loss: 0.6150 - val_acc: 0.7837 - lr: 0.0010\n",
            "Epoch 5/20\n",
            "94/94 [==============================] - 52s 556ms/step - loss: 0.5145 - acc: 0.8316 - val_loss: 0.6886 - val_acc: 0.7923 - lr: 0.0010\n",
            "Epoch 6/20\n",
            "94/94 [==============================] - ETA: 0s - loss: 0.4963 - acc: 0.8354\n",
            "Epoch 6: ReduceLROnPlateau reducing learning rate to 0.0003000000142492354.\n",
            "94/94 [==============================] - 52s 556ms/step - loss: 0.4963 - acc: 0.8354 - val_loss: 1.3371 - val_acc: 0.7473 - lr: 0.0010\n",
            "Epoch 7/20\n",
            "94/94 [==============================] - 52s 557ms/step - loss: 0.4139 - acc: 0.8709 - val_loss: 0.8966 - val_acc: 0.7623 - lr: 3.0000e-04\n",
            "Epoch 8/20\n",
            "94/94 [==============================] - ETA: 0s - loss: 0.3258 - acc: 0.8878\n",
            "Epoch 8: ReduceLROnPlateau reducing learning rate to 9.000000427477062e-05.\n",
            "94/94 [==============================] - 52s 554ms/step - loss: 0.3258 - acc: 0.8878 - val_loss: 0.9391 - val_acc: 0.7901 - lr: 3.0000e-04\n",
            "Epoch 9/20\n",
            "94/94 [==============================] - 52s 557ms/step - loss: 0.2545 - acc: 0.9153 - val_loss: 0.9772 - val_acc: 0.7923 - lr: 9.0000e-05\n",
            "Epoch 10/20\n",
            "94/94 [==============================] - ETA: 0s - loss: 0.2195 - acc: 0.9303\n",
            "Epoch 10: ReduceLROnPlateau reducing learning rate to 2.700000040931627e-05.\n",
            "94/94 [==============================] - 52s 557ms/step - loss: 0.2195 - acc: 0.9303 - val_loss: 1.1192 - val_acc: 0.7730 - lr: 9.0000e-05\n",
            "Epoch 11/20\n",
            "94/94 [==============================] - 52s 555ms/step - loss: 0.1916 - acc: 0.9358 - val_loss: 1.1244 - val_acc: 0.7794 - lr: 2.7000e-05\n",
            "Epoch 12/20\n",
            "94/94 [==============================] - ETA: 0s - loss: 0.1847 - acc: 0.9382\n",
            "Epoch 12: ReduceLROnPlateau reducing learning rate to 8.100000013655517e-06.\n",
            "94/94 [==============================] - 52s 555ms/step - loss: 0.1847 - acc: 0.9382 - val_loss: 1.1216 - val_acc: 0.7859 - lr: 2.7000e-05\n",
            "Epoch 13/20\n",
            "94/94 [==============================] - 52s 556ms/step - loss: 0.1624 - acc: 0.9434 - val_loss: 1.1216 - val_acc: 0.8116 - lr: 8.1000e-06\n",
            "Epoch 14/20\n",
            "94/94 [==============================] - ETA: 0s - loss: 0.1645 - acc: 0.9463\n",
            "Epoch 14: ReduceLROnPlateau reducing learning rate to 2.429999949526973e-06.\n",
            "94/94 [==============================] - 53s 559ms/step - loss: 0.1645 - acc: 0.9463 - val_loss: 1.0962 - val_acc: 0.8137 - lr: 8.1000e-06\n",
            "Epoch 15/20\n",
            "94/94 [==============================] - 53s 559ms/step - loss: 0.1560 - acc: 0.9479 - val_loss: 0.9873 - val_acc: 0.8287 - lr: 2.4300e-06\n",
            "Epoch 16/20\n",
            "94/94 [==============================] - ETA: 0s - loss: 0.1524 - acc: 0.9493\n",
            "Epoch 16: ReduceLROnPlateau reducing learning rate to 7.289999985005124e-07.\n",
            "94/94 [==============================] - 52s 555ms/step - loss: 0.1524 - acc: 0.9493 - val_loss: 0.9484 - val_acc: 0.8201 - lr: 2.4300e-06\n",
            "Epoch 17/20\n",
            "94/94 [==============================] - 52s 556ms/step - loss: 0.1530 - acc: 0.9510 - val_loss: 0.8803 - val_acc: 0.8373 - lr: 7.2900e-07\n"
          ]
        }
      ]
    },
    {
      "cell_type": "code",
      "source": [
        "\n",
        "model9.load_weights(\"best_model_MobnetV2.hdf5\")\n",
        "preds = model9.predict(X_test)\n",
        "labelled_preds = one_hot_encoder.inverse_transform(preds)\n",
        "pred = pd.DataFrame(labelled_preds, columns =[\"class_id\"])\n",
        "df = pd.read_csv('submission3.csv')\n",
        "df ['class_id']= pred\n",
        "df.to_csv(\"final_submission235543.csv\", index=False)"
      ],
      "metadata": {
        "id": "vlG5oT7T28kY",
        "colab": {
          "base_uri": "https://localhost:8080/"
        },
        "outputId": "a28e06cc-4df7-41de-c7ee-db45a26a58d5"
      },
      "execution_count": null,
      "outputs": [
        {
          "output_type": "stream",
          "name": "stdout",
          "text": [
            "37/37 [==============================] - 2s 21ms/step\n"
          ]
        }
      ]
    },
    {
      "cell_type": "markdown",
      "metadata": {
        "id": "svejUU-DvHu8"
      },
      "source": [
        "Soft Voting\n",
        "\n",
        "\n",
        "Get the final prediction while we keep only the 15 predictions"
      ]
    },
    {
      "cell_type": "code",
      "source": [
        "model1.load_weights(\"best_model_effnetB1.hdf5\")\n",
        "preds1 = model1.predict(X_test)\n",
        "\n",
        "model3.load_weights(\"best_model_effnetB3.hdf5\")\n",
        "preds3 = model3.predict(X_test)\n",
        "\n",
        "model31.load_weights(\"best_model_effnetB3_1.hdf5\")\n",
        "preds31 = model31.predict(X_test)\n",
        "\n",
        "model33.load_weights(\"best_model_effnetB3_3.hdf5\")\n",
        "preds33 = model33.predict(X_test)\n",
        "\n",
        "model34.load_weights(\"best_model_effnetB3_4.hdf5\")\n",
        "preds34 = model34.predict(X_test)\n",
        "\n",
        "model35.load_weights(\"best_model_effnetB3_5.hdf5\")\n",
        "preds35 = model35.predict(X_test)\n",
        "\n",
        "model36.load_weights(\"best_model_effnetB3_6.hdf5\")\n",
        "preds37 = model36.predict(X_test)\n",
        "\n",
        "model37.load_weights(\"best_model_effnetB3_7.hdf5\")\n",
        "preds38 = model37.predict(X_test)\n",
        "\n",
        "model4.load_weights(\"best_model_effnetV2B0.hdf5\")\n",
        "preds4 = model4.predict(X_test)\n",
        "\n",
        "model5.load_weights(\"best_model_effnetV2B1.hdf5\")\n",
        "preds5 = model5.predict(X_test)\n",
        "\n",
        "model7.load_weights(\"best_model_effnetV2B3.hdf5\")\n",
        "preds7 = model7.predict(X_test)\n",
        "\n",
        "model14.load_weights('best_model_EfficientNetV2M.hdf5')\n",
        "preds14 = model14.predict(X_test)\n",
        "\n",
        "model16.load_weights('best_model_EfficientNetV2M_2.hdf5')\n",
        "preds16 = model16.predict(X_test)\n",
        "\n",
        "model20.load_weights('best_model_EfficientNetV2M_3.hdf5')\n",
        "preds20 = model20.predict(X_test)\n",
        "\n",
        "model8.load_weights(\"best_model_Mobnet.hdf5\")\n",
        "preds8 = model8.predict(X_test)"
      ],
      "metadata": {
        "colab": {
          "base_uri": "https://localhost:8080/"
        },
        "id": "PbXqQlU07aNu",
        "outputId": "d726328f-4a21-4e19-c7c0-5f16a1438510"
      },
      "execution_count": null,
      "outputs": [
        {
          "output_type": "stream",
          "name": "stdout",
          "text": [
            "37/37 [==============================] - 2s 44ms/step\n",
            "37/37 [==============================] - 2s 64ms/step\n",
            "37/37 [==============================] - 2s 64ms/step\n",
            "37/37 [==============================] - 2s 64ms/step\n",
            "37/37 [==============================] - 2s 64ms/step\n",
            "37/37 [==============================] - 2s 64ms/step\n",
            "37/37 [==============================] - 2s 64ms/step\n",
            "37/37 [==============================] - 2s 64ms/step\n",
            "37/37 [==============================] - 1s 18ms/step\n",
            "37/37 [==============================] - 1s 23ms/step\n",
            "37/37 [==============================] - 1s 33ms/step\n",
            "37/37 [==============================] - 3s 92ms/step\n",
            "37/37 [==============================] - 3s 90ms/step\n",
            "37/37 [==============================] - 3s 92ms/step\n",
            "37/37 [==============================] - 1s 18ms/step\n"
          ]
        }
      ]
    },
    {
      "cell_type": "code",
      "execution_count": null,
      "metadata": {
        "id": "SOgsol5UoqfB",
        "colab": {
          "base_uri": "https://localhost:8080/"
        },
        "outputId": "28e1239f-aa03-4f8b-b0c3-33ba15c3f6a7"
      },
      "outputs": [
        {
          "output_type": "execute_result",
          "data": {
            "text/plain": [
              "array([[1],\n",
              "       [2],\n",
              "       [0],\n",
              "       ...,\n",
              "       [0],\n",
              "       [2],\n",
              "       [1]])"
            ]
          },
          "metadata": {},
          "execution_count": 89
        }
      ],
      "source": [
        "a = np.mean( np.array([preds1, preds3, preds31, preds33, preds34, preds35, preds37, preds38, preds4, preds5, preds7, preds8, preds14, preds16, preds20]), axis=0 )\n",
        "final_labels = one_hot_encoder.inverse_transform(a)\n",
        "final_labels\n"
      ]
    },
    {
      "cell_type": "markdown",
      "source": [
        "Final Results"
      ],
      "metadata": {
        "id": "qrEoLEtS3sOp"
      }
    },
    {
      "cell_type": "code",
      "execution_count": null,
      "metadata": {
        "id": "hkPTinnmoqcm"
      },
      "outputs": [],
      "source": [
        "\n",
        "pred = pd.DataFrame(final_labels, columns =[\"class_id\"])\n",
        "df = pd.read_csv('submission3.csv')\n",
        "df ['class_id']= pred\n",
        "df.to_csv(\"final_submissionn.csv\", index=False)"
      ]
    },
    {
      "cell_type": "code",
      "source": [],
      "metadata": {
        "id": "w0S1L0PvOfId"
      },
      "execution_count": null,
      "outputs": []
    }
  ],
  "metadata": {
    "colab": {
      "provenance": [],
      "machine_shape": "hm",
      "gpuType": "L4"
    },
    "kernelspec": {
      "display_name": "Python 3",
      "name": "python3"
    },
    "language_info": {
      "name": "python"
    },
    "accelerator": "GPU"
  },
  "nbformat": 4,
  "nbformat_minor": 0
}